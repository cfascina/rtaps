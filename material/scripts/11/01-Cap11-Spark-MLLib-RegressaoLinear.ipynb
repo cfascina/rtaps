{
 "cells": [
  {
   "cell_type": "markdown",
   "metadata": {},
   "source": [
    "# <font color='blue'>Data Science Academy</font>\n",
    "# <font color='blue'>Big Data Real-Time Analytics com Python e Spark</font>\n",
    "\n",
    "# <font color='blue'>Capítulo 11</font>"
   ]
  },
  {
   "cell_type": "markdown",
   "metadata": {},
   "source": [
    "### *********** Atenção: *********** \n",
    "Utilize Java JDK 1.8 ou 11 e Apache Spark 2.4.2"
   ]
  },
  {
   "cell_type": "markdown",
   "metadata": {},
   "source": [
    "****** Caso receba mensagem de erro \"name 'sc' is not defined\", interrompa o pyspark e apague o diretório metastore_db no mesmo diretório onde está este Jupyter notebook ******"
   ]
  },
  {
   "cell_type": "markdown",
   "metadata": {},
   "source": [
    "## <font color='blue'>Spark MLLib - Regressão Linear</font>"
   ]
  },
  {
   "cell_type": "markdown",
   "metadata": {},
   "source": [
    "<strong> Descrição </strong>\n",
    "<ul style=\"list-style-type:square\">\n",
    "  <li>Método para avaliar o relacionamento entre variáveis.</li>\n",
    "  <li>Estima o valor de uma variável dependente a partir dos valores das variáveis independentes.</li>\n",
    "  <li>Usado quando as variáveis dependente e independente são contínuas e possuem alguma correlação.</li>\n",
    "  <li>O R-Square mede quão perto os dados estão da linha de regressão. O valor do R-Squared será entre 0 e 1, sendo que quanto maior o valor, melhor.</li>\n",
    "  <li>Os dados de entrada e de saída são usados na construção do modelo. A equação linear retorna os valores dos coeficientes.</li>\n",
    "  <li>A equação linear representa o modelo.</li>\n",
    "</ul>"
   ]
  },
  {
   "cell_type": "markdown",
   "metadata": {},
   "source": [
    "<dl>\n",
    "  <dt>Vantagens</dt>\n",
    "  <dd>- Baixo custo</dd>\n",
    "  <dd>- Veloz</dd>\n",
    "  <dd>- Excelente para relações lineares</dd>\n",
    "  <br />\n",
    "  <dt>Desvantagens</dt>\n",
    "  <dd>- Somente variáveis numéricas</dd>\n",
    "  <dd>- Sensível a outliers</dd>\n",
    "  <br />\n",
    "  <dt>Aplicação</dt>\n",
    "  <dd>- Um dos modelos mais antigos e pode ser usado para resolver diversos problemas</dd>\n",
    "</dl>"
   ]
  },
  {
   "cell_type": "markdown",
   "metadata": {},
   "source": [
    "## Usaremos Regressão Linear para prever os valores de MPG (Miles Per Gallon)"
   ]
  },
  {
   "cell_type": "markdown",
   "metadata": {},
   "source": [
    "MPG será a variável target e as demais variáveis serão as features (variáveis preditoras)."
   ]
  },
  {
   "cell_type": "code",
   "execution_count": 1,
   "metadata": {},
   "outputs": [],
   "source": [
    "# Imports\n",
    "from pyspark.sql import Row\n",
    "from pyspark.ml.linalg import Vectors\n",
    "from pyspark.ml.regression import LinearRegression\n",
    "from pyspark.ml.evaluation import RegressionEvaluator"
   ]
  },
  {
   "cell_type": "code",
   "execution_count": 2,
   "metadata": {},
   "outputs": [],
   "source": [
    "# Spark Session - usada quando se trabalha com Dataframes no Spark\n",
    "spSession = SparkSession.builder.master(\"local\").appName(\"DSA-SparkMLLib\").getOrCreate()"
   ]
  },
  {
   "cell_type": "code",
   "execution_count": 3,
   "metadata": {},
   "outputs": [],
   "source": [
    "# Carregando os dados e gerando um RDD\n",
    "carrosRDD = sc.textFile(\"data/carros.csv\")"
   ]
  },
  {
   "cell_type": "code",
   "execution_count": 4,
   "metadata": {},
   "outputs": [
    {
     "data": {
      "text/plain": [
       "data/carros.csv MapPartitionsRDD[1] at textFile at NativeMethodAccessorImpl.java:0"
      ]
     },
     "execution_count": 4,
     "metadata": {},
     "output_type": "execute_result"
    }
   ],
   "source": [
    "# Colocando o RDD em cache. Esse processo otimiza a performance.\n",
    "carrosRDD.cache()"
   ]
  },
  {
   "cell_type": "code",
   "execution_count": 5,
   "metadata": {},
   "outputs": [
    {
     "data": {
      "text/plain": [
       "399"
      ]
     },
     "execution_count": 5,
     "metadata": {},
     "output_type": "execute_result"
    }
   ],
   "source": [
    "carrosRDD.count()"
   ]
  },
  {
   "cell_type": "code",
   "execution_count": 6,
   "metadata": {},
   "outputs": [
    {
     "data": {
      "text/plain": [
       "['MPG,CYLINDERS,DISPLACEMENT,HORSEPOWER,WEIGHT,ACCELERATION,MODELYEAR,NAME',\n",
       " '18,8,307,130,3504,12,70,chevrolet chevelle malibu',\n",
       " '15,8,350,165,3693,11.5,70,buick skylark 320',\n",
       " '18,8,318,150,3436,11,70,plymouth satellite',\n",
       " '16,8,304,150,3433,12,70,amc rebel sst']"
      ]
     },
     "execution_count": 6,
     "metadata": {},
     "output_type": "execute_result"
    }
   ],
   "source": [
    "carrosRDD.take(5)"
   ]
  },
  {
   "cell_type": "code",
   "execution_count": 7,
   "metadata": {},
   "outputs": [
    {
     "data": {
      "text/plain": [
       "398"
      ]
     },
     "execution_count": 7,
     "metadata": {},
     "output_type": "execute_result"
    }
   ],
   "source": [
    "# Removendo a primeira linha do arquivo (cabeçalho)\n",
    "carrosRDD2 = carrosRDD.filter(lambda x: \"DISPLACEMENT\" not in x)\n",
    "carrosRDD2.count()"
   ]
  },
  {
   "cell_type": "markdown",
   "metadata": {
    "collapsed": true
   },
   "source": [
    "## Limpeza dos Dados"
   ]
  },
  {
   "cell_type": "code",
   "execution_count": 8,
   "metadata": {},
   "outputs": [
    {
     "data": {
      "text/plain": [
       "['18,8,307,130,3504,12,70,chevrolet chevelle malibu',\n",
       " '15,8,350,165,3693,11.5,70,buick skylark 320',\n",
       " '18,8,318,150,3436,11,70,plymouth satellite',\n",
       " '16,8,304,150,3433,12,70,amc rebel sst',\n",
       " '17,8,302,140,3449,10.5,70,ford torino',\n",
       " '15,8,429,198,4341,10,70,ford galaxie 500',\n",
       " '14,8,454,220,4354,9,70,chevrolet impala',\n",
       " '14,8,440,215,4312,8.5,70,plymouth fury iii',\n",
       " '14,8,455,225,4425,10,70,pontiac catalina',\n",
       " '15,8,390,190,3850,8.5,70,amc ambassador dpl',\n",
       " '15,8,383,170,3563,10,70,dodge challenger se',\n",
       " \"14,8,340,160,3609,8,70,plymouth 'cuda 340\",\n",
       " '15,8,400,150,3761,9.5,70,chevrolet monte carlo',\n",
       " '14,8,455,225,3086,10,70,buick estate wagon (sw)',\n",
       " '24,4,113,95,2372,15,70,toyota corona mark ii',\n",
       " '22,6,198,95,2833,15.5,70,plymouth duster',\n",
       " '18,6,199,97,2774,15.5,70,amc hornet',\n",
       " '21,6,200,85,2587,16,70,ford maverick',\n",
       " '27,4,97,88,2130,14.5,70,datsun pl510',\n",
       " '26,4,97,46,1835,20.5,70,volkswagen 1131 deluxe sedan',\n",
       " '25,4,110,87,2672,17.5,70,peugeot 504',\n",
       " '24,4,107,90,2430,14.5,70,audi 100 ls',\n",
       " '25,4,104,95,2375,17.5,70,saab 99e',\n",
       " '26,4,121,113,2234,12.5,70,bmw 2002',\n",
       " '21,6,199,90,2648,15,70,amc gremlin',\n",
       " '10,8,360,215,4615,14,70,ford f250',\n",
       " '10,8,307,200,4376,15,70,chevy c20',\n",
       " '11,8,318,210,4382,13.5,70,dodge d200',\n",
       " '9,8,304,193,4732,18.5,70,hi 1200d',\n",
       " '27,4,97,88,2130,14.5,71,datsun pl510',\n",
       " '28,4,140,90,2264,15.5,71,chevrolet vega 2300',\n",
       " '25,4,113,95,2228,14,71,toyota corona',\n",
       " '25,4,98,?,2046,19,71,ford pinto',\n",
       " '19,6,232,100,2634,13,71,amc gremlin',\n",
       " '16,6,225,105,3439,15.5,71,plymouth satellite custom',\n",
       " '17,6,250,100,3329,15.5,71,chevrolet chevelle malibu',\n",
       " '19,6,250,88,3302,15.5,71,ford torino 500',\n",
       " '18,6,232,100,3288,15.5,71,amc matador',\n",
       " '14,8,350,165,4209,12,71,chevrolet impala',\n",
       " '14,8,400,175,4464,11.5,71,pontiac catalina brougham',\n",
       " '14,8,351,153,4154,13.5,71,ford galaxie 500',\n",
       " '14,8,318,150,4096,13,71,plymouth fury iii',\n",
       " '12,8,383,180,4955,11.5,71,dodge monaco (sw)',\n",
       " '13,8,400,170,4746,12,71,ford country squire (sw)',\n",
       " '13,8,400,175,5140,12,71,pontiac safari (sw)',\n",
       " '18,6,258,110,2962,13.5,71,amc hornet sportabout (sw)',\n",
       " '22,4,140,72,2408,19,71,chevrolet vega (sw)',\n",
       " '19,6,250,100,3282,15,71,pontiac firebird',\n",
       " '18,6,250,88,3139,14.5,71,ford mustang',\n",
       " '23,4,122,86,2220,14,71,mercury capri 2000',\n",
       " '28,4,116,90,2123,14,71,opel 1900',\n",
       " '30,4,79,70,2074,19.5,71,peugeot 304',\n",
       " '30,4,88,76,2065,14.5,71,fiat 124b',\n",
       " '31,4,71,65,1773,19,71,toyota corolla 1200',\n",
       " '35,4,72,69,1613,18,71,datsun 1200',\n",
       " '27,4,97,60,1834,19,71,volkswagen model 111',\n",
       " '26,4,91,70,1955,20.5,71,plymouth cricket',\n",
       " '24,4,113,95,2278,15.5,72,toyota corona hardtop',\n",
       " '25,4,97.5,80,2126,17,72,dodge colt hardtop',\n",
       " '23,4,97,54,2254,23.5,72,volkswagen type 3',\n",
       " '20,4,140,90,2408,19.5,72,chevrolet vega',\n",
       " '21,4,122,86,2226,16.5,72,ford pinto runabout',\n",
       " '13,8,350,165,4274,12,72,chevrolet impala',\n",
       " '14,8,400,175,4385,12,72,pontiac catalina',\n",
       " '15,8,318,150,4135,13.5,72,plymouth fury iii',\n",
       " '14,8,351,153,4129,13,72,ford galaxie 500',\n",
       " '17,8,304,150,3672,11.5,72,amc ambassador sst',\n",
       " '11,8,429,208,4633,11,72,mercury marquis',\n",
       " '13,8,350,155,4502,13.5,72,buick lesabre custom',\n",
       " '12,8,350,160,4456,13.5,72,oldsmobile delta 88 royale',\n",
       " '13,8,400,190,4422,12.5,72,chrysler newport royal',\n",
       " '19,3,70,97,2330,13.5,72,mazda rx2 coupe',\n",
       " '15,8,304,150,3892,12.5,72,amc matador (sw)',\n",
       " '13,8,307,130,4098,14,72,chevrolet chevelle concours (sw)',\n",
       " '13,8,302,140,4294,16,72,ford gran torino (sw)',\n",
       " '14,8,318,150,4077,14,72,plymouth satellite custom (sw)',\n",
       " '18,4,121,112,2933,14.5,72,volvo 145e (sw)',\n",
       " '22,4,121,76,2511,18,72,volkswagen 411 (sw)',\n",
       " '21,4,120,87,2979,19.5,72,peugeot 504 (sw)',\n",
       " '26,4,96,69,2189,18,72,renault 12 (sw)',\n",
       " '22,4,122,86,2395,16,72,ford pinto (sw)',\n",
       " '28,4,97,92,2288,17,72,datsun 510 (sw)',\n",
       " '23,4,120,97,2506,14.5,72,toyouta corona mark ii (sw)',\n",
       " '28,4,98,80,2164,15,72,dodge colt (sw)',\n",
       " '27,4,97,88,2100,16.5,72,toyota corolla 1600 (sw)',\n",
       " '13,8,350,175,4100,13,73,buick century 350',\n",
       " '14,8,304,150,3672,11.5,73,amc matador',\n",
       " '13,8,350,145,3988,13,73,chevrolet malibu',\n",
       " '14,8,302,137,4042,14.5,73,ford gran torino',\n",
       " '15,8,318,150,3777,12.5,73,dodge coronet custom',\n",
       " '12,8,429,198,4952,11.5,73,mercury marquis brougham',\n",
       " '13,8,400,150,4464,12,73,chevrolet caprice classic',\n",
       " '13,8,351,158,4363,13,73,ford ltd',\n",
       " '14,8,318,150,4237,14.5,73,plymouth fury gran sedan',\n",
       " '13,8,440,215,4735,11,73,chrysler new yorker brougham',\n",
       " '12,8,455,225,4951,11,73,buick electra 225 custom',\n",
       " '13,8,360,175,3821,11,73,amc ambassador brougham',\n",
       " '18,6,225,105,3121,16.5,73,plymouth valiant',\n",
       " '16,6,250,100,3278,18,73,chevrolet nova custom',\n",
       " '18,6,232,100,2945,16,73,amc hornet',\n",
       " '18,6,250,88,3021,16.5,73,ford maverick',\n",
       " '23,6,198,95,2904,16,73,plymouth duster',\n",
       " '26,4,97,46,1950,21,73,volkswagen super beetle',\n",
       " '11,8,400,150,4997,14,73,chevrolet impala',\n",
       " '12,8,400,167,4906,12.5,73,ford country',\n",
       " '13,8,360,170,4654,13,73,plymouth custom suburb',\n",
       " '12,8,350,180,4499,12.5,73,oldsmobile vista cruiser',\n",
       " '18,6,232,100,2789,15,73,amc gremlin',\n",
       " '20,4,97,88,2279,19,73,toyota carina',\n",
       " '21,4,140,72,2401,19.5,73,chevrolet vega',\n",
       " '22,4,108,94,2379,16.5,73,datsun 610',\n",
       " '18,3,70,90,2124,13.5,73,maxda rx3',\n",
       " '19,4,122,85,2310,18.5,73,ford pinto',\n",
       " '21,6,155,107,2472,14,73,mercury capri v6',\n",
       " '26,4,98,90,2265,15.5,73,fiat 124 sport coupe',\n",
       " '15,8,350,145,4082,13,73,chevrolet monte carlo s',\n",
       " '16,8,400,230,4278,9.5,73,pontiac grand prix',\n",
       " '29,4,68,49,1867,19.5,73,fiat 128',\n",
       " '24,4,116,75,2158,15.5,73,opel manta',\n",
       " '20,4,114,91,2582,14,73,audi 100ls',\n",
       " '19,4,121,112,2868,15.5,73,volvo 144ea',\n",
       " '15,8,318,150,3399,11,73,dodge dart custom',\n",
       " '24,4,121,110,2660,14,73,saab 99le',\n",
       " '20,6,156,122,2807,13.5,73,toyota mark ii',\n",
       " '11,8,350,180,3664,11,73,oldsmobile omega',\n",
       " '20,6,198,95,3102,16.5,74,plymouth duster',\n",
       " '21,6,200,?,2875,17,74,ford maverick',\n",
       " '19,6,232,100,2901,16,74,amc hornet',\n",
       " '15,6,250,100,3336,17,74,chevrolet nova',\n",
       " '31,4,79,67,1950,19,74,datsun b210',\n",
       " '26,4,122,80,2451,16.5,74,ford pinto',\n",
       " '32,4,71,65,1836,21,74,toyota corolla 1200',\n",
       " '25,4,140,75,2542,17,74,chevrolet vega',\n",
       " '16,6,250,100,3781,17,74,chevrolet chevelle malibu classic',\n",
       " '16,6,258,110,3632,18,74,amc matador',\n",
       " '18,6,225,105,3613,16.5,74,plymouth satellite sebring',\n",
       " '16,8,302,140,4141,14,74,ford gran torino',\n",
       " '13,8,350,150,4699,14.5,74,buick century luxus (sw)',\n",
       " '14,8,318,150,4457,13.5,74,dodge coronet custom (sw)',\n",
       " '14,8,302,140,4638,16,74,ford gran torino (sw)',\n",
       " '14,8,304,150,4257,15.5,74,amc matador (sw)',\n",
       " '29,4,98,83,2219,16.5,74,audi fox',\n",
       " '26,4,79,67,1963,15.5,74,volkswagen dasher',\n",
       " '26,4,97,78,2300,14.5,74,opel manta',\n",
       " '31,4,76,52,1649,16.5,74,toyota corona',\n",
       " '32,4,83,61,2003,19,74,datsun 710',\n",
       " '28,4,90,75,2125,14.5,74,dodge colt',\n",
       " '24,4,90,75,2108,15.5,74,fiat 128',\n",
       " '26,4,116,75,2246,14,74,fiat 124 tc',\n",
       " '24,4,120,97,2489,15,74,honda civic',\n",
       " '26,4,108,93,2391,15.5,74,subaru',\n",
       " '31,4,79,67,2000,16,74,fiat x1.9',\n",
       " '19,6,225,95,3264,16,75,plymouth valiant custom',\n",
       " '18,6,250,105,3459,16,75,chevrolet nova',\n",
       " '15,6,250,72,3432,21,75,mercury monarch',\n",
       " '15,6,250,72,3158,19.5,75,ford maverick',\n",
       " '16,8,400,170,4668,11.5,75,pontiac catalina',\n",
       " '15,8,350,145,4440,14,75,chevrolet bel air',\n",
       " '16,8,318,150,4498,14.5,75,plymouth grand fury',\n",
       " '14,8,351,148,4657,13.5,75,ford ltd',\n",
       " '17,6,231,110,3907,21,75,buick century',\n",
       " '16,6,250,105,3897,18.5,75,chevroelt chevelle malibu',\n",
       " '15,6,258,110,3730,19,75,amc matador',\n",
       " '18,6,225,95,3785,19,75,plymouth fury',\n",
       " '21,6,231,110,3039,15,75,buick skyhawk',\n",
       " '20,8,262,110,3221,13.5,75,chevrolet monza 2+2',\n",
       " '13,8,302,129,3169,12,75,ford mustang ii',\n",
       " '29,4,97,75,2171,16,75,toyota corolla',\n",
       " '23,4,140,83,2639,17,75,ford pinto',\n",
       " '20,6,232,100,2914,16,75,amc gremlin',\n",
       " '23,4,140,78,2592,18.5,75,pontiac astro',\n",
       " '24,4,134,96,2702,13.5,75,toyota corona',\n",
       " '25,4,90,71,2223,16.5,75,volkswagen dasher',\n",
       " '24,4,119,97,2545,17,75,datsun 710',\n",
       " '18,6,171,97,2984,14.5,75,ford pinto',\n",
       " '29,4,90,70,1937,14,75,volkswagen rabbit',\n",
       " '19,6,232,90,3211,17,75,amc pacer',\n",
       " '23,4,115,95,2694,15,75,audi 100ls',\n",
       " '23,4,120,88,2957,17,75,peugeot 504',\n",
       " '22,4,121,98,2945,14.5,75,volvo 244dl',\n",
       " '25,4,121,115,2671,13.5,75,saab 99le',\n",
       " '33,4,91,53,1795,17.5,75,honda civic cvcc',\n",
       " '28,4,107,86,2464,15.5,76,fiat 131',\n",
       " '25,4,116,81,2220,16.9,76,opel 1900',\n",
       " '25,4,140,92,2572,14.9,76,capri ii',\n",
       " '26,4,98,79,2255,17.7,76,dodge colt',\n",
       " '27,4,101,83,2202,15.3,76,renault 12tl',\n",
       " '17.5,8,305,140,4215,13,76,chevrolet chevelle malibu classic',\n",
       " '16,8,318,150,4190,13,76,dodge coronet brougham',\n",
       " '15.5,8,304,120,3962,13.9,76,amc matador',\n",
       " '14.5,8,351,152,4215,12.8,76,ford gran torino',\n",
       " '22,6,225,100,3233,15.4,76,plymouth valiant',\n",
       " '22,6,250,105,3353,14.5,76,chevrolet nova',\n",
       " '24,6,200,81,3012,17.6,76,ford maverick',\n",
       " '22.5,6,232,90,3085,17.6,76,amc hornet',\n",
       " '29,4,85,52,2035,22.2,76,chevrolet chevette',\n",
       " '24.5,4,98,60,2164,22.1,76,chevrolet woody',\n",
       " '29,4,90,70,1937,14.2,76,vw rabbit',\n",
       " '33,4,91,53,1795,17.4,76,honda civic',\n",
       " '20,6,225,100,3651,17.7,76,dodge aspen se',\n",
       " '18,6,250,78,3574,21,76,ford granada ghia',\n",
       " '18.5,6,250,110,3645,16.2,76,pontiac ventura sj',\n",
       " '17.5,6,258,95,3193,17.8,76,amc pacer d/l',\n",
       " '29.5,4,97,71,1825,12.2,76,volkswagen rabbit',\n",
       " '32,4,85,70,1990,17,76,datsun b-210',\n",
       " '28,4,97,75,2155,16.4,76,toyota corolla',\n",
       " '26.5,4,140,72,2565,13.6,76,ford pinto',\n",
       " '20,4,130,102,3150,15.7,76,volvo 245',\n",
       " '13,8,318,150,3940,13.2,76,plymouth volare premier v8',\n",
       " '19,4,120,88,3270,21.9,76,peugeot 504',\n",
       " '19,6,156,108,2930,15.5,76,toyota mark ii',\n",
       " '16.5,6,168,120,3820,16.7,76,mercedes-benz 280s',\n",
       " '16.5,8,350,180,4380,12.1,76,cadillac seville',\n",
       " '13,8,350,145,4055,12,76,chevy c10',\n",
       " '13,8,302,130,3870,15,76,ford f108',\n",
       " '13,8,318,150,3755,14,76,dodge d100',\n",
       " '31.5,4,98,68,2045,18.5,77,honda accord cvcc',\n",
       " '30,4,111,80,2155,14.8,77,buick opel isuzu deluxe',\n",
       " '36,4,79,58,1825,18.6,77,renault 5 gtl',\n",
       " '25.5,4,122,96,2300,15.5,77,plymouth arrow gs',\n",
       " '33.5,4,85,70,1945,16.8,77,datsun f-10 hatchback',\n",
       " '17.5,8,305,145,3880,12.5,77,chevrolet caprice classic',\n",
       " '17,8,260,110,4060,19,77,oldsmobile cutlass supreme',\n",
       " '15.5,8,318,145,4140,13.7,77,dodge monaco brougham',\n",
       " '15,8,302,130,4295,14.9,77,mercury cougar brougham',\n",
       " '17.5,6,250,110,3520,16.4,77,chevrolet concours',\n",
       " '20.5,6,231,105,3425,16.9,77,buick skylark',\n",
       " '19,6,225,100,3630,17.7,77,plymouth volare custom',\n",
       " '18.5,6,250,98,3525,19,77,ford granada',\n",
       " '16,8,400,180,4220,11.1,77,pontiac grand prix lj',\n",
       " '15.5,8,350,170,4165,11.4,77,chevrolet monte carlo landau',\n",
       " '15.5,8,400,190,4325,12.2,77,chrysler cordoba',\n",
       " '16,8,351,149,4335,14.5,77,ford thunderbird',\n",
       " '29,4,97,78,1940,14.5,77,volkswagen rabbit custom',\n",
       " '24.5,4,151,88,2740,16,77,pontiac sunbird coupe',\n",
       " '26,4,97,75,2265,18.2,77,toyota corolla liftback',\n",
       " '25.5,4,140,89,2755,15.8,77,ford mustang ii 2+2',\n",
       " '30.5,4,98,63,2051,17,77,chevrolet chevette',\n",
       " '33.5,4,98,83,2075,15.9,77,dodge colt m/m',\n",
       " '30,4,97,67,1985,16.4,77,subaru dl',\n",
       " '30.5,4,97,78,2190,14.1,77,volkswagen dasher',\n",
       " '22,6,146,97,2815,14.5,77,datsun 810',\n",
       " '21.5,4,121,110,2600,12.8,77,bmw 320i',\n",
       " '21.5,3,80,110,2720,13.5,77,mazda rx-4',\n",
       " '43.1,4,90,48,1985,21.5,78,volkswagen rabbit custom diesel',\n",
       " '36.1,4,98,66,1800,14.4,78,ford fiesta',\n",
       " '32.8,4,78,52,1985,19.4,78,mazda glc deluxe',\n",
       " '39.4,4,85,70,2070,18.6,78,datsun b210 gx',\n",
       " '36.1,4,91,60,1800,16.4,78,honda civic cvcc',\n",
       " '19.9,8,260,110,3365,15.5,78,oldsmobile cutlass salon brougham',\n",
       " '19.4,8,318,140,3735,13.2,78,dodge diplomat',\n",
       " '20.2,8,302,139,3570,12.8,78,mercury monarch ghia',\n",
       " '19.2,6,231,105,3535,19.2,78,pontiac phoenix lj',\n",
       " '20.5,6,200,95,3155,18.2,78,chevrolet malibu',\n",
       " '20.2,6,200,85,2965,15.8,78,ford fairmont (auto)',\n",
       " '25.1,4,140,88,2720,15.4,78,ford fairmont (man)',\n",
       " '20.5,6,225,100,3430,17.2,78,plymouth volare',\n",
       " '19.4,6,232,90,3210,17.2,78,amc concord',\n",
       " '20.6,6,231,105,3380,15.8,78,buick century special',\n",
       " '20.8,6,200,85,3070,16.7,78,mercury zephyr',\n",
       " '18.6,6,225,110,3620,18.7,78,dodge aspen',\n",
       " '18.1,6,258,120,3410,15.1,78,amc concord d/l',\n",
       " '19.2,8,305,145,3425,13.2,78,chevrolet monte carlo landau',\n",
       " '17.7,6,231,165,3445,13.4,78,buick regal sport coupe (turbo)',\n",
       " '18.1,8,302,139,3205,11.2,78,ford futura',\n",
       " '17.5,8,318,140,4080,13.7,78,dodge magnum xe',\n",
       " '30,4,98,68,2155,16.5,78,chevrolet chevette',\n",
       " '27.5,4,134,95,2560,14.2,78,toyota corona',\n",
       " '27.2,4,119,97,2300,14.7,78,datsun 510',\n",
       " '30.9,4,105,75,2230,14.5,78,dodge omni',\n",
       " '21.1,4,134,95,2515,14.8,78,toyota celica gt liftback',\n",
       " '23.2,4,156,105,2745,16.7,78,plymouth sapporo',\n",
       " '23.8,4,151,85,2855,17.6,78,oldsmobile starfire sx',\n",
       " '23.9,4,119,97,2405,14.9,78,datsun 200-sx',\n",
       " '20.3,5,131,103,2830,15.9,78,audi 5000',\n",
       " '17,6,163,125,3140,13.6,78,volvo 264gl',\n",
       " '21.6,4,121,115,2795,15.7,78,saab 99gle',\n",
       " '16.2,6,163,133,3410,15.8,78,peugeot 604sl',\n",
       " '31.5,4,89,71,1990,14.9,78,volkswagen scirocco',\n",
       " '29.5,4,98,68,2135,16.6,78,honda accord lx',\n",
       " '21.5,6,231,115,3245,15.4,79,pontiac lemans v6',\n",
       " '19.8,6,200,85,2990,18.2,79,mercury zephyr 6',\n",
       " '22.3,4,140,88,2890,17.3,79,ford fairmont 4',\n",
       " '20.2,6,232,90,3265,18.2,79,amc concord dl 6',\n",
       " '20.6,6,225,110,3360,16.6,79,dodge aspen 6',\n",
       " '17,8,305,130,3840,15.4,79,chevrolet caprice classic',\n",
       " '17.6,8,302,129,3725,13.4,79,ford ltd landau',\n",
       " '16.5,8,351,138,3955,13.2,79,mercury grand marquis',\n",
       " '18.2,8,318,135,3830,15.2,79,dodge st. regis',\n",
       " '16.9,8,350,155,4360,14.9,79,buick estate wagon (sw)',\n",
       " '15.5,8,351,142,4054,14.3,79,ford country squire (sw)',\n",
       " '19.2,8,267,125,3605,15,79,chevrolet malibu classic (sw)',\n",
       " '18.5,8,360,150,3940,13,79,chrysler lebaron town @ country (sw)',\n",
       " '31.9,4,89,71,1925,14,79,vw rabbit custom',\n",
       " '34.1,4,86,65,1975,15.2,79,maxda glc deluxe',\n",
       " '35.7,4,98,80,1915,14.4,79,dodge colt hatchback custom',\n",
       " '27.4,4,121,80,2670,15,79,amc spirit dl',\n",
       " '25.4,5,183,77,3530,20.1,79,mercedes benz 300d',\n",
       " '23,8,350,125,3900,17.4,79,cadillac eldorado',\n",
       " '27.2,4,141,71,3190,24.8,79,peugeot 504',\n",
       " '23.9,8,260,90,3420,22.2,79,oldsmobile cutlass salon brougham',\n",
       " '34.2,4,105,70,2200,13.2,79,plymouth horizon',\n",
       " '34.5,4,105,70,2150,14.9,79,plymouth horizon tc3',\n",
       " '31.8,4,85,65,2020,19.2,79,datsun 210',\n",
       " '37.3,4,91,69,2130,14.7,79,fiat strada custom',\n",
       " '28.4,4,151,90,2670,16,79,buick skylark limited',\n",
       " '28.8,6,173,115,2595,11.3,79,chevrolet citation',\n",
       " '26.8,6,173,115,2700,12.9,79,oldsmobile omega brougham',\n",
       " '33.5,4,151,90,2556,13.2,79,pontiac phoenix',\n",
       " '41.5,4,98,76,2144,14.7,80,vw rabbit',\n",
       " '38.1,4,89,60,1968,18.8,80,toyota corolla tercel',\n",
       " '32.1,4,98,70,2120,15.5,80,chevrolet chevette',\n",
       " '37.2,4,86,65,2019,16.4,80,datsun 310',\n",
       " '28,4,151,90,2678,16.5,80,chevrolet citation',\n",
       " '26.4,4,140,88,2870,18.1,80,ford fairmont',\n",
       " '24.3,4,151,90,3003,20.1,80,amc concord',\n",
       " '19.1,6,225,90,3381,18.7,80,dodge aspen',\n",
       " '34.3,4,97,78,2188,15.8,80,audi 4000',\n",
       " '29.8,4,134,90,2711,15.5,80,toyota corona liftback',\n",
       " '31.3,4,120,75,2542,17.5,80,mazda 626',\n",
       " '37,4,119,92,2434,15,80,datsun 510 hatchback',\n",
       " '32.2,4,108,75,2265,15.2,80,toyota corolla',\n",
       " '46.6,4,86,65,2110,17.9,80,mazda glc',\n",
       " '27.9,4,156,105,2800,14.4,80,dodge colt',\n",
       " '40.8,4,85,65,2110,19.2,80,datsun 210',\n",
       " '44.3,4,90,48,2085,21.7,80,vw rabbit c (diesel)',\n",
       " '43.4,4,90,48,2335,23.7,80,vw dasher (diesel)',\n",
       " '36.4,5,121,67,2950,19.9,80,audi 5000s (diesel)',\n",
       " '30,4,146,67,3250,21.8,80,mercedes-benz 240d',\n",
       " '44.6,4,91,67,1850,13.8,80,honda civic 1500 gl',\n",
       " '40.9,4,85,?,1835,17.3,80,renault lecar deluxe',\n",
       " '33.8,4,97,67,2145,18,80,subaru dl',\n",
       " '29.8,4,89,62,1845,15.3,80,vokswagen rabbit',\n",
       " '32.7,6,168,132,2910,11.4,80,datsun 280-zx',\n",
       " '23.7,3,70,100,2420,12.5,80,mazda rx-7 gs',\n",
       " '35,4,122,88,2500,15.1,80,triumph tr7 coupe',\n",
       " '23.6,4,140,?,2905,14.3,80,ford mustang cobra',\n",
       " '32.4,4,107,72,2290,17,80,honda accord',\n",
       " '27.2,4,135,84,2490,15.7,81,plymouth reliant',\n",
       " '26.6,4,151,84,2635,16.4,81,buick skylark',\n",
       " '25.8,4,156,92,2620,14.4,81,dodge aries wagon (sw)',\n",
       " '23.5,6,173,110,2725,12.6,81,chevrolet citation',\n",
       " '30,4,135,84,2385,12.9,81,plymouth reliant',\n",
       " '39.1,4,79,58,1755,16.9,81,toyota starlet',\n",
       " '39,4,86,64,1875,16.4,81,plymouth champ',\n",
       " '35.1,4,81,60,1760,16.1,81,honda civic 1300',\n",
       " '32.3,4,97,67,2065,17.8,81,subaru',\n",
       " '37,4,85,65,1975,19.4,81,datsun 210 mpg',\n",
       " '37.7,4,89,62,2050,17.3,81,toyota tercel',\n",
       " '34.1,4,91,68,1985,16,81,mazda glc 4',\n",
       " '34.7,4,105,63,2215,14.9,81,plymouth horizon 4',\n",
       " '34.4,4,98,65,2045,16.2,81,ford escort 4w',\n",
       " '29.9,4,98,65,2380,20.7,81,ford escort 2h',\n",
       " '33,4,105,74,2190,14.2,81,volkswagen jetta',\n",
       " '34.5,4,100,?,2320,15.8,81,renault 18i',\n",
       " '33.7,4,107,75,2210,14.4,81,honda prelude',\n",
       " '32.4,4,108,75,2350,16.8,81,toyota corolla',\n",
       " '32.9,4,119,100,2615,14.8,81,datsun 200sx',\n",
       " '31.6,4,120,74,2635,18.3,81,mazda 626',\n",
       " '28.1,4,141,80,3230,20.4,81,peugeot 505s turbo diesel',\n",
       " '30.7,6,145,76,3160,19.6,81,volvo diesel',\n",
       " '25.4,6,168,116,2900,12.6,81,toyota cressida',\n",
       " '24.2,6,146,120,2930,13.8,81,datsun 810 maxima',\n",
       " '22.4,6,231,110,3415,15.8,81,buick century',\n",
       " '26.6,8,350,105,3725,19,81,oldsmobile cutlass ls',\n",
       " '20.2,6,200,88,3060,17.1,81,ford granada gl',\n",
       " '17.6,6,225,85,3465,16.6,81,chrysler lebaron salon',\n",
       " '28,4,112,88,2605,19.6,82,chevrolet cavalier',\n",
       " '27,4,112,88,2640,18.6,82,chevrolet cavalier wagon',\n",
       " '34,4,112,88,2395,18,82,chevrolet cavalier 2-door',\n",
       " '31,4,112,85,2575,16.2,82,pontiac j2000 se hatchback',\n",
       " '29,4,135,84,2525,16,82,dodge aries se',\n",
       " '27,4,151,90,2735,18,82,pontiac phoenix',\n",
       " '24,4,140,92,2865,16.4,82,ford fairmont futura',\n",
       " '23,4,151,?,3035,20.5,82,amc concord dl',\n",
       " '36,4,105,74,1980,15.3,82,volkswagen rabbit l',\n",
       " '37,4,91,68,2025,18.2,82,mazda glc custom l',\n",
       " '31,4,91,68,1970,17.6,82,mazda glc custom',\n",
       " '38,4,105,63,2125,14.7,82,plymouth horizon miser',\n",
       " '36,4,98,70,2125,17.3,82,mercury lynx l',\n",
       " '36,4,120,88,2160,14.5,82,nissan stanza xe',\n",
       " '36,4,107,75,2205,14.5,82,honda accord',\n",
       " '34,4,108,70,2245,16.9,82,toyota corolla',\n",
       " '38,4,91,67,1965,15,82,honda civic',\n",
       " '32,4,91,67,1965,15.7,82,honda civic (auto)',\n",
       " '38,4,91,67,1995,16.2,82,datsun 310 gx',\n",
       " '25,6,181,110,2945,16.4,82,buick century limited',\n",
       " '38,6,262,85,3015,17,82,oldsmobile cutlass ciera (diesel)',\n",
       " '26,4,156,92,2585,14.5,82,chrysler lebaron medallion',\n",
       " '22,6,232,112,2835,14.7,82,ford granada l',\n",
       " '32,4,144,96,2665,13.9,82,toyota celica gt',\n",
       " '36,4,135,84,2370,13,82,dodge charger 2.2',\n",
       " '27,4,151,90,2950,17.3,82,chevrolet camaro',\n",
       " '27,4,140,86,2790,15.6,82,ford mustang gl',\n",
       " '44,4,97,52,2130,24.6,82,vw pickup',\n",
       " '32,4,135,84,2295,11.6,82,dodge rampage',\n",
       " '28,4,120,79,2625,18.6,82,ford ranger',\n",
       " '31,4,119,82,2720,19.4,82,chevy s-10']"
      ]
     },
     "execution_count": 8,
     "metadata": {},
     "output_type": "execute_result"
    }
   ],
   "source": [
    "carrosRDD2.take(398)"
   ]
  },
  {
   "cell_type": "code",
   "execution_count": 9,
   "metadata": {},
   "outputs": [],
   "source": [
    "# Usando um valor padrão para average HP (que será usado para preencher os valores missing)\n",
    "mediaHP = sc.broadcast(75.0)"
   ]
  },
  {
   "cell_type": "code",
   "execution_count": 10,
   "metadata": {},
   "outputs": [],
   "source": [
    "# Função para limpeza dos dados\n",
    "def limpaDados(inputStr) :\n",
    "    global mediaHP\n",
    "    attList = inputStr.split(\",\")\n",
    "    \n",
    "    # Substitui o caracter ? por um valor\n",
    "    hpValue = attList[3]\n",
    "    if hpValue == \"?\":\n",
    "        hpValue = mediaHP.value\n",
    "       \n",
    "    # Cria uma linha usando a função Row, limpando e convertendo os dados de string para float\n",
    "    linhas = Row(MPG = float(attList[0]), CYLINDERS = float(attList[1]), DISPLACEMENT = float(attList[2]), \n",
    "                 HORSEPOWER = float(hpValue), WEIGHT = float(attList[4]), ACCELERATION = float(attList[5]), \n",
    "                 MODELYEAR = float(attList[6]), NAME = attList[7]) \n",
    "    return linhas"
   ]
  },
  {
   "cell_type": "code",
   "execution_count": 11,
   "metadata": {},
   "outputs": [
    {
     "data": {
      "text/plain": [
       "[Row(ACCELERATION=12.0, CYLINDERS=8.0, DISPLACEMENT=307.0, HORSEPOWER=130.0, MODELYEAR=70.0, MPG=18.0, NAME='chevrolet chevelle malibu', WEIGHT=3504.0),\n",
       " Row(ACCELERATION=11.5, CYLINDERS=8.0, DISPLACEMENT=350.0, HORSEPOWER=165.0, MODELYEAR=70.0, MPG=15.0, NAME='buick skylark 320', WEIGHT=3693.0),\n",
       " Row(ACCELERATION=11.0, CYLINDERS=8.0, DISPLACEMENT=318.0, HORSEPOWER=150.0, MODELYEAR=70.0, MPG=18.0, NAME='plymouth satellite', WEIGHT=3436.0),\n",
       " Row(ACCELERATION=12.0, CYLINDERS=8.0, DISPLACEMENT=304.0, HORSEPOWER=150.0, MODELYEAR=70.0, MPG=16.0, NAME='amc rebel sst', WEIGHT=3433.0),\n",
       " Row(ACCELERATION=10.5, CYLINDERS=8.0, DISPLACEMENT=302.0, HORSEPOWER=140.0, MODELYEAR=70.0, MPG=17.0, NAME='ford torino', WEIGHT=3449.0)]"
      ]
     },
     "execution_count": 11,
     "metadata": {},
     "output_type": "execute_result"
    }
   ],
   "source": [
    "# Executa a função no RDD\n",
    "carrosRDD3 = carrosRDD2.map(limpaDados)\n",
    "carrosRDD3.cache()\n",
    "carrosRDD3.take(5)"
   ]
  },
  {
   "cell_type": "markdown",
   "metadata": {},
   "source": [
    "## Análise Exploratória de Dados"
   ]
  },
  {
   "cell_type": "code",
   "execution_count": 12,
   "metadata": {},
   "outputs": [],
   "source": [
    "# Cria um Dataframe\n",
    "carrosDF = spSession.createDataFrame(carrosRDD3)"
   ]
  },
  {
   "cell_type": "code",
   "execution_count": 13,
   "metadata": {},
   "outputs": [
    {
     "name": "stdout",
     "output_type": "stream",
     "text": [
      "+-------+-----------------+------------------+\n",
      "|summary|              MPG|         CYLINDERS|\n",
      "+-------+-----------------+------------------+\n",
      "|  count|              398|               398|\n",
      "|   mean|23.51457286432161| 5.454773869346734|\n",
      "| stddev|7.815984312565782|1.7010042445332125|\n",
      "|    min|              9.0|               3.0|\n",
      "|    max|             46.6|               8.0|\n",
      "+-------+-----------------+------------------+\n",
      "\n"
     ]
    }
   ],
   "source": [
    "# Estatísticas descritivas\n",
    "carrosDF.select(\"MPG\",\"CYLINDERS\").describe().show()"
   ]
  },
  {
   "cell_type": "code",
   "execution_count": 14,
   "metadata": {},
   "outputs": [
    {
     "name": "stdout",
     "output_type": "stream",
     "text": [
      "Correlação da variável MPG com ACCELERATION 0.42028891210165004\n",
      "Correlação da variável MPG com CYLINDERS -0.7753962854205548\n",
      "Correlação da variável MPG com DISPLACEMENT -0.8042028248058979\n",
      "Correlação da variável MPG com HORSEPOWER -0.774704152349872\n",
      "Correlação da variável MPG com MODELYEAR 0.5792671330833091\n",
      "Correlação da variável MPG com MPG 1.0\n",
      "Correlação da variável MPG com WEIGHT -0.8317409332443347\n"
     ]
    }
   ],
   "source": [
    "# Encontrando a correlação entre a variável target com as variáveis preditoras\n",
    "for i in carrosDF.columns:\n",
    "    if not(isinstance(carrosDF.select(i).take(1)[0][0], str)) :\n",
    "        print(\"Correlação da variável MPG com\", i, carrosDF.stat.corr('MPG', i))"
   ]
  },
  {
   "cell_type": "markdown",
   "metadata": {},
   "source": [
    "## Pré-Processamento dos Dados"
   ]
  },
  {
   "cell_type": "code",
   "execution_count": 15,
   "metadata": {},
   "outputs": [
    {
     "data": {
      "image/png": "[encoded data removed]",
      "text/plain": [
       "<IPython.core.display.Image object>"
      ]
     },
     "execution_count": 15,
     "metadata": {},
     "output_type": "execute_result"
    }
   ],
   "source": [
    "from IPython.display import Image\n",
    "Image(\"imagens/vetores.png\")"
   ]
  },
  {
   "cell_type": "markdown",
   "metadata": {},
   "source": [
    "Vetores esparsos são vetores que tem muitos valores como zero. Enquanto um vetor denso é quando a maioria dos valores no vetor são diferentes de zero.\n",
    "\n",
    "Conceitualmente são o mesmo objeto. Apenas um vetor. Normalmente, o vetor esparso é representado por uma tupla (id, valor).\n",
    "\n",
    "Por exemplo, um vetor denso (1, 2, 0, 0, 5, 0, 9, 0, 0) seria representado como vetor esparso assim: {(0,1,4,6), (1, 2, 5, 9)}"
   ]
  },
  {
   "cell_type": "code",
   "execution_count": 16,
   "metadata": {},
   "outputs": [],
   "source": [
    "# Convertendo para um LabeledPoint (target, Vector[features])\n",
    "# Remove colunas não relevantes para o modelo ou com baixa correlação\n",
    "def transformaVar(row) :\n",
    "    obj = (row[\"MPG\"], Vectors.dense([row[\"ACCELERATION\"], row[\"DISPLACEMENT\"], row[\"WEIGHT\"]]))\n",
    "    return obj"
   ]
  },
  {
   "cell_type": "code",
   "execution_count": 17,
   "metadata": {},
   "outputs": [
    {
     "name": "stdout",
     "output_type": "stream",
     "text": [
      "+-----+-------------------+\n",
      "|label|           features|\n",
      "+-----+-------------------+\n",
      "| 18.0|[12.0,307.0,3504.0]|\n",
      "| 15.0|[11.5,350.0,3693.0]|\n",
      "| 18.0|[11.0,318.0,3436.0]|\n",
      "| 16.0|[12.0,304.0,3433.0]|\n",
      "| 17.0|[10.5,302.0,3449.0]|\n",
      "| 15.0|[10.0,429.0,4341.0]|\n",
      "| 14.0| [9.0,454.0,4354.0]|\n",
      "| 14.0| [8.5,440.0,4312.0]|\n",
      "| 14.0|[10.0,455.0,4425.0]|\n",
      "| 15.0| [8.5,390.0,3850.0]|\n",
      "+-----+-------------------+\n",
      "only showing top 10 rows\n",
      "\n"
     ]
    }
   ],
   "source": [
    "# Utiliza o RDD, aplica a função, converte para Dataframe e aplica a função select()\n",
    "carrosRDD4 = carrosRDD3.map(transformaVar)\n",
    "carrosDF = spSession.createDataFrame(carrosRDD4,[\"label\", \"features\"])\n",
    "carrosDF.select(\"label\",\"features\").show(10)"
   ]
  },
  {
   "cell_type": "code",
   "execution_count": 18,
   "metadata": {},
   "outputs": [
    {
     "data": {
      "text/plain": [
       "[(18.0, DenseVector([12.0, 307.0, 3504.0])),\n",
       " (15.0, DenseVector([11.5, 350.0, 3693.0])),\n",
       " (18.0, DenseVector([11.0, 318.0, 3436.0])),\n",
       " (16.0, DenseVector([12.0, 304.0, 3433.0])),\n",
       " (17.0, DenseVector([10.5, 302.0, 3449.0]))]"
      ]
     },
     "execution_count": 18,
     "metadata": {},
     "output_type": "execute_result"
    }
   ],
   "source": [
    "carrosRDD4.take(5)"
   ]
  },
  {
   "cell_type": "markdown",
   "metadata": {},
   "source": [
    "## Machine Learning"
   ]
  },
  {
   "cell_type": "code",
   "execution_count": 19,
   "metadata": {},
   "outputs": [],
   "source": [
    "# Dados de Treino e de Teste\n",
    "(dados_treino, dados_teste) = carrosDF.randomSplit([0.7, 0.3])"
   ]
  },
  {
   "cell_type": "code",
   "execution_count": 20,
   "metadata": {},
   "outputs": [
    {
     "data": {
      "text/plain": [
       "296"
      ]
     },
     "execution_count": 20,
     "metadata": {},
     "output_type": "execute_result"
    }
   ],
   "source": [
    "dados_treino.count()"
   ]
  },
  {
   "cell_type": "code",
   "execution_count": 21,
   "metadata": {},
   "outputs": [
    {
     "data": {
      "text/plain": [
       "102"
      ]
     },
     "execution_count": 21,
     "metadata": {},
     "output_type": "execute_result"
    }
   ],
   "source": [
    "dados_teste.count()"
   ]
  },
  {
   "cell_type": "code",
   "execution_count": 22,
   "metadata": {},
   "outputs": [],
   "source": [
    "# Treinamento e criação do modelo\n",
    "linearReg = LinearRegression(maxIter = 10)\n",
    "modelo = linearReg.fit(dados_treino)"
   ]
  },
  {
   "cell_type": "code",
   "execution_count": 23,
   "metadata": {},
   "outputs": [
    {
     "name": "stdout",
     "output_type": "stream",
     "text": [
      "LinearRegression_e0448a5595da\n"
     ]
    }
   ],
   "source": [
    "print(modelo)"
   ]
  },
  {
   "cell_type": "code",
   "execution_count": 24,
   "metadata": {},
   "outputs": [
    {
     "name": "stdout",
     "output_type": "stream",
     "text": [
      "Coeficientes: [0.2275914519326297,-0.011529922814702413,-0.006087116913074124]\n",
      "Intercepto: 40.38338961793662\n"
     ]
    }
   ],
   "source": [
    "# Imprimindo as métricas\n",
    "print(\"Coeficientes: \" + str(modelo.coefficients))\n",
    "print(\"Intercepto: \" + str(modelo.intercept))"
   ]
  },
  {
   "cell_type": "code",
   "execution_count": 25,
   "metadata": {},
   "outputs": [
    {
     "name": "stdout",
     "output_type": "stream",
     "text": [
      "+-------------------+------------------+\n",
      "|           features|        prediction|\n",
      "+-------------------+------------------+\n",
      "|[14.0,400.0,4997.0]| 8.540377604481073|\n",
      "|[11.0,455.0,4951.0]| 7.503464871875963|\n",
      "|[12.5,350.0,4499.0]|11.806870790028167|\n",
      "|[13.5,350.0,4456.0]| 12.29620826922298|\n",
      "|[11.0,360.0,3821.0]| 15.47724965104645|\n",
      "|[12.0,302.0,3169.0]| 20.34237685355615|\n",
      "|[13.0,350.0,3988.0]|15.031183258575357|\n",
      "|[13.0,360.0,4654.0]|10.861864166320967|\n",
      "| [8.5,440.0,4312.0]| 10.99710279171929|\n",
      "|[13.0,351.0,4129.0]|14.161369851017202|\n",
      "|[13.5,351.0,4154.0]|14.122987654156663|\n",
      "|[11.5,350.0,3693.0]|16.485495570033276|\n",
      "|[13.5,318.0,4135.0]|14.619130328390252|\n",
      "|[19.0,258.0,3730.0]| 19.02796103269688|\n",
      "|[11.5,400.0,4668.0]| 9.974060439050888|\n",
      "|[18.0,258.0,3632.0]|19.396907038245516|\n",
      "|[18.5,250.0,3897.0]|17.989856164764806|\n",
      "|[14.5,171.0,2984.0]| 23.54789200103245|\n",
      "|[14.5,250.0,3139.0]| 21.69352497714447|\n",
      "|[16.0,232.0,2945.0]|23.423351446844443|\n",
      "+-------------------+------------------+\n",
      "only showing top 20 rows\n",
      "\n"
     ]
    }
   ],
   "source": [
    "# Previsões com dados de teste\n",
    "predictions = modelo.transform(dados_teste)\n",
    "predictions.select(\"features\", \"prediction\").show()"
   ]
  },
  {
   "cell_type": "code",
   "execution_count": 26,
   "metadata": {},
   "outputs": [
    {
     "data": {
      "text/plain": [
       "0.690903363388816"
      ]
     },
     "execution_count": 26,
     "metadata": {},
     "output_type": "execute_result"
    }
   ],
   "source": [
    "# Coeficiente de determinação R2\n",
    "avaliador = RegressionEvaluator(predictionCol = \"prediction\", labelCol = \"label\", metricName = \"r2\")\n",
    "avaliador.evaluate(predictions) "
   ]
  },
  {
   "cell_type": "markdown",
   "metadata": {},
   "source": [
    "# Fim"
   ]
  },
  {
   "cell_type": "markdown",
   "metadata": {},
   "source": [
    "### Obrigado - Data Science Academy - <a href=\"http://facebook.com/dsacademybr\">facebook.com/dsacademybr</a>"
   ]
  }
 ],
 "metadata": {
  "anaconda-cloud": {},
  "kernelspec": {
   "display_name": "Python 3",
   "language": "python",
   "name": "python3"
  },
  "language_info": {
   "codemirror_mode": {
    "name": "ipython",
    "version": 3
   },
   "file_extension": ".py",
   "mimetype": "text/x-python",
   "name": "python",
   "nbconvert_exporter": "python",
   "pygments_lexer": "ipython3",
   "version": "3.7.3"
  }
 },
 "nbformat": 4,
 "nbformat_minor": 1
}
