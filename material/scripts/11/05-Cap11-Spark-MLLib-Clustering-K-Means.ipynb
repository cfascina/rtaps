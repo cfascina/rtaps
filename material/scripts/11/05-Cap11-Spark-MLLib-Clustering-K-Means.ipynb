{
 "cells": [
  {
   "cell_type": "markdown",
   "metadata": {},
   "source": [
    "# <font color='blue'>Data Science Academy</font>\n",
    "# <font color='blue'>Big Data Real-Time Analytics com Python e Spark</font>\n",
    "\n",
    "# <font color='blue'>Capítulo 11</font>"
   ]
  },
  {
   "cell_type": "markdown",
   "metadata": {},
   "source": [
    "### *********** Atenção: *********** \n",
    "Utilize Java JDK 1.8 ou 11 e Apache Spark 2.4.2"
   ]
  },
  {
   "cell_type": "markdown",
   "metadata": {},
   "source": [
    "****** Caso receba mensagem de erro \"name 'sc' is not defined\", interrompa o pyspark e apague o diretório metastore_db no mesmo diretório onde está este Jupyter notebook ******"
   ]
  },
  {
   "cell_type": "markdown",
   "metadata": {},
   "source": [
    "## <font color='blue'>Spark MLLib - Clustering - K-Means</font>"
   ]
  },
  {
   "cell_type": "markdown",
   "metadata": {},
   "source": [
    "<strong> Descrição </strong>\n",
    "<ul style=\"list-style-type:square\">\n",
    "  <li>Algoritmo Não Supervisionado.</li>\n",
    "  <li>Agrupamento de Dados por Similaridade.</li>\n",
    "  <li>Particiona os dados em um número \"k\" de clusters, sendo que cada observação pertende a apenas um cluster.</li>\n",
    "  <li>A clusterização é feita medindo a distância entre os pontos de dados e agrupando-os.</li>\n",
    "  <li>Múltiplas medidas de distância podem ser usadas, como distância Euclidiana e distância Manhattan.</li>\n",
    "</ul>"
   ]
  },
  {
   "cell_type": "markdown",
   "metadata": {},
   "source": [
    "<dl>\n",
    "  <dt>Vantagens</dt>\n",
    "  <dd>- Veloz</dd>\n",
    "  <dd>- Eficiente quando se tem muitas variáveis</dd>\n",
    "  <br />\n",
    "  <dt>Desvantagens</dt>\n",
    "  <dd>- O valor de K precisa ser conhecido</dd>\n",
    "  <dd>- O valor inicial de k tem influência nos clusters criados</dd>\n",
    "  <br />\n",
    "  <dt>Aplicação</dt>\n",
    "  <dd>- Agrupamento preliminar antes de se aplicar técnicas de classificação</dd>\n",
    "  <dd>- Clusterização geográfica</dd>\n",
    "</dl>"
   ]
  },
  {
   "cell_type": "markdown",
   "metadata": {
    "collapsed": true
   },
   "source": [
    "## Agrupando automóveis"
   ]
  },
  {
   "cell_type": "code",
   "execution_count": 1,
   "metadata": {},
   "outputs": [],
   "source": [
    "# Imports\n",
    "import math\n",
    "import pandas as pd\n",
    "from pyspark.sql import Row\n",
    "from pyspark.ml.linalg import Vectors\n",
    "from pyspark.ml.clustering import KMeans\n",
    "import matplotlib.pylab as plt\n",
    "%matplotlib inline"
   ]
  },
  {
   "cell_type": "code",
   "execution_count": 2,
   "metadata": {},
   "outputs": [],
   "source": [
    "# Spark Session - usada quando se trabalha com Dataframes no Spark\n",
    "spSession = SparkSession.builder.master(\"local\").appName(\"DSA-SparkMLLib\").getOrCreate()"
   ]
  },
  {
   "cell_type": "code",
   "execution_count": 3,
   "metadata": {},
   "outputs": [
    {
     "data": {
      "text/plain": [
       "data/carros2.csv MapPartitionsRDD[1] at textFile at NativeMethodAccessorImpl.java:0"
      ]
     },
     "execution_count": 3,
     "metadata": {},
     "output_type": "execute_result"
    }
   ],
   "source": [
    "# Carregando os dados e gerando um RDD\n",
    "carrosRDD = sc.textFile(\"data/carros2.csv\")\n",
    "carrosRDD.cache()"
   ]
  },
  {
   "cell_type": "code",
   "execution_count": 4,
   "metadata": {},
   "outputs": [
    {
     "data": {
      "text/plain": [
       "197"
      ]
     },
     "execution_count": 4,
     "metadata": {},
     "output_type": "execute_result"
    }
   ],
   "source": [
    "# Removendo a primeira linha do arquivo (cabeçalho)\n",
    "primeiraLinha = carrosRDD.first()\n",
    "carrosRDD2 = carrosRDD.filter(lambda x: x != primeiraLinha)\n",
    "carrosRDD2.count()"
   ]
  },
  {
   "cell_type": "code",
   "execution_count": 5,
   "metadata": {},
   "outputs": [
    {
     "data": {
      "text/plain": [
       "['subaru,gas,std,two,hatchback,fwd,four,69,4900,31,36,5118',\n",
       " 'chevrolet,gas,std,two,hatchback,fwd,three,48,5100,47,53,5151',\n",
       " 'mazda,gas,std,two,hatchback,fwd,four,68,5000,30,31,5195',\n",
       " 'toyota,gas,std,two,hatchback,fwd,four,62,4800,35,39,5348',\n",
       " 'mitsubishi,gas,std,two,hatchback,fwd,four,68,5500,37,41,5389']"
      ]
     },
     "execution_count": 5,
     "metadata": {},
     "output_type": "execute_result"
    }
   ],
   "source": [
    "carrosRDD2.take(5)"
   ]
  },
  {
   "cell_type": "code",
   "execution_count": 6,
   "metadata": {},
   "outputs": [],
   "source": [
    "# Convertendo e limpando os dados\n",
    "def transformToNumeric( inputStr) :\n",
    "    attList = inputStr.split(\",\")\n",
    "\n",
    "    doors = 1.0 if attList[3] == \"two\" else 2.0\n",
    "    body = 1.0 if attList[4] == \"sedan\" else 2.0 \n",
    "       \n",
    "    linhas = Row(DOORS = doors, BODY = float(body), HP = float(attList[7]), RPM = float(attList[8]),\n",
    "                 MPG = float(attList[9]))\n",
    "    return linhas"
   ]
  },
  {
   "cell_type": "code",
   "execution_count": 7,
   "metadata": {
    "scrolled": false
   },
   "outputs": [
    {
     "data": {
      "text/plain": [
       "[Row(BODY=2.0, DOORS=1.0, HP=69.0, MPG=31.0, RPM=4900.0),\n",
       " Row(BODY=2.0, DOORS=1.0, HP=48.0, MPG=47.0, RPM=5100.0),\n",
       " Row(BODY=2.0, DOORS=1.0, HP=68.0, MPG=30.0, RPM=5000.0),\n",
       " Row(BODY=2.0, DOORS=1.0, HP=62.0, MPG=35.0, RPM=4800.0),\n",
       " Row(BODY=2.0, DOORS=1.0, HP=68.0, MPG=37.0, RPM=5500.0)]"
      ]
     },
     "execution_count": 7,
     "metadata": {},
     "output_type": "execute_result"
    }
   ],
   "source": [
    "# Aplicando a função\n",
    "carrosRDD3 = carrosRDD2.map(transformToNumeric)\n",
    "carrosRDD3.persist()\n",
    "carrosRDD3.take(5)"
   ]
  },
  {
   "cell_type": "code",
   "execution_count": 8,
   "metadata": {},
   "outputs": [
    {
     "name": "stdout",
     "output_type": "stream",
     "text": [
      "+----+-----+----+----+------+\n",
      "|BODY|DOORS|  HP| MPG|   RPM|\n",
      "+----+-----+----+----+------+\n",
      "| 2.0|  1.0|69.0|31.0|4900.0|\n",
      "| 2.0|  1.0|48.0|47.0|5100.0|\n",
      "| 2.0|  1.0|68.0|30.0|5000.0|\n",
      "| 2.0|  1.0|62.0|35.0|4800.0|\n",
      "| 2.0|  1.0|68.0|37.0|5500.0|\n",
      "| 2.0|  1.0|60.0|38.0|5500.0|\n",
      "| 1.0|  1.0|69.0|31.0|5200.0|\n",
      "| 2.0|  1.0|68.0|37.0|5500.0|\n",
      "| 2.0|  1.0|68.0|37.0|5500.0|\n",
      "| 2.0|  1.0|68.0|31.0|5000.0|\n",
      "| 2.0|  1.0|68.0|31.0|5500.0|\n",
      "| 2.0|  2.0|68.0|31.0|5500.0|\n",
      "| 2.0|  2.0|68.0|31.0|5500.0|\n",
      "| 2.0|  1.0|70.0|38.0|5400.0|\n",
      "| 2.0|  1.0|62.0|31.0|4800.0|\n",
      "| 2.0|  1.0|68.0|31.0|5500.0|\n",
      "| 2.0|  1.0|58.0|49.0|4800.0|\n",
      "| 2.0|  2.0|62.0|31.0|4800.0|\n",
      "| 2.0|  1.0|76.0|30.0|6000.0|\n",
      "| 1.0|  2.0|70.0|38.0|5400.0|\n",
      "+----+-----+----+----+------+\n",
      "only showing top 20 rows\n",
      "\n"
     ]
    }
   ],
   "source": [
    "# Criando um Dataframe\n",
    "carrosDF = spSession.createDataFrame(carrosRDD3)\n",
    "carrosDF.show()"
   ]
  },
  {
   "cell_type": "code",
   "execution_count": 9,
   "metadata": {},
   "outputs": [],
   "source": [
    "# Sumarizando os dados e extraindo a média e o desvio padrão\n",
    "estats = carrosDF.describe().toPandas()\n",
    "medias = estats.iloc[1,1:5].values.tolist()\n",
    "desvios = estats.iloc[2,1:5].values.tolist()"
   ]
  },
  {
   "cell_type": "code",
   "execution_count": 10,
   "metadata": {},
   "outputs": [],
   "source": [
    "# Colocando a média e o desvio padrão e variáves do tipo Broadcast\n",
    "bc_media = sc.broadcast(medias)\n",
    "bc_desvio = sc.broadcast(desvios)"
   ]
  },
  {
   "cell_type": "code",
   "execution_count": 11,
   "metadata": {},
   "outputs": [],
   "source": [
    "# Função para centralizar e aplicar escala aos dados. Cada valor será subtraído da média então dividido pelo desvio padrão\n",
    "def centerAndScale(inRow) :\n",
    "    global bc_media\n",
    "    global bc_desvio\n",
    "    \n",
    "    meanArray = bc_media.value\n",
    "    stdArray = bc_desvio.value\n",
    "\n",
    "    retArray = []\n",
    "    \n",
    "    for i in range(len(meanArray)):\n",
    "        retArray.append( (float(inRow[i]) - float(meanArray[i])) / float(stdArray[i]) )\n",
    "    return Vectors.dense(retArray)"
   ]
  },
  {
   "cell_type": "code",
   "execution_count": 12,
   "metadata": {},
   "outputs": [
    {
     "data": {
      "text/plain": [
       "[DenseVector([0.9337, -1.145, -0.9194, 0.9083]),\n",
       " DenseVector([0.9337, -1.145, -1.4773, 3.3936]),\n",
       " DenseVector([0.9337, -1.145, -0.9459, 0.753]),\n",
       " DenseVector([0.9337, -1.145, -1.1053, 1.5297]),\n",
       " DenseVector([0.9337, -1.145, -0.9459, 1.8403]),\n",
       " DenseVector([0.9337, -1.145, -1.1585, 1.9956]),\n",
       " DenseVector([-1.0656, -1.145, -0.9194, 0.9083]),\n",
       " DenseVector([0.9337, -1.145, -0.9459, 1.8403]),\n",
       " DenseVector([0.9337, -1.145, -0.9459, 1.8403]),\n",
       " DenseVector([0.9337, -1.145, -0.9459, 0.9083]),\n",
       " DenseVector([0.9337, -1.145, -0.9459, 0.9083]),\n",
       " DenseVector([0.9337, 0.869, -0.9459, 0.9083]),\n",
       " DenseVector([0.9337, 0.869, -0.9459, 0.9083]),\n",
       " DenseVector([0.9337, -1.145, -0.8928, 1.9956]),\n",
       " DenseVector([0.9337, -1.145, -1.1053, 0.9083]),\n",
       " DenseVector([0.9337, -1.145, -0.9459, 0.9083]),\n",
       " DenseVector([0.9337, -1.145, -1.2116, 3.7043]),\n",
       " DenseVector([0.9337, 0.869, -1.1053, 0.9083]),\n",
       " DenseVector([0.9337, -1.145, -0.7334, 0.753]),\n",
       " DenseVector([-1.0656, 0.869, -0.8928, 1.9956]),\n",
       " DenseVector([-1.0656, -1.145, -0.9194, 0.9083]),\n",
       " DenseVector([0.9337, -1.145, -0.9459, 0.9083]),\n",
       " DenseVector([-1.0656, 0.869, -0.9459, 0.9083]),\n",
       " DenseVector([-1.0656, 0.869, -0.9459, 0.9083]),\n",
       " DenseVector([-1.0656, 0.869, -0.9459, 0.9083]),\n",
       " DenseVector([-1.0656, 0.869, -0.6802, -0.179]),\n",
       " DenseVector([0.9337, -1.145, -0.9459, 0.9083]),\n",
       " DenseVector([-1.0656, 0.869, -0.9194, 0.9083]),\n",
       " DenseVector([0.9337, -1.145, -0.7334, 0.9083]),\n",
       " DenseVector([0.9337, 0.869, -1.1053, 0.9083]),\n",
       " DenseVector([-1.0656, 0.869, -0.8928, 0.753]),\n",
       " DenseVector([-1.0656, 0.869, -0.4146, -0.0237]),\n",
       " DenseVector([0.9337, -1.145, -0.8131, 0.1317]),\n",
       " DenseVector([-1.0656, -1.145, -1.2913, 3.083]),\n",
       " DenseVector([-1.0656, 0.869, -0.574, 1.0637]),\n",
       " DenseVector([0.9337, -1.145, -0.7334, 0.753]),\n",
       " DenseVector([0.9337, 0.869, -0.8928, 0.753]),\n",
       " DenseVector([-1.0656, 0.869, -0.7334, 0.753]),\n",
       " DenseVector([0.9337, 0.869, -0.7334, 0.753]),\n",
       " DenseVector([-1.0656, -1.145, -0.9194, 0.9083]),\n",
       " DenseVector([0.9337, 0.869, -0.9194, 0.9083]),\n",
       " DenseVector([-1.0656, 0.869, -0.9459, 0.9083]),\n",
       " DenseVector([0.9337, 0.869, -0.574, 0.4423]),\n",
       " DenseVector([-1.0656, 0.869, -0.9194, 0.9083]),\n",
       " DenseVector([0.9337, -1.145, -0.8131, 0.1317]),\n",
       " DenseVector([-1.0656, 0.869, -0.9459, 0.9083]),\n",
       " DenseVector([-1.0656, 0.869, -0.9459, 0.9083]),\n",
       " DenseVector([0.9337, -1.145, -0.0426, -0.179]),\n",
       " DenseVector([-1.0656, 0.869, -0.8928, 1.9956]),\n",
       " DenseVector([-1.0656, 0.869, -0.574, 0.4423]),\n",
       " DenseVector([-1.0656, -1.145, -1.371, 1.8403]),\n",
       " DenseVector([0.9337, 0.869, -1.2647, 1.9956]),\n",
       " DenseVector([0.9337, -1.145, -0.9194, 0.9083]),\n",
       " DenseVector([0.9337, -1.145, -0.4677, 0.287]),\n",
       " DenseVector([0.9337, 0.869, -1.1053, 0.287]),\n",
       " DenseVector([-1.0656, 0.869, -1.2647, 1.3743]),\n",
       " DenseVector([0.9337, -1.145, -0.0426, -0.179]),\n",
       " DenseVector([0.9337, -1.145, -0.0426, -0.179]),\n",
       " DenseVector([-1.0656, -1.145, -0.4943, 0.287]),\n",
       " DenseVector([-1.0656, 0.869, -1.371, 1.8403]),\n",
       " DenseVector([0.9337, 0.869, -0.9194, 0.9083]),\n",
       " DenseVector([0.9337, 0.869, -0.574, -0.3343]),\n",
       " DenseVector([-1.0656, -1.145, -0.8928, 0.5977]),\n",
       " DenseVector([-1.0656, 0.869, -0.4146, -0.0237]),\n",
       " DenseVector([-1.0656, 0.869, -0.4943, 0.287]),\n",
       " DenseVector([0.9337, -1.145, -0.8928, 0.5977]),\n",
       " DenseVector([0.9337, -1.145, -0.9194, 0.9083]),\n",
       " DenseVector([0.9337, 0.869, -0.8928, 0.4423]),\n",
       " DenseVector([0.9337, -1.145, 0.3293, -0.179]),\n",
       " DenseVector([-1.0656, 0.869, -0.5208, 0.1317]),\n",
       " DenseVector([-1.0656, 0.869, -0.4943, 0.287]),\n",
       " DenseVector([0.9337, -1.145, -0.4146, -0.0237]),\n",
       " DenseVector([0.9337, 0.869, -1.1053, 0.287]),\n",
       " DenseVector([-1.0656, 0.869, -0.4677, 0.287]),\n",
       " DenseVector([0.9337, -1.145, -0.5208, 0.1317]),\n",
       " DenseVector([0.9337, 0.869, -0.4146, -0.179]),\n",
       " DenseVector([0.9337, 0.869, -0.4146, -0.179]),\n",
       " DenseVector([-1.0656, 0.869, -0.3083, 0.5977]),\n",
       " DenseVector([0.9337, 0.869, -0.1755, 0.287]),\n",
       " DenseVector([0.9337, -1.145, -0.4677, 0.287]),\n",
       " DenseVector([-1.0656, 0.869, -0.574, -0.179]),\n",
       " DenseVector([-1.0656, 0.869, -0.8928, 0.4423]),\n",
       " DenseVector([-1.0656, 0.869, 0.3293, -0.3343]),\n",
       " DenseVector([-1.0656, 0.869, 0.3293, -0.3343]),\n",
       " DenseVector([-1.0656, -1.145, 0.2231, 0.1317]),\n",
       " DenseVector([-1.0656, 0.869, -0.9459, 1.8403]),\n",
       " DenseVector([0.9337, -1.145, 0.2231, 0.1317]),\n",
       " DenseVector([-1.0656, 0.869, -0.1755, 0.287]),\n",
       " DenseVector([0.9337, -1.145, 0.3293, -0.179]),\n",
       " DenseVector([0.9337, -1.145, 0.3293, -0.3343]),\n",
       " DenseVector([-1.0656, 0.869, -0.2552, 0.1317]),\n",
       " DenseVector([0.9337, -1.145, -0.3614, -0.179]),\n",
       " DenseVector([0.9337, 0.869, -0.3083, 0.287]),\n",
       " DenseVector([0.9337, -1.145, 0.3293, -0.179]),\n",
       " DenseVector([-1.0656, 0.869, -0.0958, 0.1317]),\n",
       " DenseVector([0.9337, 0.869, -0.2552, -0.0237]),\n",
       " DenseVector([-1.0656, 0.869, -0.5208, 0.1317]),\n",
       " DenseVector([-1.0656, 0.869, -0.4677, 0.287]),\n",
       " DenseVector([-1.0656, -1.145, -0.0958, -0.0237]),\n",
       " DenseVector([0.9337, -1.145, -0.5208, 0.1317]),\n",
       " DenseVector([-1.0656, 0.869, -0.8131, 0.753]),\n",
       " DenseVector([-1.0656, 0.869, -0.3083, 0.287]),\n",
       " DenseVector([0.9337, -1.145, -0.0692, -1.2663]),\n",
       " DenseVector([0.9337, -1.145, -0.3614, -0.179]),\n",
       " DenseVector([0.9337, -1.145, 0.3293, -0.179]),\n",
       " DenseVector([0.9337, 0.869, -0.5208, 0.1317]),\n",
       " DenseVector([0.9337, 0.869, -0.3083, 0.287]),\n",
       " DenseVector([-1.0656, 0.869, 0.1965, -0.179]),\n",
       " DenseVector([0.9337, -1.145, 0.3293, -0.179]),\n",
       " DenseVector([0.9337, -1.145, -0.3614, -0.179]),\n",
       " DenseVector([0.9337, 0.869, 0.1965, -0.3343]),\n",
       " DenseVector([0.9337, -1.145, -0.0692, -1.2663]),\n",
       " DenseVector([0.9337, -1.145, 0.1699, -0.645]),\n",
       " DenseVector([-1.0656, 0.869, -0.1755, -0.9556]),\n",
       " DenseVector([-1.0656, 0.869, 0.1699, -0.645]),\n",
       " DenseVector([0.9337, 0.869, -0.4146, -0.0237]),\n",
       " DenseVector([0.9337, 0.869, -0.1755, -0.9556]),\n",
       " DenseVector([0.9337, -1.145, 1.0998, -0.9556]),\n",
       " DenseVector([0.9337, -1.145, 1.0998, -0.9556]),\n",
       " DenseVector([-1.0656, 0.869, 0.2762, -0.3343]),\n",
       " DenseVector([-1.0656, 0.869, -0.0692, -0.179]),\n",
       " DenseVector([0.9337, -1.145, 1.0998, -0.9556]),\n",
       " DenseVector([-1.0656, 0.869, -0.2286, 0.4423]),\n",
       " DenseVector([-1.0656, 0.869, 0.1699, -0.9556]),\n",
       " DenseVector([0.9337, 0.869, 0.2762, -0.3343]),\n",
       " DenseVector([0.9337, -1.145, 0.1965, -0.645]),\n",
       " DenseVector([-1.0656, 0.869, 1.2858, -1.2663]),\n",
       " DenseVector([-1.0656, 0.869, 1.2858, -0.9556]),\n",
       " DenseVector([0.9337, -1.145, -0.0692, -1.2663]),\n",
       " DenseVector([-1.0656, 0.869, -0.9459, 1.219]),\n",
       " DenseVector([0.9337, 0.869, -0.2286, -0.0237]),\n",
       " DenseVector([-1.0656, 0.869, -0.0426, -0.179]),\n",
       " DenseVector([0.9337, 0.869, 1.2858, -1.2663]),\n",
       " DenseVector([0.9337, -1.145, 1.0998, -0.9556]),\n",
       " DenseVector([0.9337, -1.145, 1.0998, -0.9556]),\n",
       " DenseVector([0.9337, -1.145, 0.1699, -0.645]),\n",
       " DenseVector([-1.0656, -1.145, 0.1699, -0.9556]),\n",
       " DenseVector([-1.0656, 0.869, 0.1699, -0.645]),\n",
       " DenseVector([-1.0656, 0.869, -0.2286, -0.9556]),\n",
       " DenseVector([0.9337, -1.145, 0.8341, -1.4216]),\n",
       " DenseVector([-1.0656, 0.869, 1.3921, -0.8003]),\n",
       " DenseVector([0.9337, 0.869, 1.3921, -0.9556]),\n",
       " DenseVector([-1.0656, 0.869, 0.2762, -0.179]),\n",
       " DenseVector([0.9337, -1.145, 1.5249, -0.9556]),\n",
       " DenseVector([-1.0656, -1.145, -0.0692, -0.3343]),\n",
       " DenseVector([0.9337, -1.145, 0.1965, -0.645]),\n",
       " DenseVector([0.9337, -1.145, 1.3389, -0.9556]),\n",
       " DenseVector([0.9337, -1.145, 1.8969, -0.9556]),\n",
       " DenseVector([0.9337, 0.869, 0.2762, -0.179]),\n",
       " DenseVector([0.9337, -1.145, 1.5249, -0.8003]),\n",
       " DenseVector([-1.0656, 0.869, -0.1755, -0.9556]),\n",
       " DenseVector([0.9337, 0.869, -0.2286, -0.9556]),\n",
       " DenseVector([-1.0656, 0.869, 0.2762, -0.3343]),\n",
       " DenseVector([-1.0656, 0.869, -0.2286, 0.4423]),\n",
       " DenseVector([-1.0656, 0.869, -0.0692, -0.3343]),\n",
       " DenseVector([0.9337, 0.869, -0.2286, -0.0237]),\n",
       " DenseVector([0.9337, -1.145, 1.4983, -0.9556]),\n",
       " DenseVector([-1.0656, 0.869, 0.3028, -1.111]),\n",
       " DenseVector([0.9337, -1.145, 0.3293, -0.179]),\n",
       " DenseVector([-1.0656, 0.869, 0.1699, -0.9556]),\n",
       " DenseVector([-1.0656, 0.869, -0.2286, 0.4423]),\n",
       " DenseVector([-1.0656, 0.869, 1.0201, -1.111]),\n",
       " DenseVector([0.9337, -1.145, 1.4983, -0.9556]),\n",
       " DenseVector([-1.0656, 0.869, 0.4356, -0.9556]),\n",
       " DenseVector([-1.0656, 0.869, -0.8397, 0.9083]),\n",
       " DenseVector([0.9337, -1.145, 1.4983, -0.9556]),\n",
       " DenseVector([-1.0656, 0.869, 1.5515, -1.2663]),\n",
       " DenseVector([-1.0656, 0.869, 1.4983, -0.9556]),\n",
       " DenseVector([0.9337, 0.869, 0.1699, -0.9556]),\n",
       " DenseVector([0.9337, 0.869, 1.5515, -1.2663]),\n",
       " DenseVector([-1.0656, 0.869, 1.4983, -0.9556]),\n",
       " DenseVector([0.9337, -1.145, 2.5611, -1.2663]),\n",
       " DenseVector([-1.0656, -1.145, 0.4622, -0.645]),\n",
       " DenseVector([-1.0656, 0.869, 0.4622, -0.645]),\n",
       " DenseVector([-1.0656, 0.869, 0.8076, -1.111]),\n",
       " DenseVector([0.9337, -1.145, 1.0467, -0.9556]),\n",
       " DenseVector([-1.0656, 0.869, 0.0637, 0.1317]),\n",
       " DenseVector([-1.0656, 0.869, 0.2762, -0.9556]),\n",
       " DenseVector([-1.0656, 0.869, 0.967, -1.2663]),\n",
       " DenseVector([-1.0656, 0.869, 0.4622, -0.8003]),\n",
       " DenseVector([-1.0656, 0.869, 0.5153, -0.4896]),\n",
       " DenseVector([0.9337, -1.145, 0.5153, -0.4896]),\n",
       " DenseVector([0.9337, 0.869, 0.5153, -0.4896]),\n",
       " DenseVector([-1.0656, 0.869, 2.0828, -1.4216]),\n",
       " DenseVector([-1.0656, 0.869, 0.5153, -0.4896]),\n",
       " DenseVector([-1.0656, 0.869, 1.9234, -1.577]),\n",
       " DenseVector([0.9337, -1.145, 2.747, -1.2663]),\n",
       " DenseVector([0.9337, -1.145, 2.747, -1.2663]),\n",
       " DenseVector([-1.0656, 0.869, 1.3655, -1.4216]),\n",
       " DenseVector([0.9337, -1.145, 1.3655, -1.4216]),\n",
       " DenseVector([-1.0656, 0.869, 1.9234, -1.577]),\n",
       " DenseVector([-1.0656, -1.145, 4.2083, -1.8876]),\n",
       " DenseVector([-1.0656, 0.869, 2.0828, -1.577]),\n",
       " DenseVector([0.9337, -1.145, 2.747, -1.2663]),\n",
       " DenseVector([-1.0656, 0.869, 2.136, -1.7323]),\n",
       " DenseVector([-1.0656, -1.145, 2.0828, -1.4216]),\n",
       " DenseVector([0.9337, -1.145, 2.136, -1.7323])]"
      ]
     },
     "execution_count": 12,
     "metadata": {},
     "output_type": "execute_result"
    }
   ],
   "source": [
    "carrosRDD4 = carrosDF.rdd.map(centerAndScale)\n",
    "carrosRDD4.collect()"
   ]
  },
  {
   "cell_type": "code",
   "execution_count": 13,
   "metadata": {},
   "outputs": [
    {
     "name": "stdout",
     "output_type": "stream",
     "text": [
      "+--------------------+\n",
      "|            features|\n",
      "+--------------------+\n",
      "|[0.93367168148051...|\n",
      "|[0.93367168148051...|\n",
      "|[0.93367168148051...|\n",
      "|[0.93367168148051...|\n",
      "|[0.93367168148051...|\n",
      "|[0.93367168148051...|\n",
      "|[-1.0656035495158...|\n",
      "|[0.93367168148051...|\n",
      "|[0.93367168148051...|\n",
      "|[0.93367168148051...|\n",
      "+--------------------+\n",
      "only showing top 10 rows\n",
      "\n"
     ]
    }
   ],
   "source": [
    "# Criando um Dataframe\n",
    "carrosRDD5 = carrosRDD4.map( lambda f:Row(features = f))\n",
    "carrosDF = spSession.createDataFrame(carrosRDD5)\n",
    "carrosDF.select(\"features\").show(10)"
   ]
  },
  {
   "cell_type": "code",
   "execution_count": 14,
   "metadata": {},
   "outputs": [],
   "source": [
    "# Criando o modelo\n",
    "kmeans = KMeans(k = 3, seed = 1)\n",
    "modelo = kmeans.fit(carrosDF)"
   ]
  },
  {
   "cell_type": "code",
   "execution_count": 15,
   "metadata": {},
   "outputs": [
    {
     "name": "stdout",
     "output_type": "stream",
     "text": [
      "+--------------------+----------+\n",
      "|            features|prediction|\n",
      "+--------------------+----------+\n",
      "|[0.93367168148051...|         1|\n",
      "|[0.93367168148051...|         1|\n",
      "|[0.93367168148051...|         1|\n",
      "|[0.93367168148051...|         1|\n",
      "|[0.93367168148051...|         1|\n",
      "|[0.93367168148051...|         1|\n",
      "|[-1.0656035495158...|         0|\n",
      "|[0.93367168148051...|         1|\n",
      "|[0.93367168148051...|         1|\n",
      "|[0.93367168148051...|         1|\n",
      "|[0.93367168148051...|         1|\n",
      "|[0.93367168148051...|         1|\n",
      "|[0.93367168148051...|         1|\n",
      "|[0.93367168148051...|         1|\n",
      "|[0.93367168148051...|         1|\n",
      "|[0.93367168148051...|         1|\n",
      "|[0.93367168148051...|         1|\n",
      "|[0.93367168148051...|         1|\n",
      "|[0.93367168148051...|         1|\n",
      "|[-1.0656035495158...|         0|\n",
      "+--------------------+----------+\n",
      "only showing top 20 rows\n",
      "\n"
     ]
    }
   ],
   "source": [
    "# Previsões\n",
    "previsoes = modelo.transform(carrosDF)\n",
    "previsoes.show()"
   ]
  },
  {
   "cell_type": "code",
   "execution_count": 16,
   "metadata": {},
   "outputs": [],
   "source": [
    "def unstripData(instr) :\n",
    "    return (instr[\"prediction\"], instr[\"features\"][0], instr[\"features\"][1], instr[\"features\"][2], instr[\"features\"][3])"
   ]
  },
  {
   "cell_type": "code",
   "execution_count": 17,
   "metadata": {},
   "outputs": [],
   "source": [
    "carrosRDD6 = previsoes.rdd.map(unstripData)\n",
    "predList = carrosRDD6.collect()\n",
    "predPd = pd.DataFrame(predList)"
   ]
  },
  {
   "cell_type": "code",
   "execution_count": 18,
   "metadata": {},
   "outputs": [
    {
     "data": {
      "text/plain": [
       "<matplotlib.collections.PathCollection at 0x115acb588>"
      ]
     },
     "execution_count": 18,
     "metadata": {},
     "output_type": "execute_result"
    },
    {
     "data": {
      "image/png": "[encoded data removed]",
      "text/plain": [
       "<Figure size 432x288 with 1 Axes>"
      ]
     },
     "metadata": {
      "needs_background": "light"
     },
     "output_type": "display_data"
    }
   ],
   "source": [
    "# Gráfico com o resultados dos clusters criados\n",
    "plt.cla()\n",
    "plt.scatter(predPd[3], predPd[4], c = predPd[0])"
   ]
  },
  {
   "cell_type": "markdown",
   "metadata": {},
   "source": [
    "# Fim"
   ]
  },
  {
   "cell_type": "markdown",
   "metadata": {},
   "source": [
    "### Obrigado - Data Science Academy - <a href=\"http://facebook.com/dsacademybr\">facebook.com/dsacademybr</a>"
   ]
  }
 ],
 "metadata": {
  "anaconda-cloud": {},
  "kernelspec": {
   "display_name": "Python 3",
   "language": "python",
   "name": "python3"
  },
  "language_info": {
   "codemirror_mode": {
    "name": "ipython",
    "version": 3
   },
   "file_extension": ".py",
   "mimetype": "text/x-python",
   "name": "python",
   "nbconvert_exporter": "python",
   "pygments_lexer": "ipython3",
   "version": "3.7.3"
  }
 },
 "nbformat": 4,
 "nbformat_minor": 1
}
