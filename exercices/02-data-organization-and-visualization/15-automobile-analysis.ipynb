{
 "cells": [
  {
   "cell_type": "code",
   "execution_count": 1,
   "metadata": {},
   "outputs": [],
   "source": [
    "import sys\n",
    "sys.path.append(\"aux/modules\")\n",
    "import cf_data, cf_plot, cf_radar"
   ]
  },
  {
   "cell_type": "markdown",
   "metadata": {},
   "source": [
    "### The original Dataset"
   ]
  },
  {
   "cell_type": "code",
   "execution_count": 2,
   "metadata": {},
   "outputs": [
    {
     "data": {
      "text/html": [
       "<div>\n",
       "<style scoped>\n",
       "    .dataframe tbody tr th:only-of-type {\n",
       "        vertical-align: middle;\n",
       "    }\n",
       "\n",
       "    .dataframe tbody tr th {\n",
       "        vertical-align: top;\n",
       "    }\n",
       "\n",
       "    .dataframe thead th {\n",
       "        text-align: right;\n",
       "    }\n",
       "</style>\n",
       "<table border=\"1\" class=\"dataframe\">\n",
       "  <thead>\n",
       "    <tr style=\"text-align: right;\">\n",
       "      <th></th>\n",
       "      <th>riskiness</th>\n",
       "      <th>losses</th>\n",
       "      <th>manufacturer</th>\n",
       "      <th>fuel type</th>\n",
       "      <th>aspiration</th>\n",
       "      <th>doors</th>\n",
       "      <th>body</th>\n",
       "      <th>drive</th>\n",
       "      <th>engine location</th>\n",
       "      <th>wheel base</th>\n",
       "      <th>...</th>\n",
       "      <th>engine size</th>\n",
       "      <th>fuel system</th>\n",
       "      <th>bore</th>\n",
       "      <th>stroke</th>\n",
       "      <th>compression ratio</th>\n",
       "      <th>horsepower</th>\n",
       "      <th>peak rpm</th>\n",
       "      <th>city mpg</th>\n",
       "      <th>highway mpg</th>\n",
       "      <th>price</th>\n",
       "    </tr>\n",
       "  </thead>\n",
       "  <tbody>\n",
       "    <tr>\n",
       "      <th>0</th>\n",
       "      <td>2</td>\n",
       "      <td>164</td>\n",
       "      <td>audi</td>\n",
       "      <td>gas</td>\n",
       "      <td>std</td>\n",
       "      <td>four</td>\n",
       "      <td>sedan</td>\n",
       "      <td>fwd</td>\n",
       "      <td>front</td>\n",
       "      <td>99.8</td>\n",
       "      <td>...</td>\n",
       "      <td>109</td>\n",
       "      <td>mpfi</td>\n",
       "      <td>3.19</td>\n",
       "      <td>3.4</td>\n",
       "      <td>10.0</td>\n",
       "      <td>102</td>\n",
       "      <td>5500</td>\n",
       "      <td>24</td>\n",
       "      <td>30</td>\n",
       "      <td>13950</td>\n",
       "    </tr>\n",
       "    <tr>\n",
       "      <th>1</th>\n",
       "      <td>2</td>\n",
       "      <td>164</td>\n",
       "      <td>audi</td>\n",
       "      <td>gas</td>\n",
       "      <td>std</td>\n",
       "      <td>four</td>\n",
       "      <td>sedan</td>\n",
       "      <td>4wd</td>\n",
       "      <td>front</td>\n",
       "      <td>99.4</td>\n",
       "      <td>...</td>\n",
       "      <td>136</td>\n",
       "      <td>mpfi</td>\n",
       "      <td>3.19</td>\n",
       "      <td>3.4</td>\n",
       "      <td>8.0</td>\n",
       "      <td>115</td>\n",
       "      <td>5500</td>\n",
       "      <td>18</td>\n",
       "      <td>22</td>\n",
       "      <td>17450</td>\n",
       "    </tr>\n",
       "    <tr>\n",
       "      <th>2</th>\n",
       "      <td>1</td>\n",
       "      <td>158</td>\n",
       "      <td>audi</td>\n",
       "      <td>gas</td>\n",
       "      <td>std</td>\n",
       "      <td>four</td>\n",
       "      <td>sedan</td>\n",
       "      <td>fwd</td>\n",
       "      <td>front</td>\n",
       "      <td>105.8</td>\n",
       "      <td>...</td>\n",
       "      <td>136</td>\n",
       "      <td>mpfi</td>\n",
       "      <td>3.19</td>\n",
       "      <td>3.4</td>\n",
       "      <td>8.5</td>\n",
       "      <td>110</td>\n",
       "      <td>5500</td>\n",
       "      <td>19</td>\n",
       "      <td>25</td>\n",
       "      <td>17710</td>\n",
       "    </tr>\n",
       "    <tr>\n",
       "      <th>3</th>\n",
       "      <td>1</td>\n",
       "      <td>158</td>\n",
       "      <td>audi</td>\n",
       "      <td>gas</td>\n",
       "      <td>turbo</td>\n",
       "      <td>four</td>\n",
       "      <td>sedan</td>\n",
       "      <td>fwd</td>\n",
       "      <td>front</td>\n",
       "      <td>105.8</td>\n",
       "      <td>...</td>\n",
       "      <td>131</td>\n",
       "      <td>mpfi</td>\n",
       "      <td>3.13</td>\n",
       "      <td>3.4</td>\n",
       "      <td>8.3</td>\n",
       "      <td>140</td>\n",
       "      <td>5500</td>\n",
       "      <td>17</td>\n",
       "      <td>20</td>\n",
       "      <td>23875</td>\n",
       "    </tr>\n",
       "    <tr>\n",
       "      <th>4</th>\n",
       "      <td>2</td>\n",
       "      <td>192</td>\n",
       "      <td>bmw</td>\n",
       "      <td>gas</td>\n",
       "      <td>std</td>\n",
       "      <td>two</td>\n",
       "      <td>sedan</td>\n",
       "      <td>rwd</td>\n",
       "      <td>front</td>\n",
       "      <td>101.2</td>\n",
       "      <td>...</td>\n",
       "      <td>108</td>\n",
       "      <td>mpfi</td>\n",
       "      <td>3.50</td>\n",
       "      <td>2.8</td>\n",
       "      <td>8.8</td>\n",
       "      <td>101</td>\n",
       "      <td>5800</td>\n",
       "      <td>23</td>\n",
       "      <td>29</td>\n",
       "      <td>16430</td>\n",
       "    </tr>\n",
       "  </tbody>\n",
       "</table>\n",
       "<p>5 rows × 26 columns</p>\n",
       "</div>"
      ],
      "text/plain": [
       "   riskiness  losses manufacturer fuel type aspiration doors   body drive  \\\n",
       "0          2     164         audi       gas        std  four  sedan   fwd   \n",
       "1          2     164         audi       gas        std  four  sedan   4wd   \n",
       "2          1     158         audi       gas        std  four  sedan   fwd   \n",
       "3          1     158         audi       gas      turbo  four  sedan   fwd   \n",
       "4          2     192          bmw       gas        std   two  sedan   rwd   \n",
       "\n",
       "  engine location  wheel base  ...  engine size  fuel system  bore  stroke  \\\n",
       "0           front        99.8  ...          109         mpfi  3.19     3.4   \n",
       "1           front        99.4  ...          136         mpfi  3.19     3.4   \n",
       "2           front       105.8  ...          136         mpfi  3.19     3.4   \n",
       "3           front       105.8  ...          131         mpfi  3.13     3.4   \n",
       "4           front       101.2  ...          108         mpfi  3.50     2.8   \n",
       "\n",
       "  compression ratio horsepower  peak rpm city mpg  highway mpg  price  \n",
       "0              10.0        102      5500       24           30  13950  \n",
       "1               8.0        115      5500       18           22  17450  \n",
       "2               8.5        110      5500       19           25  17710  \n",
       "3               8.3        140      5500       17           20  23875  \n",
       "4               8.8        101      5800       23           29  16430  \n",
       "\n",
       "[5 rows x 26 columns]"
      ]
     },
     "execution_count": 2,
     "metadata": {},
     "output_type": "execute_result"
    }
   ],
   "source": [
    "pdDataset = cf_data.getRawData()\n",
    "pdDataset.head()"
   ]
  },
  {
   "cell_type": "markdown",
   "metadata": {},
   "source": [
    "### Creating a subset of the original Dataset"
   ]
  },
  {
   "cell_type": "code",
   "execution_count": 3,
   "metadata": {},
   "outputs": [
    {
     "data": {
      "text/html": [
       "<div>\n",
       "<style scoped>\n",
       "    .dataframe tbody tr th:only-of-type {\n",
       "        vertical-align: middle;\n",
       "    }\n",
       "\n",
       "    .dataframe tbody tr th {\n",
       "        vertical-align: top;\n",
       "    }\n",
       "\n",
       "    .dataframe thead th {\n",
       "        text-align: right;\n",
       "    }\n",
       "</style>\n",
       "<table border=\"1\" class=\"dataframe\">\n",
       "  <thead>\n",
       "    <tr style=\"text-align: right;\">\n",
       "      <th></th>\n",
       "      <th>manufacturer</th>\n",
       "      <th>price</th>\n",
       "      <th>city mpg</th>\n",
       "      <th>highway mpg</th>\n",
       "      <th>horsepower</th>\n",
       "      <th>weight</th>\n",
       "      <th>riskiness</th>\n",
       "      <th>losses</th>\n",
       "    </tr>\n",
       "  </thead>\n",
       "  <tbody>\n",
       "    <tr>\n",
       "      <th>0</th>\n",
       "      <td>audi</td>\n",
       "      <td>13950</td>\n",
       "      <td>24</td>\n",
       "      <td>30</td>\n",
       "      <td>102</td>\n",
       "      <td>2337</td>\n",
       "      <td>2</td>\n",
       "      <td>164</td>\n",
       "    </tr>\n",
       "    <tr>\n",
       "      <th>1</th>\n",
       "      <td>audi</td>\n",
       "      <td>17450</td>\n",
       "      <td>18</td>\n",
       "      <td>22</td>\n",
       "      <td>115</td>\n",
       "      <td>2824</td>\n",
       "      <td>2</td>\n",
       "      <td>164</td>\n",
       "    </tr>\n",
       "    <tr>\n",
       "      <th>2</th>\n",
       "      <td>audi</td>\n",
       "      <td>17710</td>\n",
       "      <td>19</td>\n",
       "      <td>25</td>\n",
       "      <td>110</td>\n",
       "      <td>2844</td>\n",
       "      <td>1</td>\n",
       "      <td>158</td>\n",
       "    </tr>\n",
       "    <tr>\n",
       "      <th>3</th>\n",
       "      <td>audi</td>\n",
       "      <td>23875</td>\n",
       "      <td>17</td>\n",
       "      <td>20</td>\n",
       "      <td>140</td>\n",
       "      <td>3086</td>\n",
       "      <td>1</td>\n",
       "      <td>158</td>\n",
       "    </tr>\n",
       "    <tr>\n",
       "      <th>4</th>\n",
       "      <td>bmw</td>\n",
       "      <td>16430</td>\n",
       "      <td>23</td>\n",
       "      <td>29</td>\n",
       "      <td>101</td>\n",
       "      <td>2395</td>\n",
       "      <td>2</td>\n",
       "      <td>192</td>\n",
       "    </tr>\n",
       "  </tbody>\n",
       "</table>\n",
       "</div>"
      ],
      "text/plain": [
       "  manufacturer  price  city mpg  highway mpg  horsepower  weight  riskiness  \\\n",
       "0         audi  13950        24           30         102    2337          2   \n",
       "1         audi  17450        18           22         115    2824          2   \n",
       "2         audi  17710        19           25         110    2844          1   \n",
       "3         audi  23875        17           20         140    3086          1   \n",
       "4          bmw  16430        23           29         101    2395          2   \n",
       "\n",
       "   losses  \n",
       "0     164  \n",
       "1     164  \n",
       "2     158  \n",
       "3     158  \n",
       "4     192  "
      ]
     },
     "execution_count": 3,
     "metadata": {},
     "output_type": "execute_result"
    }
   ],
   "source": [
    "pdSubset = cf_data.getLimitedData()\n",
    "pdSubset.head()"
   ]
  },
  {
   "cell_type": "markdown",
   "metadata": {},
   "source": [
    "### Getting all manufacturer names"
   ]
  },
  {
   "cell_type": "code",
   "execution_count": null,
   "metadata": {},
   "outputs": [
    {
     "data": {
      "text/plain": [
       "array(['audi', 'bmw', 'chevrolet', 'dodge', 'honda', 'jaguar', 'mazda',\n",
       "       'mercedes-benz', 'mitsubishi', 'nissan', 'peugot', 'plymouth',\n",
       "       'porsche', 'saab', 'subaru', 'toyota', 'volkswagen', 'volvo'],\n",
       "      dtype=object)"
      ]
     },
     "execution_count": 4,
     "metadata": {},
     "output_type": "execute_result"
    }
   ],
   "source": [
    "cf_data.getAllManufacturers()"
   ]
  },
  {
   "cell_type": "markdown",
   "metadata": {},
   "source": [
    "### Getting all occurrences of each manufacturer"
   ]
  },
  {
   "cell_type": "code",
   "execution_count": null,
   "metadata": {},
   "outputs": [],
   "source": [
    "(manufacturerNames, manufacturerCounts) = cf_data.getManufacturerCount(pdSubset); manufacturerCounts"
   ]
  },
  {
   "cell_type": "markdown",
   "metadata": {},
   "source": [
    "### Getting the total occurrences of manufacturers with more than 6 occurrences each one"
   ]
  },
  {
   "cell_type": "code",
   "execution_count": null,
   "metadata": {},
   "outputs": [],
   "source": [
    "pdMajorManufacturers = cf_data.getLimitedData(lowerBound = 6)\n",
    "len(pdMajorManufacturers.index)"
   ]
  },
  {
   "cell_type": "markdown",
   "metadata": {},
   "source": [
    "### Normalizing the Dataset - Columns"
   ]
  },
  {
   "cell_type": "code",
   "execution_count": null,
   "metadata": {},
   "outputs": [],
   "source": [
    "pdNormalized = pdMajorManufacturers.copy()"
   ]
  },
  {
   "cell_type": "code",
   "execution_count": null,
   "metadata": {},
   "outputs": [],
   "source": [
    "pdNormalized.rename(\n",
    "    columns = {\n",
    "        'city mpg': 'mpg_city',\n",
    "        'highway mpg': 'mpg_highway',\n",
    "        'horsepower': 'horse_power'\n",
    "    }, \n",
    "    inplace = True\n",
    ")"
   ]
  },
  {
   "cell_type": "code",
   "execution_count": null,
   "metadata": {},
   "outputs": [],
   "source": [
    "pdNormalized.head()"
   ]
  },
  {
   "cell_type": "markdown",
   "metadata": {},
   "source": [
    "### Normalizing the Dataset - Values"
   ]
  },
  {
   "cell_type": "code",
   "execution_count": null,
   "metadata": {},
   "outputs": [],
   "source": [
    "cf_data.normalizeColumns(['mpg_city', 'mpg_highway', 'horse_power'], pdNormalized); pdNormalized.head()"
   ]
  },
  {
   "cell_type": "code",
   "execution_count": null,
   "metadata": {},
   "outputs": [],
   "source": [
    "cf_data.normalizeColumnsInverted(['price', 'weight', 'riskiness', 'losses'], pdNormalized); pdNormalized.head()"
   ]
  },
  {
   "cell_type": "markdown",
   "metadata": {},
   "source": [
    "### Plotting"
   ]
  },
  {
   "cell_type": "code",
   "execution_count": null,
   "metadata": {},
   "outputs": [],
   "source": [
    "import matplotlib as mpl\n",
    "import matplotlib.pyplot as plt\n",
    "import numpy as np\n",
    "import pandas as pd\n",
    "from IPython.display import Image\n",
    "import warnings\n",
    "# warnings.filterwarnings('ignore')\n",
    "\n",
    "plt.style.use('aux/mpl-styles/dark.mplstyle')"
   ]
  },
  {
   "cell_type": "code",
   "execution_count": null,
   "metadata": {},
   "outputs": [],
   "source": [
    "figure = plt.figure(figsize = (15, 5))\n",
    "gridSpec = mpl.gridspec.GridSpec(1, 1)\n",
    "axes = cf_plot.priceByManufacturer(figure, gridSpec, pdMajorManufacturers)\n",
    "\n",
    "plt.show()"
   ]
  },
  {
   "cell_type": "code",
   "execution_count": null,
   "metadata": {},
   "outputs": [],
   "source": [
    "figure = plt.figure(figsize = (15, 5))\n",
    "gridSpec = mpl.gridspec.GridSpec(1, 1)\n",
    "axes = cf_plot.mpgByManufacturer(figure, gridSpec, pdMajorManufacturers)\n",
    "\n",
    "plt.show()"
   ]
  },
  {
   "cell_type": "code",
   "execution_count": null,
   "metadata": {},
   "outputs": [],
   "source": [
    "figure = plt.figure(figsize = (15, 5))\n",
    "gridSpec = mpl.gridspec.GridSpec(1, 1)\n",
    "axes = cf_plot.inverseRiskinessByManufacturer(figure, gridSpec, pdNormalized)\n",
    "\n",
    "plt.show()"
   ]
  },
  {
   "cell_type": "code",
   "execution_count": null,
   "metadata": {},
   "outputs": [],
   "source": [
    "figure = plt.figure(figsize = (15, 5))\n",
    "gridSpec = mpl.gridspec.GridSpec(1, 1)\n",
    "axes = cf_plot.inverseLossesByManufacturer(figure, gridSpec, pdNormalized)\n",
    "\n",
    "plt.show()"
   ]
  },
  {
   "cell_type": "code",
   "execution_count": null,
   "metadata": {},
   "outputs": [],
   "source": [
    "figure = plt.figure(figsize = (15, 5))\n",
    "gridSpec = mpl.gridspec.GridSpec(1, 1)\n",
    "axes = cf_plot.inverseRiskinessAndLossesCombinedByManufacturer(figure, gridSpec, pdNormalized)\n",
    "\n",
    "plt.show()"
   ]
  },
  {
   "cell_type": "code",
   "execution_count": null,
   "metadata": {},
   "outputs": [],
   "source": [
    "figure = plt.figure(figsize = (15, 5))\n",
    "gridSpec = mpl.gridspec.GridSpec(\n",
    "    3, 7,\n",
    "    height_ratios = [1, 10, 10],\n",
    "    wspace = 0.5,\n",
    "    hspace = 0.5,\n",
    "    top = 2,\n",
    "    bottom = 0.25\n",
    ")\n",
    "axes = cf_plot.radarByManufacturer(figure, gridSpec, pdNormalized)\n",
    "\n",
    "plt.show()"
   ]
  }
 ],
 "metadata": {
  "kernelspec": {
   "display_name": "Python 3",
   "language": "python",
   "name": "python3"
  },
  "language_info": {
   "codemirror_mode": {
    "name": "ipython",
    "version": 3
   },
   "file_extension": ".py",
   "mimetype": "text/x-python",
   "name": "python",
   "nbconvert_exporter": "python",
   "pygments_lexer": "ipython3",
   "version": "3.7.6"
  }
 },
 "nbformat": 4,
 "nbformat_minor": 4
}
