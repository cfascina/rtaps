{
 "cells": [
  {
   "cell_type": "code",
   "execution_count": 1,
   "metadata": {},
   "outputs": [],
   "source": [
    "import numpy as np"
   ]
  },
  {
   "cell_type": "markdown",
   "metadata": {},
   "source": [
    "### We can use list comprehension and map function to work in NumPy arrays, but in some cases, the use of vectorization may be more efficient."
   ]
  },
  {
   "cell_type": "markdown",
   "metadata": {},
   "source": [
    "### With vectorization we can apply a function to an entire array at once, instead of applying the same function to element-to-element (similar to what we do with the map() and filter() functions)."
   ]
  },
  {
   "cell_type": "markdown",
   "metadata": {},
   "source": [
    "### When working with NumPy and Pandas objects, there are more efficient ways to apply a function to a set of elements, which will be faster than applying loops."
   ]
  },
  {
   "cell_type": "code",
   "execution_count": 2,
   "metadata": {},
   "outputs": [
    {
     "data": {
      "text/plain": [
       "array([28, 34, 17, 27, 11, 15,  7, 30, 39, 22, 17,  9,  4, 10,  3, 36, 30,\n",
       "       30,  9, 49])"
      ]
     },
     "execution_count": 2,
     "metadata": {},
     "output_type": "execute_result"
    }
   ],
   "source": [
    "array_01 = np.random.randint(0, 50, 20); array_01"
   ]
  },
  {
   "cell_type": "code",
   "execution_count": 3,
   "metadata": {},
   "outputs": [],
   "source": [
    "def getSquare(number):\n",
    "    return number ** 2"
   ]
  },
  {
   "cell_type": "code",
   "execution_count": 4,
   "metadata": {},
   "outputs": [],
   "source": [
    "# This won't work, because the \"getSquare()\" function needs to be vectorized \n",
    "# to accept an entire NumPy object as a parameter.\n",
    "# getSquare(array_01)"
   ]
  },
  {
   "cell_type": "code",
   "execution_count": 5,
   "metadata": {},
   "outputs": [],
   "source": [
    "# ?np.vectorize\n",
    "v_getSquare = np.vectorize(getSquare)"
   ]
  },
  {
   "cell_type": "code",
   "execution_count": 6,
   "metadata": {},
   "outputs": [
    {
     "data": {
      "text/plain": [
       "numpy.vectorize"
      ]
     },
     "execution_count": 6,
     "metadata": {},
     "output_type": "execute_result"
    }
   ],
   "source": [
    "type(v_getSquare)"
   ]
  },
  {
   "cell_type": "code",
   "execution_count": 7,
   "metadata": {},
   "outputs": [
    {
     "data": {
      "text/plain": [
       "array([ 784, 1156,  289,  729,  121,  225,   49,  900, 1521,  484,  289,\n",
       "         81,   16,  100,    9, 1296,  900,  900,   81, 2401])"
      ]
     },
     "execution_count": 7,
     "metadata": {},
     "output_type": "execute_result"
    }
   ],
   "source": [
    "# Vectorized Function:\n",
    "v_getSquare(array_01)"
   ]
  },
  {
   "cell_type": "code",
   "execution_count": 8,
   "metadata": {},
   "outputs": [
    {
     "name": "stdout",
     "output_type": "stream",
     "text": [
      "[784, 1156, 289, 729, 121, 225, 49, 900, 1521, 484, 289, 81, 16, 100, 9, 1296, 900, 900, 81, 2401] "
     ]
    }
   ],
   "source": [
    "# List Comprehension:\n",
    "print([getSquare(number) for number in array_01], end = ' ')"
   ]
  },
  {
   "cell_type": "code",
   "execution_count": 9,
   "metadata": {},
   "outputs": [
    {
     "name": "stdout",
     "output_type": "stream",
     "text": [
      "[784, 1156, 289, 729, 121, 225, 49, 900, 1521, 484, 289, 81, 16, 100, 9, 1296, 900, 900, 81, 2401] "
     ]
    }
   ],
   "source": [
    "# Map Function:\n",
    "print(list(map(getSquare, array_01)), end = ' ')"
   ]
  },
  {
   "cell_type": "markdown",
   "metadata": {},
   "source": [
    "### Performance Evaluation"
   ]
  },
  {
   "cell_type": "code",
   "execution_count": 10,
   "metadata": {},
   "outputs": [
    {
     "name": "stdout",
     "output_type": "stream",
     "text": [
      "36.7 µs ± 5.85 µs per loop (mean ± std. dev. of 7 runs, 10000 loops each)\n",
      "14.8 µs ± 415 ns per loop (mean ± std. dev. of 7 runs, 100000 loops each)\n",
      "14.2 µs ± 475 ns per loop (mean ± std. dev. of 7 runs, 100000 loops each)\n"
     ]
    }
   ],
   "source": [
    "# Vectorized Function:\n",
    "%timeit v_getSquare(array_01)\n",
    "\n",
    "# List Comprehension:\n",
    "%timeit [getSquare(number) for number in array_01]\n",
    "\n",
    "# Map Function:\n",
    "%timeit list(map(getSquare, array_01))"
   ]
  },
  {
   "cell_type": "markdown",
   "metadata": {},
   "source": [
    "### The vectorized function was slower than the map function and the list comprehheension. But this scenario is reversed when we work with larger arrays:"
   ]
  },
  {
   "cell_type": "code",
   "execution_count": 11,
   "metadata": {},
   "outputs": [],
   "source": [
    "array_02 = np.random.randint(0, 50, 15000)"
   ]
  },
  {
   "cell_type": "code",
   "execution_count": 12,
   "metadata": {},
   "outputs": [
    {
     "name": "stdout",
     "output_type": "stream",
     "text": [
      "7.59 ms ± 214 µs per loop (mean ± std. dev. of 7 runs, 100 loops each)\n",
      "10.2 ms ± 488 µs per loop (mean ± std. dev. of 7 runs, 100 loops each)\n",
      "9.18 ms ± 264 µs per loop (mean ± std. dev. of 7 runs, 100 loops each)\n"
     ]
    }
   ],
   "source": [
    "# Vectorized Function:\n",
    "%timeit v_getSquare(array_02)\n",
    "\n",
    "# List Comprehension:\n",
    "%timeit [getSquare(number) for number in array_02]\n",
    "\n",
    "# Map Function:\n",
    "%timeit list(map(getSquare, array_02))"
   ]
  }
 ],
 "metadata": {
  "kernelspec": {
   "display_name": "Python 3",
   "language": "python",
   "name": "python3"
  },
  "language_info": {
   "codemirror_mode": {
    "name": "ipython",
    "version": 3
   },
   "file_extension": ".py",
   "mimetype": "text/x-python",
   "name": "python",
   "nbconvert_exporter": "python",
   "pygments_lexer": "ipython3",
   "version": "3.7.6"
  }
 },
 "nbformat": 4,
 "nbformat_minor": 4
}
