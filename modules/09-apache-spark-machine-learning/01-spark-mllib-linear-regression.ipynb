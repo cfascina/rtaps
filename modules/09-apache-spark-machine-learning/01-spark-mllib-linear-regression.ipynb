{
 "cells": [
  {
   "cell_type": "markdown",
   "metadata": {},
   "source": [
    "### Spark MLLib - Linear Regression"
   ]
  },
  {
   "cell_type": "markdown",
   "metadata": {},
   "source": [
    "**Description**"
   ]
  },
  {
   "cell_type": "markdown",
   "metadata": {},
   "source": [
    "- Method to evaluate the relationship between variables.\n",
    "- Estimates the value of a dependent variable from the values of the independent variables.\n",
    "- Used when the dependent and independent variables are continuous and have some correlation.\n",
    "- R-Square measures how close the data is to the regression line (the R-Squar value will be between 0 and 1, and the higher the value, the better).\n",
    "- Input and output data are used to build the model.\n",
    "- The linear equation returns the values of the coefficients.\n",
    "- The linear equation represents the model."
   ]
  },
  {
   "cell_type": "markdown",
   "metadata": {},
   "source": [
    "**Pros:** Low cost, fast and excellent for linear relations."
   ]
  },
  {
   "cell_type": "markdown",
   "metadata": {},
   "source": [
    "**Cons:** It is applied only to numeric variables, and is sensitive to outliers."
   ]
  },
  {
   "cell_type": "markdown",
   "metadata": {},
   "source": [
    "**Application:** It's one of the oldest models, and can be used to solve several problems."
   ]
  },
  {
   "cell_type": "markdown",
   "metadata": {},
   "source": [
    "### Predicting MPG Values"
   ]
  },
  {
   "cell_type": "markdown",
   "metadata": {},
   "source": [
    "MPG will be the target variable and the others will be the features (predictor variables)."
   ]
  },
  {
   "cell_type": "code",
   "execution_count": 1,
   "metadata": {},
   "outputs": [],
   "source": [
    "from pyspark.ml.evaluation import RegressionEvaluator\n",
    "from pyspark.ml.linalg import Vectors\n",
    "from pyspark.ml.regression import LinearRegression\n",
    "from pyspark.sql import Row"
   ]
  },
  {
   "cell_type": "code",
   "execution_count": 2,
   "metadata": {},
   "outputs": [],
   "source": [
    "spSession = SparkSession.builder.master('local').appName('MpgPrediction').getOrCreate()"
   ]
  },
  {
   "cell_type": "code",
   "execution_count": 3,
   "metadata": {},
   "outputs": [],
   "source": [
    "rddCars01 = sc.textFile('aux/datasets/cars.csv')"
   ]
  },
  {
   "cell_type": "markdown",
   "metadata": {},
   "source": [
    "**We can cache the RDD to optimize performance.**"
   ]
  },
  {
   "cell_type": "code",
   "execution_count": 4,
   "metadata": {},
   "outputs": [
    {
     "data": {
      "text/plain": [
       "aux/datasets/cars.csv MapPartitionsRDD[1] at textFile at NativeMethodAccessorImpl.java:0"
      ]
     },
     "execution_count": 4,
     "metadata": {},
     "output_type": "execute_result"
    }
   ],
   "source": [
    "rddCars01.cache()"
   ]
  },
  {
   "cell_type": "code",
   "execution_count": 5,
   "metadata": {},
   "outputs": [
    {
     "data": {
      "text/plain": [
       "399"
      ]
     },
     "execution_count": 5,
     "metadata": {},
     "output_type": "execute_result"
    }
   ],
   "source": [
    "rddCars01.count()"
   ]
  },
  {
   "cell_type": "code",
   "execution_count": 6,
   "metadata": {},
   "outputs": [
    {
     "data": {
      "text/plain": [
       "['MPG,CYLINDERS,DISPLACEMENT,HORSEPOWER,WEIGHT,ACCELERATION,MODELYEAR,NAME',\n",
       " '18,8,307,130,3504,12,70,chevrolet chevelle malibu',\n",
       " '15,8,350,165,3693,11.5,70,buick skylark 320',\n",
       " '18,8,318,150,3436,11,70,plymouth satellite',\n",
       " '16,8,304,150,3433,12,70,amc rebel sst']"
      ]
     },
     "execution_count": 6,
     "metadata": {},
     "output_type": "execute_result"
    }
   ],
   "source": [
    "rddCars01.take(5)"
   ]
  },
  {
   "cell_type": "code",
   "execution_count": 7,
   "metadata": {},
   "outputs": [],
   "source": [
    "header = rddCars01.first()"
   ]
  },
  {
   "cell_type": "code",
   "execution_count": 8,
   "metadata": {},
   "outputs": [],
   "source": [
    "rddCars02 = rddCars01.filter(lambda row: row != header)"
   ]
  },
  {
   "cell_type": "code",
   "execution_count": 9,
   "metadata": {},
   "outputs": [
    {
     "data": {
      "text/plain": [
       "398"
      ]
     },
     "execution_count": 9,
     "metadata": {},
     "output_type": "execute_result"
    }
   ],
   "source": [
    "rddCars02.count()"
   ]
  },
  {
   "cell_type": "markdown",
   "metadata": {},
   "source": [
    "### Data Cleaning"
   ]
  },
  {
   "cell_type": "markdown",
   "metadata": {},
   "source": [
    "Analyzing the dataset, we know that there are missing values for the HP variable. So, we will use a default value for these cases."
   ]
  },
  {
   "cell_type": "code",
   "execution_count": 10,
   "metadata": {},
   "outputs": [],
   "source": [
    "hpAvg = sc.broadcast(75.0)"
   ]
  },
  {
   "cell_type": "code",
   "execution_count": 11,
   "metadata": {},
   "outputs": [],
   "source": [
    "def dataCleaning(strRow):\n",
    "    global hpAvg\n",
    "    listAttr = strRow.split(',')\n",
    "    \n",
    "    hpValue = hpAvg.value if listAttr[3] == '?' else listAttr[3]\n",
    "    \n",
    "    row = Row(\n",
    "        MPG          = float(listAttr[0]),\n",
    "        CYLINDERS    = float(listAttr[1]),\n",
    "        DISPLACEMENT = float(listAttr[2]),\n",
    "        HP           = float(hpValue),\n",
    "        WEIGHT       = float(listAttr[4]),\n",
    "        ACCELERATION = float(listAttr[5]),\n",
    "        MODEL_YEAR   = float(listAttr[6]),\n",
    "        NAME         = listAttr[7]\n",
    "    )\n",
    "    \n",
    "    return row"
   ]
  },
  {
   "cell_type": "code",
   "execution_count": 12,
   "metadata": {},
   "outputs": [],
   "source": [
    "rddCars03 = rddCars02.map(dataCleaning)"
   ]
  },
  {
   "cell_type": "code",
   "execution_count": 13,
   "metadata": {},
   "outputs": [
    {
     "data": {
      "text/plain": [
       "PythonRDD[6] at RDD at PythonRDD.scala:53"
      ]
     },
     "execution_count": 13,
     "metadata": {},
     "output_type": "execute_result"
    }
   ],
   "source": [
    "rddCars03.cache()"
   ]
  },
  {
   "cell_type": "code",
   "execution_count": 14,
   "metadata": {},
   "outputs": [
    {
     "data": {
      "text/plain": [
       "[Row(MPG=18.0, CYLINDERS=8.0, DISPLACEMENT=307.0, HP=130.0, WEIGHT=3504.0, ACCELERATION=12.0, MODEL_YEAR=70.0, NAME='chevrolet chevelle malibu'),\n",
       " Row(MPG=15.0, CYLINDERS=8.0, DISPLACEMENT=350.0, HP=165.0, WEIGHT=3693.0, ACCELERATION=11.5, MODEL_YEAR=70.0, NAME='buick skylark 320'),\n",
       " Row(MPG=18.0, CYLINDERS=8.0, DISPLACEMENT=318.0, HP=150.0, WEIGHT=3436.0, ACCELERATION=11.0, MODEL_YEAR=70.0, NAME='plymouth satellite'),\n",
       " Row(MPG=16.0, CYLINDERS=8.0, DISPLACEMENT=304.0, HP=150.0, WEIGHT=3433.0, ACCELERATION=12.0, MODEL_YEAR=70.0, NAME='amc rebel sst'),\n",
       " Row(MPG=17.0, CYLINDERS=8.0, DISPLACEMENT=302.0, HP=140.0, WEIGHT=3449.0, ACCELERATION=10.5, MODEL_YEAR=70.0, NAME='ford torino')]"
      ]
     },
     "execution_count": 14,
     "metadata": {},
     "output_type": "execute_result"
    }
   ],
   "source": [
    "rddCars03.take(5)"
   ]
  },
  {
   "cell_type": "markdown",
   "metadata": {},
   "source": [
    "### Exploratory Data Analysis"
   ]
  },
  {
   "cell_type": "code",
   "execution_count": 15,
   "metadata": {},
   "outputs": [],
   "source": [
    "dfCars = spSession.createDataFrame(rddCars03)"
   ]
  },
  {
   "cell_type": "code",
   "execution_count": 16,
   "metadata": {},
   "outputs": [
    {
     "name": "stdout",
     "output_type": "stream",
     "text": [
      "+-------+-----------------+------------------+\n",
      "|summary|              MPG|         CYLINDERS|\n",
      "+-------+-----------------+------------------+\n",
      "|  count|              398|               398|\n",
      "|   mean|23.51457286432161| 5.454773869346734|\n",
      "| stddev|7.815984312565782|1.7010042445332125|\n",
      "|    min|              9.0|               3.0|\n",
      "|    max|             46.6|               8.0|\n",
      "+-------+-----------------+------------------+\n",
      "\n"
     ]
    }
   ],
   "source": [
    "dfCars.select('MPG', 'CYLINDERS').describe().show()"
   ]
  },
  {
   "cell_type": "code",
   "execution_count": 17,
   "metadata": {},
   "outputs": [
    {
     "name": "stdout",
     "output_type": "stream",
     "text": [
      "MPG correlation with MPG: 1.0\n",
      "MPG correlation with CYLINDERS: -0.7753962854205548\n",
      "MPG correlation with DISPLACEMENT: -0.8042028248058979\n",
      "MPG correlation with HP: -0.774704152349872\n",
      "MPG correlation with WEIGHT: -0.8317409332443347\n",
      "MPG correlation with ACCELERATION: 0.42028891210165004\n",
      "MPG correlation with MODEL_YEAR: 0.5792671330833091\n"
     ]
    }
   ],
   "source": [
    "for column in dfCars.columns:\n",
    "    if not(isinstance(dfCars.select(column).take(1)[0][0], str)):\n",
    "        print(f\"MPG correlation with {column}: {dfCars.stat.corr('MPG', column)}\")"
   ]
  },
  {
   "cell_type": "markdown",
   "metadata": {},
   "source": [
    "### Data Pre-Processing"
   ]
  },
  {
   "cell_type": "markdown",
   "metadata": {},
   "source": [
    "**Dense and Sparse Vectors**"
   ]
  },
  {
   "cell_type": "markdown",
   "metadata": {},
   "source": [
    "Conceptually, both represent the same vector. The sparse vector usually represents the dense vector with a tuple of indices and values. When a dense vector has many zero values, it may be interesting to make it a sparse vector to use less memory."
   ]
  },
  {
   "cell_type": "markdown",
   "metadata": {},
   "source": [
    "For example, take the folowing dense vector: **[1, 2, 0, 0, 5, 0, 9, 0, 0]**<br />\n",
    "As a sparce vector, it would be represented as **[(0, 1, 4, 6), (1, 2, 5 , 9)]**"
   ]
  },
  {
   "cell_type": "code",
   "execution_count": 18,
   "metadata": {},
   "outputs": [
    {
     "data": {
      "image/png": "[encoded data removed]",
      "text/plain": [
       "<IPython.core.display.Image object>"
      ]
     },
     "execution_count": 18,
     "metadata": {},
     "output_type": "execute_result"
    }
   ],
   "source": [
    "from IPython.display import Image\n",
    "\n",
    "Image('aux/images/vectors.png')"
   ]
  },
  {
   "cell_type": "markdown",
   "metadata": {},
   "source": [
    "**Creating a LabeledPoint (target, Vector[features])**<br />\n",
    "It removes not relevant columns to the model (or with low correlation)"
   ]
  },
  {
   "cell_type": "code",
   "execution_count": 19,
   "metadata": {},
   "outputs": [],
   "source": [
    "def setLabeledPoint(row):\n",
    "    labeledPoint = (\n",
    "        row['MPG'], \n",
    "        Vectors.dense([\n",
    "            row['ACCELERATION'], \n",
    "            row['DISPLACEMENT'], \n",
    "            row['HP'],\n",
    "            row['WEIGHT']\n",
    "        ])\n",
    "    )\n",
    "    \n",
    "    return labeledPoint"
   ]
  },
  {
   "cell_type": "code",
   "execution_count": 20,
   "metadata": {},
   "outputs": [],
   "source": [
    "rddCars04 = rddCars03.map(setLabeledPoint)"
   ]
  },
  {
   "cell_type": "code",
   "execution_count": 21,
   "metadata": {},
   "outputs": [],
   "source": [
    "dfCars = spSession.createDataFrame(rddCars04, ['label', 'features'])"
   ]
  },
  {
   "cell_type": "code",
   "execution_count": 22,
   "metadata": {},
   "outputs": [
    {
     "name": "stdout",
     "output_type": "stream",
     "text": [
      "+-----+--------------------+\n",
      "|label|            features|\n",
      "+-----+--------------------+\n",
      "| 18.0|[12.0,307.0,130.0...|\n",
      "| 15.0|[11.5,350.0,165.0...|\n",
      "| 18.0|[11.0,318.0,150.0...|\n",
      "| 16.0|[12.0,304.0,150.0...|\n",
      "| 17.0|[10.5,302.0,140.0...|\n",
      "+-----+--------------------+\n",
      "only showing top 5 rows\n",
      "\n"
     ]
    }
   ],
   "source": [
    "dfCars.select('label', 'features').show(5)"
   ]
  },
  {
   "cell_type": "code",
   "execution_count": 23,
   "metadata": {},
   "outputs": [
    {
     "data": {
      "text/plain": [
       "[(18.0, DenseVector([12.0, 307.0, 130.0, 3504.0])),\n",
       " (15.0, DenseVector([11.5, 350.0, 165.0, 3693.0])),\n",
       " (18.0, DenseVector([11.0, 318.0, 150.0, 3436.0])),\n",
       " (16.0, DenseVector([12.0, 304.0, 150.0, 3433.0])),\n",
       " (17.0, DenseVector([10.5, 302.0, 140.0, 3449.0]))]"
      ]
     },
     "execution_count": 23,
     "metadata": {},
     "output_type": "execute_result"
    }
   ],
   "source": [
    "rddCars04.take(5)"
   ]
  },
  {
   "cell_type": "markdown",
   "metadata": {},
   "source": [
    "### Machine Learning"
   ]
  },
  {
   "cell_type": "code",
   "execution_count": 24,
   "metadata": {},
   "outputs": [],
   "source": [
    "(dataTraining, dataTest) = dfCars.randomSplit([.7, .3])"
   ]
  },
  {
   "cell_type": "code",
   "execution_count": 25,
   "metadata": {},
   "outputs": [
    {
     "data": {
      "text/plain": [
       "284"
      ]
     },
     "execution_count": 25,
     "metadata": {},
     "output_type": "execute_result"
    }
   ],
   "source": [
    "dataTraining.count()"
   ]
  },
  {
   "cell_type": "code",
   "execution_count": 26,
   "metadata": {},
   "outputs": [
    {
     "data": {
      "text/plain": [
       "114"
      ]
     },
     "execution_count": 26,
     "metadata": {},
     "output_type": "execute_result"
    }
   ],
   "source": [
    "dataTest.count()"
   ]
  },
  {
   "cell_type": "code",
   "execution_count": 27,
   "metadata": {},
   "outputs": [
    {
     "data": {
      "text/plain": [
       "True"
      ]
     },
     "execution_count": 27,
     "metadata": {},
     "output_type": "execute_result"
    }
   ],
   "source": [
    "dataTraining.count() + dataTest.count() == dfCars.count()"
   ]
  },
  {
   "cell_type": "code",
   "execution_count": 28,
   "metadata": {},
   "outputs": [],
   "source": [
    "linearRegression = LinearRegression(maxIter = 10)"
   ]
  },
  {
   "cell_type": "code",
   "execution_count": 29,
   "metadata": {},
   "outputs": [],
   "source": [
    "model = linearRegression.fit(dataTraining)"
   ]
  },
  {
   "cell_type": "code",
   "execution_count": 30,
   "metadata": {},
   "outputs": [
    {
     "data": {
      "text/plain": [
       "LinearRegressionModel: uid=LinearRegression_92c82f202721, numFeatures=4"
      ]
     },
     "execution_count": 30,
     "metadata": {},
     "output_type": "execute_result"
    }
   ],
   "source": [
    "model"
   ]
  },
  {
   "cell_type": "code",
   "execution_count": 31,
   "metadata": {},
   "outputs": [
    {
     "name": "stdout",
     "output_type": "stream",
     "text": [
      "Coefficients: [-0.29545441909545384,-0.00965795761865128,-0.05754189918120035,-0.0046291606424957886]\n",
      "Intercept: 49.52971710194131\n"
     ]
    }
   ],
   "source": [
    "print(f'Coefficients: {str(model.coefficients)}')\n",
    "print(f'Intercept: {str(model.intercept)}')"
   ]
  },
  {
   "cell_type": "code",
   "execution_count": 32,
   "metadata": {},
   "outputs": [],
   "source": [
    "predictions = model.transform(dataTest)"
   ]
  },
  {
   "cell_type": "code",
   "execution_count": 33,
   "metadata": {},
   "outputs": [
    {
     "name": "stdout",
     "output_type": "stream",
     "text": [
      "+--------------------+------------------+\n",
      "|            features|        prediction|\n",
      "+--------------------+------------------+\n",
      "|[18.5,304.0,193.0...| 8.117016530343683|\n",
      "|[11.0,350.0,180.0...|15.580646878642732|\n",
      "|[14.0,400.0,150.0...| 9.766971579412932|\n",
      "|[11.0,455.0,225.0...| 6.019446118638257|\n",
      "|[11.0,440.0,215.0...| 7.739633173509112|\n",
      "+--------------------+------------------+\n",
      "only showing top 5 rows\n",
      "\n"
     ]
    }
   ],
   "source": [
    "predictions.select('features', 'prediction').show(5)"
   ]
  },
  {
   "cell_type": "code",
   "execution_count": 34,
   "metadata": {},
   "outputs": [],
   "source": [
    "evaluator = RegressionEvaluator(predictionCol = 'prediction', labelCol = 'label', metricName = 'r2')"
   ]
  },
  {
   "cell_type": "code",
   "execution_count": 35,
   "metadata": {},
   "outputs": [
    {
     "data": {
      "text/plain": [
       "0.7006587000445249"
      ]
     },
     "execution_count": 35,
     "metadata": {},
     "output_type": "execute_result"
    }
   ],
   "source": [
    "evaluator.evaluate(predictions)"
   ]
  }
 ],
 "metadata": {
  "kernelspec": {
   "display_name": "Python 3",
   "language": "python",
   "name": "python3"
  },
  "language_info": {
   "codemirror_mode": {
    "name": "ipython",
    "version": 3
   },
   "file_extension": ".py",
   "mimetype": "text/x-python",
   "name": "python",
   "nbconvert_exporter": "python",
   "pygments_lexer": "ipython3",
   "version": "3.8.3"
  }
 },
 "nbformat": 4,
 "nbformat_minor": 4
}
