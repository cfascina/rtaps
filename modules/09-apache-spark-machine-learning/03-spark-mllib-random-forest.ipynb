{
 "cells": [
  {
   "cell_type": "markdown",
   "metadata": {},
   "source": [
    "### Spark MLLib - Random Forest"
   ]
  },
  {
   "cell_type": "markdown",
   "metadata": {},
   "source": [
    "**Description**"
   ]
  },
  {
   "cell_type": "markdown",
   "metadata": {},
   "source": [
    "- It is one of the most popular algorithms.\n",
    "- It is an Ensemble Method algorithm.\n",
    "- The Random Forest model builds several models and each one is used to predict results individually. In the end, Random Forest takes a vote to choose the best model."
   ]
  },
  {
   "cell_type": "markdown",
   "metadata": {},
   "source": [
    "**Pros:** It usually offers good accuracy, is efficient with many predictor variables, works very well in parallel and is excellent with missing values."
   ]
  },
  {
   "cell_type": "markdown",
   "metadata": {},
   "source": [
    "**Cons:** It is slower and Bias can occur frequently."
   ]
  },
  {
   "cell_type": "markdown",
   "metadata": {},
   "source": [
    "**Application:** Scientific research, medical diagnosis."
   ]
  },
  {
   "cell_type": "markdown",
   "metadata": {},
   "source": [
    "### Classifying a Bank's Credit Risk"
   ]
  },
  {
   "cell_type": "code",
   "execution_count": 1,
   "metadata": {},
   "outputs": [],
   "source": [
    "import math\n",
    "\n",
    "from pyspark.ml.classification import RandomForestClassifier\n",
    "from pyspark.ml.evaluation import MulticlassClassificationEvaluator\n",
    "from pyspark.ml.feature import PCA\n",
    "from pyspark.ml.feature import StringIndexer\n",
    "from pyspark.ml.linalg import Vectors\n",
    "from pyspark.sql import Row"
   ]
  },
  {
   "cell_type": "code",
   "execution_count": 2,
   "metadata": {},
   "outputs": [],
   "source": [
    "spSession = SparkSession.builder.master('local').appName('BankCreditRisk').getOrCreate()"
   ]
  },
  {
   "cell_type": "code",
   "execution_count": 3,
   "metadata": {},
   "outputs": [],
   "source": [
    "rddBank01 = sc.textFile('aux/datasets/bank.csv')"
   ]
  },
  {
   "cell_type": "markdown",
   "metadata": {},
   "source": [
    "**We can cache the RDD to optimize performance.**"
   ]
  },
  {
   "cell_type": "code",
   "execution_count": 4,
   "metadata": {},
   "outputs": [
    {
     "data": {
      "text/plain": [
       "aux/datasets/bank.csv MapPartitionsRDD[1] at textFile at NativeMethodAccessorImpl.java:0"
      ]
     },
     "execution_count": 4,
     "metadata": {},
     "output_type": "execute_result"
    }
   ],
   "source": [
    "rddBank01.cache()"
   ]
  },
  {
   "cell_type": "code",
   "execution_count": 5,
   "metadata": {},
   "outputs": [
    {
     "data": {
      "text/plain": [
       "542"
      ]
     },
     "execution_count": 5,
     "metadata": {},
     "output_type": "execute_result"
    }
   ],
   "source": [
    "rddBank01.count()"
   ]
  },
  {
   "cell_type": "code",
   "execution_count": 6,
   "metadata": {},
   "outputs": [
    {
     "data": {
      "text/plain": [
       "['\"age\";\"job\";\"marital\";\"education\";\"default\";\"balance\";\"housing\";\"loan\";\"contact\";\"day\";\"month\";\"duration\";\"campaign\";\"pdays\";\"previous\";\"poutcome\";\"y\"',\n",
       " '30;\"unemployed\";\"married\";\"primary\";\"no\";1787;\"no\";\"no\";\"cellular\";19;\"oct\";79;1;-1;0;\"unknown\";\"no\"',\n",
       " '33;\"services\";\"married\";\"secondary\";\"no\";4789;\"yes\";\"yes\";\"cellular\";11;\"may\";220;1;339;4;\"failure\";\"yes\"',\n",
       " '35;\"management\";\"single\";\"tertiary\";\"no\";1350;\"yes\";\"no\";\"cellular\";16;\"apr\";185;1;330;1;\"failure\";\"yes\"',\n",
       " '30;\"management\";\"married\";\"tertiary\";\"no\";1476;\"yes\";\"yes\";\"unknown\";3;\"jun\";199;4;-1;0;\"unknown\";\"yes\"']"
      ]
     },
     "execution_count": 6,
     "metadata": {},
     "output_type": "execute_result"
    }
   ],
   "source": [
    "rddBank01.take(5)"
   ]
  },
  {
   "cell_type": "code",
   "execution_count": 7,
   "metadata": {},
   "outputs": [],
   "source": [
    "header = rddBank01.first()"
   ]
  },
  {
   "cell_type": "code",
   "execution_count": 8,
   "metadata": {},
   "outputs": [],
   "source": [
    "rddBank02 = rddBank01.filter(lambda row: row != header)"
   ]
  },
  {
   "cell_type": "code",
   "execution_count": 9,
   "metadata": {},
   "outputs": [
    {
     "data": {
      "text/plain": [
       "541"
      ]
     },
     "execution_count": 9,
     "metadata": {},
     "output_type": "execute_result"
    }
   ],
   "source": [
    "rddBank02.count()"
   ]
  },
  {
   "cell_type": "markdown",
   "metadata": {},
   "source": [
    "### Data Cleaning"
   ]
  },
  {
   "cell_type": "code",
   "execution_count": 10,
   "metadata": {},
   "outputs": [],
   "source": [
    "def dataCleaning(strRow):\n",
    "    listAttr = strRow.replace('\\\"', '').split(';')\n",
    "    \n",
    "    age       = float(listAttr[0])\n",
    "    balance   = float(listAttr[5])\n",
    "    single    = 1.0 if listAttr[2]  == \"single\"    else 0.0\n",
    "    married   = 1.0 if listAttr[2]  == \"married\"   else 0.0\n",
    "    divorced  = 1.0 if listAttr[2]  == \"divorced\"  else 0.0\n",
    "    primary   = 1.0 if listAttr[3]  == \"primary\"   else 0.0\n",
    "    secondary = 1.0 if listAttr[3]  == \"secondary\" else 0.0\n",
    "    tertiary  = 1.0 if listAttr[3]  == \"tertiary\"  else 0.0\n",
    "    default   = 0.0 if listAttr[4]  == \"no\"        else 1.0\n",
    "    loan      = 0.0 if listAttr[7]  == \"no\"        else 1.0\n",
    "    outcome   = 0.0 if listAttr[16] == \"no\"        else 1.0\n",
    "    \n",
    "    row = Row(\n",
    "        AGE = age,\n",
    "        BALANCE  = balance,\n",
    "        SINGLE = single,\n",
    "        MARRIED  = married,\n",
    "        DIVORCED = divorced,\n",
    "        PRIMARY = primary,\n",
    "        SECONDARY = secondary,\n",
    "        TERTIARY = tertiary,\n",
    "        DEFAULT = default,\n",
    "        LOAN = loan,\n",
    "        OUTCOME = outcome\n",
    "    )\n",
    "    \n",
    "    return row"
   ]
  },
  {
   "cell_type": "code",
   "execution_count": 11,
   "metadata": {},
   "outputs": [],
   "source": [
    "rddBank03 = rddBank02.map(dataCleaning)"
   ]
  },
  {
   "cell_type": "code",
   "execution_count": 12,
   "metadata": {},
   "outputs": [
    {
     "data": {
      "text/plain": [
       "[Row(AGE=30.0, BALANCE=1787.0, SINGLE=0.0, MARRIED=1.0, DIVORCED=0.0, PRIMARY=1.0, SECONDARY=0.0, TERTIARY=0.0, DEFAULT=0.0, LOAN=0.0, OUTCOME=0.0),\n",
       " Row(AGE=33.0, BALANCE=4789.0, SINGLE=0.0, MARRIED=1.0, DIVORCED=0.0, PRIMARY=0.0, SECONDARY=1.0, TERTIARY=0.0, DEFAULT=0.0, LOAN=1.0, OUTCOME=1.0),\n",
       " Row(AGE=35.0, BALANCE=1350.0, SINGLE=1.0, MARRIED=0.0, DIVORCED=0.0, PRIMARY=0.0, SECONDARY=0.0, TERTIARY=1.0, DEFAULT=0.0, LOAN=0.0, OUTCOME=1.0),\n",
       " Row(AGE=30.0, BALANCE=1476.0, SINGLE=0.0, MARRIED=1.0, DIVORCED=0.0, PRIMARY=0.0, SECONDARY=0.0, TERTIARY=1.0, DEFAULT=0.0, LOAN=1.0, OUTCOME=1.0),\n",
       " Row(AGE=59.0, BALANCE=0.0, SINGLE=0.0, MARRIED=1.0, DIVORCED=0.0, PRIMARY=0.0, SECONDARY=1.0, TERTIARY=0.0, DEFAULT=0.0, LOAN=0.0, OUTCOME=0.0)]"
      ]
     },
     "execution_count": 12,
     "metadata": {},
     "output_type": "execute_result"
    }
   ],
   "source": [
    "rddBank03.collect()[:5]"
   ]
  },
  {
   "cell_type": "markdown",
   "metadata": {},
   "source": [
    "### Exploratory Data Analysis"
   ]
  },
  {
   "cell_type": "markdown",
   "metadata": {},
   "source": [
    "**Converting the RDD to a DataFrame**"
   ]
  },
  {
   "cell_type": "code",
   "execution_count": 13,
   "metadata": {},
   "outputs": [],
   "source": [
    "dfBank = spSession.createDataFrame(rddBank03)"
   ]
  },
  {
   "cell_type": "code",
   "execution_count": 14,
   "metadata": {},
   "outputs": [
    {
     "name": "stdout",
     "output_type": "stream",
     "text": [
      "+-------+------------------+------------------+------------------+------------------+-------------------+\n",
      "|summary|               AGE|           BALANCE|            SINGLE|           MARRIED|           DIVORCED|\n",
      "+-------+------------------+------------------+------------------+------------------+-------------------+\n",
      "|  count|               541|               541|               541|               541|                541|\n",
      "|   mean| 41.26987060998152|1444.7818853974122|0.2754158964879852|0.6155268022181146|0.10905730129390019|\n",
      "| stddev|10.555374170161665|2423.2722735171924|0.4471370479760759|0.4869207382098541| 0.3119995822161848|\n",
      "|    min|              19.0|           -1206.0|               0.0|               0.0|                0.0|\n",
      "|    max|              78.0|           16873.0|               1.0|               1.0|                1.0|\n",
      "+-------+------------------+------------------+------------------+------------------+-------------------+\n",
      "\n"
     ]
    }
   ],
   "source": [
    "dfBank.describe(['AGE', 'BALANCE', 'SINGLE', 'MARRIED', 'DIVORCED']).show()"
   ]
  },
  {
   "cell_type": "code",
   "execution_count": 15,
   "metadata": {},
   "outputs": [
    {
     "name": "stdout",
     "output_type": "stream",
     "text": [
      "+-------+--------------------+-------------------+-------------------+\n",
      "|summary|             DEFAULT|               LOAN|            OUTCOME|\n",
      "+-------+--------------------+-------------------+-------------------+\n",
      "|  count|                 541|                541|                541|\n",
      "|   mean|0.022181146025878003|0.16266173752310537| 0.3974121996303142|\n",
      "| stddev|  0.1474086424402979|0.36939832735881994|0.48981549262335145|\n",
      "|    min|                 0.0|                0.0|                0.0|\n",
      "|    max|                 1.0|                1.0|                1.0|\n",
      "+-------+--------------------+-------------------+-------------------+\n",
      "\n"
     ]
    }
   ],
   "source": [
    "dfBank.describe(['DEFAULT', 'LOAN', 'OUTCOME']).show()"
   ]
  },
  {
   "cell_type": "code",
   "execution_count": 16,
   "metadata": {},
   "outputs": [
    {
     "name": "stdout",
     "output_type": "stream",
     "text": [
      "+-------+--------------------+-------------------+-------------------+\n",
      "|summary|             DEFAULT|               LOAN|            OUTCOME|\n",
      "+-------+--------------------+-------------------+-------------------+\n",
      "|  count|                 541|                541|                541|\n",
      "|   mean|0.022181146025878003|0.16266173752310537| 0.3974121996303142|\n",
      "| stddev|  0.1474086424402979|0.36939832735881994|0.48981549262335145|\n",
      "|    min|                 0.0|                0.0|                0.0|\n",
      "|    max|                 1.0|                1.0|                1.0|\n",
      "+-------+--------------------+-------------------+-------------------+\n",
      "\n"
     ]
    }
   ],
   "source": [
    "dfBank.describe(['DEFAULT', 'LOAN', 'OUTCOME']).show()"
   ]
  },
  {
   "cell_type": "code",
   "execution_count": 17,
   "metadata": {},
   "outputs": [
    {
     "name": "stdout",
     "output_type": "stream",
     "text": [
      "OUTCOME correlation with AGE: -0.18232104327365253\n",
      "OUTCOME correlation with BALANCE: 0.03657486611997681\n",
      "OUTCOME correlation with SINGLE: 0.46323284934360515\n",
      "OUTCOME correlation with MARRIED: -0.37532412991335623\n",
      "OUTCOME correlation with DIVORCED: -0.07812659940926987\n",
      "OUTCOME correlation with PRIMARY: -0.12561548832677982\n",
      "OUTCOME correlation with SECONDARY: 0.026392774894072973\n",
      "OUTCOME correlation with TERTIARY: 0.08494840766635618\n",
      "OUTCOME correlation with DEFAULT: -0.04536965206737378\n",
      "OUTCOME correlation with LOAN: -0.030420586112717318\n",
      "OUTCOME correlation with OUTCOME: 1.0\n"
     ]
    }
   ],
   "source": [
    "for column in dfBank.columns:\n",
    "    if not(isinstance(dfBank.select(column).take(1)[0][0], str)):\n",
    "        print(f\"OUTCOME correlation with {column}: {dfBank.stat.corr('OUTCOME', column)}\")"
   ]
  },
  {
   "cell_type": "markdown",
   "metadata": {},
   "source": [
    "### Data Pre-Processing"
   ]
  },
  {
   "cell_type": "markdown",
   "metadata": {},
   "source": [
    "**Creating a LabeledPoint (target, Vector[features])**<br />\n",
    "It removes not relevant columns to the model (or with low correlation)"
   ]
  },
  {
   "cell_type": "code",
   "execution_count": 18,
   "metadata": {},
   "outputs": [],
   "source": [
    "def setLabeledPoint(row):\n",
    "    labeledPoint = (\n",
    "        row['OUTCOME'], \n",
    "        Vectors.dense([\n",
    "            row['AGE'],\n",
    "            row['BALANCE'],\n",
    "            row['SINGLE'],\n",
    "            row['MARRIED'],\n",
    "            row['DIVORCED'],\n",
    "            row['PRIMARY'],\n",
    "            row['SECONDARY'],\n",
    "            row['TERTIARY'],\n",
    "            row['DEFAULT'],\n",
    "            row['LOAN']\n",
    "        ])\n",
    "    )\n",
    "    \n",
    "    return labeledPoint"
   ]
  },
  {
   "cell_type": "code",
   "execution_count": 19,
   "metadata": {},
   "outputs": [],
   "source": [
    "rddBank04 = dfBank.rdd.map(setLabeledPoint)"
   ]
  },
  {
   "cell_type": "code",
   "execution_count": 20,
   "metadata": {},
   "outputs": [
    {
     "data": {
      "text/plain": [
       "[(0.0, DenseVector([30.0, 1787.0, 0.0, 1.0, 0.0, 1.0, 0.0, 0.0, 0.0, 0.0])),\n",
       " (1.0, DenseVector([33.0, 4789.0, 0.0, 1.0, 0.0, 0.0, 1.0, 0.0, 0.0, 1.0])),\n",
       " (1.0, DenseVector([35.0, 1350.0, 1.0, 0.0, 0.0, 0.0, 0.0, 1.0, 0.0, 0.0])),\n",
       " (1.0, DenseVector([30.0, 1476.0, 0.0, 1.0, 0.0, 0.0, 0.0, 1.0, 0.0, 1.0])),\n",
       " (0.0, DenseVector([59.0, 0.0, 0.0, 1.0, 0.0, 0.0, 1.0, 0.0, 0.0, 0.0]))]"
      ]
     },
     "execution_count": 20,
     "metadata": {},
     "output_type": "execute_result"
    }
   ],
   "source": [
    "rddBank04.take(5)"
   ]
  },
  {
   "cell_type": "code",
   "execution_count": 21,
   "metadata": {},
   "outputs": [],
   "source": [
    "dfBank = spSession.createDataFrame(rddBank04, ['label', 'features'])"
   ]
  },
  {
   "cell_type": "code",
   "execution_count": 22,
   "metadata": {},
   "outputs": [
    {
     "name": "stdout",
     "output_type": "stream",
     "text": [
      "+-----+--------------------+\n",
      "|label|            features|\n",
      "+-----+--------------------+\n",
      "|  0.0|[30.0,1787.0,0.0,...|\n",
      "|  1.0|[33.0,4789.0,0.0,...|\n",
      "|  1.0|[35.0,1350.0,1.0,...|\n",
      "|  1.0|[30.0,1476.0,0.0,...|\n",
      "|  0.0|[59.0,0.0,0.0,1.0...|\n",
      "+-----+--------------------+\n",
      "only showing top 5 rows\n",
      "\n"
     ]
    }
   ],
   "source": [
    "dfBank.select('label', 'features').show(5)"
   ]
  },
  {
   "cell_type": "markdown",
   "metadata": {},
   "source": [
    "**Applying PCA**"
   ]
  },
  {
   "cell_type": "code",
   "execution_count": 23,
   "metadata": {},
   "outputs": [],
   "source": [
    "pcaBank = PCA(k = 3, inputCol = 'features', outputCol = 'pca_features')"
   ]
  },
  {
   "cell_type": "code",
   "execution_count": 24,
   "metadata": {},
   "outputs": [],
   "source": [
    "pcaModel = pcaBank.fit(dfBank)"
   ]
  },
  {
   "cell_type": "code",
   "execution_count": 25,
   "metadata": {},
   "outputs": [],
   "source": [
    "pcaResult = pcaModel.transform(dfBank).select('label', 'pca_features')"
   ]
  },
  {
   "cell_type": "code",
   "execution_count": 26,
   "metadata": {},
   "outputs": [
    {
     "name": "stdout",
     "output_type": "stream",
     "text": [
      "+-----+-------------------------------------------------------------+\n",
      "|label|pca_features                                                 |\n",
      "+-----+-------------------------------------------------------------+\n",
      "|0.0  |[-1787.018897197381,28.86209683775529,0.06459982604876331]   |\n",
      "|1.0  |[-4789.020177138492,29.922562636341947,0.9830243513096395]   |\n",
      "|1.0  |[-1350.022213163262,34.10110809796688,-0.8951427168301695]   |\n",
      "|1.0  |[-1476.0189517184556,29.051333993596703,-0.39527238680219323]|\n",
      "|0.0  |[-0.037889185366442445,58.9897182000177,0.7290792383661886]  |\n",
      "+-----+-------------------------------------------------------------+\n",
      "only showing top 5 rows\n",
      "\n"
     ]
    }
   ],
   "source": [
    "pcaResult.show(5, truncate = False)"
   ]
  },
  {
   "cell_type": "markdown",
   "metadata": {},
   "source": [
    "**Creating a numeric index for the label target column**"
   ]
  },
  {
   "cell_type": "code",
   "execution_count": 27,
   "metadata": {},
   "outputs": [],
   "source": [
    "stringIndexer = StringIndexer(inputCol = 'label', outputCol = 'indexed')"
   ]
  },
  {
   "cell_type": "code",
   "execution_count": 28,
   "metadata": {},
   "outputs": [],
   "source": [
    "stringIndexerModel = stringIndexer.fit(pcaResult)"
   ]
  },
  {
   "cell_type": "code",
   "execution_count": 29,
   "metadata": {},
   "outputs": [],
   "source": [
    "dfBank = stringIndexerModel.transform(pcaResult)"
   ]
  },
  {
   "cell_type": "code",
   "execution_count": 30,
   "metadata": {},
   "outputs": [
    {
     "data": {
      "text/plain": [
       "[Row(label=0.0, pca_features=DenseVector([-1787.0189, 28.8621, 0.0646]), indexed=0.0),\n",
       " Row(label=1.0, pca_features=DenseVector([-4789.0202, 29.9226, 0.983]), indexed=1.0),\n",
       " Row(label=1.0, pca_features=DenseVector([-1350.0222, 34.1011, -0.8951]), indexed=1.0),\n",
       " Row(label=1.0, pca_features=DenseVector([-1476.019, 29.0513, -0.3953]), indexed=1.0),\n",
       " Row(label=0.0, pca_features=DenseVector([-0.0379, 58.9897, 0.7291]), indexed=0.0)]"
      ]
     },
     "execution_count": 30,
     "metadata": {},
     "output_type": "execute_result"
    }
   ],
   "source": [
    "dfBank.take(5)"
   ]
  },
  {
   "cell_type": "markdown",
   "metadata": {},
   "source": [
    "### Machine Learning"
   ]
  },
  {
   "cell_type": "code",
   "execution_count": 31,
   "metadata": {},
   "outputs": [],
   "source": [
    "(dataTraining, dataTest) = dfBank.randomSplit([.7, .3])"
   ]
  },
  {
   "cell_type": "code",
   "execution_count": 32,
   "metadata": {},
   "outputs": [
    {
     "data": {
      "text/plain": [
       "376"
      ]
     },
     "execution_count": 32,
     "metadata": {},
     "output_type": "execute_result"
    }
   ],
   "source": [
    "dataTraining.count()"
   ]
  },
  {
   "cell_type": "code",
   "execution_count": 33,
   "metadata": {},
   "outputs": [
    {
     "data": {
      "text/plain": [
       "165"
      ]
     },
     "execution_count": 33,
     "metadata": {},
     "output_type": "execute_result"
    }
   ],
   "source": [
    "dataTest.count()"
   ]
  },
  {
   "cell_type": "code",
   "execution_count": 34,
   "metadata": {},
   "outputs": [
    {
     "data": {
      "text/plain": [
       "True"
      ]
     },
     "execution_count": 34,
     "metadata": {},
     "output_type": "execute_result"
    }
   ],
   "source": [
    "dataTraining.count() + dataTest.count() == dfBank.count()"
   ]
  },
  {
   "cell_type": "code",
   "execution_count": 35,
   "metadata": {},
   "outputs": [],
   "source": [
    "randomForestClassifier = RandomForestClassifier(labelCol = 'indexed', featuresCol = 'pca_features')"
   ]
  },
  {
   "cell_type": "code",
   "execution_count": 36,
   "metadata": {},
   "outputs": [],
   "source": [
    "model = randomForestClassifier.fit(dataTraining)"
   ]
  },
  {
   "cell_type": "code",
   "execution_count": 37,
   "metadata": {},
   "outputs": [
    {
     "data": {
      "text/plain": [
       "RandomForestClassificationModel: uid=RandomForestClassifier_318ab898e4ec, numTrees=20, numClasses=2, numFeatures=3"
      ]
     },
     "execution_count": 37,
     "metadata": {},
     "output_type": "execute_result"
    }
   ],
   "source": [
    "model"
   ]
  },
  {
   "cell_type": "code",
   "execution_count": 38,
   "metadata": {},
   "outputs": [
    {
     "name": "stdout",
     "output_type": "stream",
     "text": [
      "Features number: 3\n",
      "Classses number: 2\n"
     ]
    }
   ],
   "source": [
    "print(f'Features number: {str(model.numFeatures)}')\n",
    "print(f'Classses number: {str(model.numClasses)}')"
   ]
  },
  {
   "cell_type": "code",
   "execution_count": 39,
   "metadata": {},
   "outputs": [],
   "source": [
    "predictions = model.transform(dataTest)"
   ]
  },
  {
   "cell_type": "code",
   "execution_count": 40,
   "metadata": {},
   "outputs": [
    {
     "name": "stdout",
     "output_type": "stream",
     "text": [
      "+-----+-------+--------------------+----------+\n",
      "|label|indexed|        pca_features|prediction|\n",
      "+-----+-------+--------------------+----------+\n",
      "|  0.0|    0.0|[-14093.033692429...|       0.0|\n",
      "|  0.0|    0.0|[-11494.034229470...|       0.0|\n",
      "|  0.0|    0.0|[-9374.0231055509...|       1.0|\n",
      "|  0.0|    0.0|[-7190.0255034198...|       0.0|\n",
      "|  0.0|    0.0|[-5996.0302268844...|       0.0|\n",
      "+-----+-------+--------------------+----------+\n",
      "only showing top 5 rows\n",
      "\n"
     ]
    }
   ],
   "source": [
    "predictions.select('label', 'indexed', 'pca_features', 'prediction').show(5)"
   ]
  },
  {
   "cell_type": "code",
   "execution_count": 41,
   "metadata": {},
   "outputs": [],
   "source": [
    "evaluator = MulticlassClassificationEvaluator(\n",
    "    predictionCol = 'prediction', \n",
    "    labelCol = 'indexed', \n",
    "    metricName = 'accuracy')"
   ]
  },
  {
   "cell_type": "code",
   "execution_count": 42,
   "metadata": {},
   "outputs": [
    {
     "data": {
      "text/plain": [
       "0.6909090909090909"
      ]
     },
     "execution_count": 42,
     "metadata": {},
     "output_type": "execute_result"
    }
   ],
   "source": [
    "evaluator.evaluate(predictions)"
   ]
  },
  {
   "cell_type": "markdown",
   "metadata": {},
   "source": [
    "**Confusion Matrix - Summing Up Predictions**"
   ]
  },
  {
   "cell_type": "code",
   "execution_count": 43,
   "metadata": {},
   "outputs": [
    {
     "name": "stdout",
     "output_type": "stream",
     "text": [
      "+-------+----------+-----+\n",
      "|indexed|prediction|count|\n",
      "+-------+----------+-----+\n",
      "|    1.0|       1.0|   18|\n",
      "|    0.0|       1.0|   12|\n",
      "|    1.0|       0.0|   39|\n",
      "|    0.0|       0.0|   96|\n",
      "+-------+----------+-----+\n",
      "\n"
     ]
    }
   ],
   "source": [
    "predictions.groupBy('indexed', 'prediction').count().show()"
   ]
  }
 ],
 "metadata": {
  "kernelspec": {
   "display_name": "Python 3",
   "language": "python",
   "name": "python3"
  },
  "language_info": {
   "codemirror_mode": {
    "name": "ipython",
    "version": 3
   },
   "file_extension": ".py",
   "mimetype": "text/x-python",
   "name": "python",
   "nbconvert_exporter": "python",
   "pygments_lexer": "ipython3",
   "version": "3.8.3"
  }
 },
 "nbformat": 4,
 "nbformat_minor": 4
}
