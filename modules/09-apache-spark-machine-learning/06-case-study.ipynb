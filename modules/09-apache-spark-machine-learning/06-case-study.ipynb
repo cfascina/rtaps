{
 "cells": [
  {
   "cell_type": "markdown",
   "metadata": {},
   "source": [
    "### Case Study - Aggregation and Summarization with MapReduce and PySpark"
   ]
  },
  {
   "cell_type": "code",
   "execution_count": 1,
   "metadata": {},
   "outputs": [],
   "source": [
    "from platform import python_version"
   ]
  },
  {
   "cell_type": "code",
   "execution_count": 2,
   "metadata": {},
   "outputs": [
    {
     "name": "stdout",
     "output_type": "stream",
     "text": [
      "Jupyter Notebook Python Version: 3.8.3\n"
     ]
    }
   ],
   "source": [
    "print(f'Jupyter Notebook Python Version: {python_version()}')"
   ]
  },
  {
   "cell_type": "markdown",
   "metadata": {},
   "source": [
    "**Installing (or updating) the watermark package.**<br />\n",
    "This package is used to record versions of other packages used on this jupyter notebook.<br />\n",
    "After installing or updating the package, restart the jupyter notebook."
   ]
  },
  {
   "cell_type": "code",
   "execution_count": 3,
   "metadata": {},
   "outputs": [],
   "source": [
    "# !pip install -q -U watermark"
   ]
  },
  {
   "cell_type": "code",
   "execution_count": 4,
   "metadata": {},
   "outputs": [],
   "source": [
    "import argparse\n",
    "import csv\n",
    "import numpy as np\n",
    "import pandas as pd\n",
    "import pyspark\n",
    "import time\n",
    "\n",
    "from datetime import datetime\n",
    "from pathlib import Path\n",
    "from pyspark import SparkContext\n",
    "from pyspark.sql.session import SparkSession"
   ]
  },
  {
   "cell_type": "markdown",
   "metadata": {},
   "source": [
    "**Showing Jupyter Notebook Packages Version**"
   ]
  },
  {
   "cell_type": "code",
   "execution_count": 5,
   "metadata": {},
   "outputs": [
    {
     "name": "stdout",
     "output_type": "stream",
     "text": [
      "csv      1.0\n",
      "argparse 1.1\n",
      "py4j     0.10.9\n",
      "pyspark  3.0.0\n",
      "pandas   1.0.5\n",
      "numpy    1.18.5\n",
      "platform 1.0.8\n",
      "Case Study\n"
     ]
    }
   ],
   "source": [
    "%reload_ext watermark\n",
    "%watermark -a 'Case Study' --iversions"
   ]
  },
  {
   "cell_type": "code",
   "execution_count": 6,
   "metadata": {},
   "outputs": [],
   "source": [
    "spark = SparkSession(sc)"
   ]
  },
  {
   "cell_type": "code",
   "execution_count": 7,
   "metadata": {},
   "outputs": [],
   "source": [
    "file = 'aux/datasets/bikes.csv'"
   ]
  },
  {
   "cell_type": "code",
   "execution_count": 8,
   "metadata": {},
   "outputs": [],
   "source": [
    "dfBikes = pd.read_csv(file)"
   ]
  },
  {
   "cell_type": "code",
   "execution_count": 9,
   "metadata": {},
   "outputs": [
    {
     "data": {
      "text/html": [
       "<div>\n",
       "<style scoped>\n",
       "    .dataframe tbody tr th:only-of-type {\n",
       "        vertical-align: middle;\n",
       "    }\n",
       "\n",
       "    .dataframe tbody tr th {\n",
       "        vertical-align: top;\n",
       "    }\n",
       "\n",
       "    .dataframe thead th {\n",
       "        text-align: right;\n",
       "    }\n",
       "</style>\n",
       "<table border=\"1\" class=\"dataframe\">\n",
       "  <thead>\n",
       "    <tr style=\"text-align: right;\">\n",
       "      <th></th>\n",
       "      <th>Genero_Usuario</th>\n",
       "      <th>Idade_Usuario</th>\n",
       "      <th>Bike</th>\n",
       "      <th>Estacao_Aluguel</th>\n",
       "      <th>Data_Aluguel</th>\n",
       "      <th>Hora_Aluguel</th>\n",
       "      <th>Estacao_Chegada</th>\n",
       "      <th>Data_Chegada</th>\n",
       "      <th>Hora_Chegada</th>\n",
       "    </tr>\n",
       "  </thead>\n",
       "  <tbody>\n",
       "    <tr>\n",
       "      <th>0</th>\n",
       "      <td>M</td>\n",
       "      <td>44</td>\n",
       "      <td>4357</td>\n",
       "      <td>442</td>\n",
       "      <td>01/02/2020</td>\n",
       "      <td>0:00:38</td>\n",
       "      <td>116</td>\n",
       "      <td>01/02/2020</td>\n",
       "      <td>0:35:17</td>\n",
       "    </tr>\n",
       "    <tr>\n",
       "      <th>1</th>\n",
       "      <td>M</td>\n",
       "      <td>22</td>\n",
       "      <td>12083</td>\n",
       "      <td>66</td>\n",
       "      <td>01/02/2020</td>\n",
       "      <td>0:00:53</td>\n",
       "      <td>37</td>\n",
       "      <td>01/02/2020</td>\n",
       "      <td>0:06:23</td>\n",
       "    </tr>\n",
       "    <tr>\n",
       "      <th>2</th>\n",
       "      <td>M</td>\n",
       "      <td>29</td>\n",
       "      <td>11562</td>\n",
       "      <td>331</td>\n",
       "      <td>01/02/2020</td>\n",
       "      <td>0:00:55</td>\n",
       "      <td>341</td>\n",
       "      <td>01/02/2020</td>\n",
       "      <td>0:26:47</td>\n",
       "    </tr>\n",
       "    <tr>\n",
       "      <th>3</th>\n",
       "      <td>M</td>\n",
       "      <td>27</td>\n",
       "      <td>10206</td>\n",
       "      <td>164</td>\n",
       "      <td>01/02/2020</td>\n",
       "      <td>0:01:18</td>\n",
       "      <td>35</td>\n",
       "      <td>01/02/2020</td>\n",
       "      <td>0:16:51</td>\n",
       "    </tr>\n",
       "    <tr>\n",
       "      <th>4</th>\n",
       "      <td>M</td>\n",
       "      <td>27</td>\n",
       "      <td>10101</td>\n",
       "      <td>120</td>\n",
       "      <td>01/02/2020</td>\n",
       "      <td>0:01:18</td>\n",
       "      <td>47</td>\n",
       "      <td>01/02/2020</td>\n",
       "      <td>0:12:39</td>\n",
       "    </tr>\n",
       "  </tbody>\n",
       "</table>\n",
       "</div>"
      ],
      "text/plain": [
       "  Genero_Usuario  Idade_Usuario   Bike  Estacao_Aluguel Data_Aluguel  \\\n",
       "0              M             44   4357              442   01/02/2020   \n",
       "1              M             22  12083               66   01/02/2020   \n",
       "2              M             29  11562              331   01/02/2020   \n",
       "3              M             27  10206              164   01/02/2020   \n",
       "4              M             27  10101              120   01/02/2020   \n",
       "\n",
       "  Hora_Aluguel  Estacao_Chegada Data_Chegada Hora_Chegada  \n",
       "0      0:00:38              116   01/02/2020      0:35:17  \n",
       "1      0:00:53               37   01/02/2020      0:06:23  \n",
       "2      0:00:55              341   01/02/2020      0:26:47  \n",
       "3      0:01:18               35   01/02/2020      0:16:51  \n",
       "4      0:01:18               47   01/02/2020      0:12:39  "
      ]
     },
     "execution_count": 9,
     "metadata": {},
     "output_type": "execute_result"
    }
   ],
   "source": [
    "dfBikes.head()"
   ]
  },
  {
   "cell_type": "code",
   "execution_count": 10,
   "metadata": {},
   "outputs": [
    {
     "data": {
      "text/plain": [
       "(686327, 9)"
      ]
     },
     "execution_count": 10,
     "metadata": {},
     "output_type": "execute_result"
    }
   ],
   "source": [
    "dfBikes.shape"
   ]
  },
  {
   "cell_type": "code",
   "execution_count": 11,
   "metadata": {},
   "outputs": [
    {
     "data": {
      "text/plain": [
       "Genero_Usuario     object\n",
       "Idade_Usuario       int64\n",
       "Bike                int64\n",
       "Estacao_Aluguel     int64\n",
       "Data_Aluguel       object\n",
       "Hora_Aluguel       object\n",
       "Estacao_Chegada     int64\n",
       "Data_Chegada       object\n",
       "Hora_Chegada       object\n",
       "dtype: object"
      ]
     },
     "execution_count": 11,
     "metadata": {},
     "output_type": "execute_result"
    }
   ],
   "source": [
    "dfBikes.dtypes"
   ]
  },
  {
   "cell_type": "markdown",
   "metadata": {},
   "source": [
    "### Functions"
   ]
  },
  {
   "cell_type": "code",
   "execution_count": 12,
   "metadata": {},
   "outputs": [],
   "source": [
    "def formatDate(date, time):\n",
    "    dateFormatted = datetime.strptime(date + ' ' + time, '%d/%m/%Y %H:%M:%S')\n",
    "    \n",
    "    return dateFormatted"
   ]
  },
  {
   "cell_type": "code",
   "execution_count": 13,
   "metadata": {},
   "outputs": [],
   "source": [
    "def getAgeGroup(age):\n",
    "    if age < 18:\n",
    "        return '00-17'\n",
    "    elif age >= 18 and age < 35:\n",
    "        return '18-34'\n",
    "    elif age >= 35 and age < 45:\n",
    "        return '35-44'\n",
    "    elif age >= 45 and age < 55:\n",
    "        return '45-54'\n",
    "    elif age >= 55 and age < 65:\n",
    "        return '55-64'\n",
    "    else:\n",
    "        return '65+'"
   ]
  },
  {
   "cell_type": "code",
   "execution_count": 14,
   "metadata": {},
   "outputs": [],
   "source": [
    "def dataCleaning(partitionId, records):\n",
    "    if partitionId == 0:\n",
    "        next(records)\n",
    "    \n",
    "    reader = csv.reader(records)\n",
    "    \n",
    "    for row in reader:\n",
    "        gender        = row[0]\n",
    "        age           = int(row[1])\n",
    "        bikeId        = int(row[2])\n",
    "        stationStart  = row[3]\n",
    "        stationEnd    = row[6]\n",
    "        dateTimeStart = formatDate(row[4], row[5])\n",
    "        dateTimeEnd   = formatDate(row[7], row[8])\n",
    "    \n",
    "        yield (\n",
    "            bikeId, \n",
    "            gender, \n",
    "            getAgeGroup(age),\n",
    "            stationStart,\n",
    "            stationEnd,\n",
    "            dateTimeStart,\n",
    "            dateTimeEnd\n",
    "        )"
   ]
  },
  {
   "cell_type": "code",
   "execution_count": 15,
   "metadata": {},
   "outputs": [],
   "source": [
    "def setRdd(sc, file):\n",
    "    print('Creating the RDD...')\n",
    "    print(f'Reading file: {file}')\n",
    "    rddRides = sc.textFile(file, use_unicode = True).mapPartitionsWithIndex(dataCleaning).cache()\n",
    "    print(f'Partitions number: {rddRides.getNumPartitions()}')\n",
    "    print('Done.')\n",
    "    \n",
    "    return rddRides"
   ]
  },
  {
   "cell_type": "code",
   "execution_count": 16,
   "metadata": {},
   "outputs": [],
   "source": [
    "def getTopStartStations(num, rddRides):\n",
    "    result = \\\n",
    "        rddRides \\\n",
    "            .map(lambda line: (line[3], line[6] - line[5])) \\\n",
    "            .filter(lambda line: line[1].total_seconds() <= 60 * 60 * 2) \\\n",
    "            .mapValues(lambda line: 1) \\\n",
    "            .reduceByKey(lambda key, value: key + value) \\\n",
    "            .map(lambda line: (line[1], line[0])) \\\n",
    "            .top(num, key = lambda n: n)\n",
    "    \n",
    "    return result"
   ]
  },
  {
   "cell_type": "code",
   "execution_count": 17,
   "metadata": {},
   "outputs": [],
   "source": [
    "def getTopRoutes(num, rddRides):\n",
    "    results = \\\n",
    "        rddRides \\\n",
    "            .map(lambda line: ((line[3], line[4]), line[6] - line[5])) \\\n",
    "            .filter(lambda line: line[1].total_seconds() <= 60 * 60 * 2) \\\n",
    "            .mapValues(lambda line: (line.total_seconds(), 1)) \\\n",
    "            .reduceByKey(lambda x, y: (x[0] + y[0], x[1] + y[1])) \\\n",
    "            .map(lambda line: (line[1][1], (line[0], line[1][0] / line[1][1]))) \\\n",
    "            .top(num, key = lambda x: x)\n",
    "    \n",
    "    return results"
   ]
  },
  {
   "cell_type": "code",
   "execution_count": 18,
   "metadata": {},
   "outputs": [],
   "source": [
    "def getGenderStats(rddRides):\n",
    "    results = \\\n",
    "        rddRides \\\n",
    "            .map(lambda line: (line[1], line[6] - line[5])) \\\n",
    "            .filter(lambda line: line[1].total_seconds() <= 60 * 60 * 2) \\\n",
    "            .mapValues(lambda line: (line.total_seconds(), 1)) \\\n",
    "            .reduceByKey(lambda x, y: ((x[0] + y[0]), x[1] + y[1])) \\\n",
    "            .mapValues(lambda line: (line[0] / line[1], line[1])) \\\n",
    "            .collect()\n",
    "    \n",
    "    return results"
   ]
  },
  {
   "cell_type": "code",
   "execution_count": 19,
   "metadata": {},
   "outputs": [],
   "source": [
    "def getAgeStats(rddRides):\n",
    "    results = \\\n",
    "        rddRides \\\n",
    "            .map(lambda line: (line[2], line[6] - line[5])) \\\n",
    "            .filter(lambda line: line[1].total_seconds() <= 60 * 60 * 2) \\\n",
    "            .mapValues(lambda line: (line.total_seconds(), 1)) \\\n",
    "            .reduceByKey(lambda x, y: ((x[0] + y[0]), x[1] + y[1])) \\\n",
    "            .mapValues(lambda line: (line[0] / line[1], line[1])) \\\n",
    "            .collect()\n",
    "    \n",
    "    return results"
   ]
  },
  {
   "cell_type": "code",
   "execution_count": 20,
   "metadata": {},
   "outputs": [],
   "source": [
    "def getTopBusyStations(num, rddRides, by_count = False):\n",
    "    results = \\\n",
    "        rddRides \\\n",
    "            .map(lambda line: (line[0], line[6] - line[5])) \\\n",
    "            .filter(lambda line: line[1].total_seconds() <= 60 * 60 * 2) \\\n",
    "            .mapValues(lambda line: (1, line.total_seconds())) \\\n",
    "            .reduceByKey(lambda x, y: ((x[0] + y[0]), x[1] + y[1])) \\\n",
    "            .map(lambda line: (line[1], line[0])) \\\n",
    "            \n",
    "    if by_count:\n",
    "        return results.top(num, key = lambda x: x[0][0])\n",
    "    else:\n",
    "        return results.top(num, key = lambda x: x[0][1])"
   ]
  },
  {
   "cell_type": "markdown",
   "metadata": {},
   "source": [
    "### Creating the RDD"
   ]
  },
  {
   "cell_type": "code",
   "execution_count": 21,
   "metadata": {},
   "outputs": [
    {
     "name": "stdout",
     "output_type": "stream",
     "text": [
      "Creating the RDD...\n",
      "Reading file: aux/datasets/bikes.csv\n",
      "Partitions number: 2\n",
      "Done.\n"
     ]
    }
   ],
   "source": [
    "rddRides = setRdd(sc, file)"
   ]
  },
  {
   "cell_type": "markdown",
   "metadata": {},
   "source": [
    "### 1. What are the 5 stations with the highest number of bicycle rentals?"
   ]
  },
  {
   "cell_type": "code",
   "execution_count": 22,
   "metadata": {},
   "outputs": [],
   "source": [
    "topStartStations = getTopStartStations(5, rddRides)"
   ]
  },
  {
   "cell_type": "code",
   "execution_count": 23,
   "metadata": {},
   "outputs": [
    {
     "name": "stdout",
     "output_type": "stream",
     "text": [
      "Station: 001 - Rentals: 6298\n",
      "Station: 027 - Rentals: 6201\n",
      "Station: 271 - Rentals: 5262\n",
      "Station: 064 - Rentals: 4825\n",
      "Station: 041 - Rentals: 4621\n"
     ]
    }
   ],
   "source": [
    "for station in topStartStations:\n",
    "    print('Station: {:03d} - Rentals: {:03d}'.format(int(station[1]), station[0]))"
   ]
  },
  {
   "cell_type": "markdown",
   "metadata": {},
   "source": [
    "### 2. What are the 5 most used routes (start and end station) and the average duration of each rental?"
   ]
  },
  {
   "cell_type": "code",
   "execution_count": 24,
   "metadata": {},
   "outputs": [],
   "source": [
    "topRoutes = getTopRoutes(5, rddRides)"
   ]
  },
  {
   "cell_type": "code",
   "execution_count": 25,
   "metadata": {},
   "outputs": [
    {
     "name": "stdout",
     "output_type": "stream",
     "text": [
      "From Station 033 to Station 033 - Rentals: 375 - Avg Duration(min): 30.23\n",
      "From Station 018 to Station 001 - Rentals: 319 - Avg Duration(min): 05.58\n",
      "From Station 211 to Station 217 - Rentals: 303 - Avg Duration(min): 03.54\n",
      "From Station 449 to Station 449 - Rentals: 301 - Avg Duration(min): 15.34\n",
      "From Station 208 to Station 206 - Rentals: 297 - Avg Duration(min): 08.53\n"
     ]
    }
   ],
   "source": [
    "for route in topRoutes:\n",
    "    print('From Station {:03d} to Station {:03d} - Rentals: {:03d} - Avg Duration(min): {:05.2f}' \\\n",
    "          .format(int(route[1][0][0]), int(route[1][0][1]), route[0], route[1][1] / 60)\n",
    "    )"
   ]
  },
  {
   "cell_type": "markdown",
   "metadata": {},
   "source": [
    "### 3. Which sex rents more bicyles? What is the average rental time by sex?"
   ]
  },
  {
   "cell_type": "code",
   "execution_count": 26,
   "metadata": {},
   "outputs": [],
   "source": [
    "genderStats = getGenderStats(rddRides)"
   ]
  },
  {
   "cell_type": "code",
   "execution_count": 27,
   "metadata": {},
   "outputs": [
    {
     "name": "stdout",
     "output_type": "stream",
     "text": [
      "Gender: M - Rentals: 509,782 - Avg Duration(min): 13.62\n",
      "Gender: F - Rentals: 174,808 - Avg Duration(min): 14.30\n"
     ]
    }
   ],
   "source": [
    "for item in genderStats:\n",
    "    print('Gender: {} - Rentals: {:,} - Avg Duration(min): {:.2f}' \\\n",
    "          .format(item[0], item[1][1], item[1][0] / 60)\n",
    "    )"
   ]
  },
  {
   "cell_type": "markdown",
   "metadata": {},
   "source": [
    "### 4. Which age group rents more bicyles? What is the average rental time by age group?"
   ]
  },
  {
   "cell_type": "code",
   "execution_count": 28,
   "metadata": {},
   "outputs": [],
   "source": [
    "ageStats = getAgeStats(rddRides)"
   ]
  },
  {
   "cell_type": "code",
   "execution_count": 29,
   "metadata": {},
   "outputs": [
    {
     "name": "stdout",
     "output_type": "stream",
     "text": [
      "Age: 35-44 - Rentals: 167,715 - Avg Duration(min): 13.58\n",
      "Age: 18-34 - Rentals: 392,040 - Avg Duration(min): 14.03\n",
      "Age: 45-54 - Rentals: 077,990 - Avg Duration(min): 13.30\n",
      "Age: 00-17 - Rentals: 001,332 - Avg Duration(min): 12.78\n",
      "Age: 55-64 - Rentals: 035,831 - Avg Duration(min): 13.30\n",
      "Age: 65+ - Rentals: 009,682 - Avg Duration(min): 13.69\n"
     ]
    }
   ],
   "source": [
    "for item in ageStats:\n",
    "    print('Age: {} - Rentals: {:07,} - Avg Duration(min): {:.2f}' \\\n",
    "          .format(item[0], item[1][1], item[1][0] / 60)\n",
    "    )"
   ]
  },
  {
   "cell_type": "markdown",
   "metadata": {},
   "source": [
    "### 5. Which stations have the highest number of rented/returned bicyles? What is the rentals total time (in minutes) of each one?"
   ]
  },
  {
   "cell_type": "code",
   "execution_count": 30,
   "metadata": {},
   "outputs": [],
   "source": [
    "topBusyStations = getTopBusyStations(3, rddRides, True)"
   ]
  },
  {
   "cell_type": "code",
   "execution_count": 31,
   "metadata": {},
   "outputs": [
    {
     "name": "stdout",
     "output_type": "stream",
     "text": [
      "Station: 10771 - Rentals: 217 - Minutes: 1,523.15\n",
      "Station: 10810 - Rentals: 208 - Minutes: 2,785.77\n",
      "Station: 07854 - Rentals: 192 - Minutes: 2,633.07\n"
     ]
    }
   ],
   "source": [
    "for item in topBusyStations:\n",
    "    print('Station: {:05d} - Rentals: {} - Minutes: {:,.2f}' \\\n",
    "          .format(item[1], item[0][0], item[0][1] / 60)\n",
    "    )"
   ]
  }
 ],
 "metadata": {
  "kernelspec": {
   "display_name": "Python 3",
   "language": "python",
   "name": "python3"
  },
  "language_info": {
   "codemirror_mode": {
    "name": "ipython",
    "version": 3
   },
   "file_extension": ".py",
   "mimetype": "text/x-python",
   "name": "python",
   "nbconvert_exporter": "python",
   "pygments_lexer": "ipython3",
   "version": "3.8.3"
  }
 },
 "nbformat": 4,
 "nbformat_minor": 4
}
