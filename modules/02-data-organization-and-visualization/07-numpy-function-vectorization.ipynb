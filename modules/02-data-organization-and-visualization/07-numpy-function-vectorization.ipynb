{
 "cells": [
  {
   "cell_type": "code",
   "execution_count": 1,
   "metadata": {},
   "outputs": [],
   "source": [
    "import numpy as np"
   ]
  },
  {
   "cell_type": "markdown",
   "metadata": {},
   "source": [
    "### We can use list comprehension and map function to work in NumPy arrays, but in some cases, the use of vectorization may be more efficient."
   ]
  },
  {
   "cell_type": "markdown",
   "metadata": {},
   "source": [
    "### With vectorization we can apply a function to an entire array at once, instead of applying the same function to element-to-element (similar to what we do with the map() and filter() functions)."
   ]
  },
  {
   "cell_type": "markdown",
   "metadata": {},
   "source": [
    "### When working with NumPy and Pandas objects, there are more efficient ways to apply a function to a set of elements, which will be faster than applying loops."
   ]
  },
  {
   "cell_type": "code",
   "execution_count": 2,
   "metadata": {},
   "outputs": [
    {
     "data": {
      "text/plain": [
       "array([39, 26,  2, 38, 15, 29, 22, 37, 15,  7, 14, 49, 45, 20,  2, 40, 14,\n",
       "       37, 38, 47])"
      ]
     },
     "execution_count": 2,
     "metadata": {},
     "output_type": "execute_result"
    }
   ],
   "source": [
    "array_01 = np.random.randint(0, 50, 20); array_01"
   ]
  },
  {
   "cell_type": "code",
   "execution_count": 3,
   "metadata": {},
   "outputs": [],
   "source": [
    "def getSquare(number):\n",
    "    return number ** 2"
   ]
  },
  {
   "cell_type": "code",
   "execution_count": 4,
   "metadata": {},
   "outputs": [],
   "source": [
    "# This won't work, because the \"getSquare()\" function needs to be vectorized \n",
    "# to accept an entire NumPy object as a parameter.\n",
    "# getSquare(array_01)"
   ]
  },
  {
   "cell_type": "code",
   "execution_count": 5,
   "metadata": {},
   "outputs": [],
   "source": [
    "# ?np.vectorize\n",
    "v_getSquare = np.vectorize(getSquare)"
   ]
  },
  {
   "cell_type": "code",
   "execution_count": 6,
   "metadata": {},
   "outputs": [
    {
     "data": {
      "text/plain": [
       "numpy.vectorize"
      ]
     },
     "execution_count": 6,
     "metadata": {},
     "output_type": "execute_result"
    }
   ],
   "source": [
    "type(v_getSquare)"
   ]
  },
  {
   "cell_type": "code",
   "execution_count": 7,
   "metadata": {},
   "outputs": [
    {
     "data": {
      "text/plain": [
       "array([1521,  676,    4, 1444,  225,  841,  484, 1369,  225,   49,  196,\n",
       "       2401, 2025,  400,    4, 1600,  196, 1369, 1444, 2209])"
      ]
     },
     "execution_count": 7,
     "metadata": {},
     "output_type": "execute_result"
    }
   ],
   "source": [
    "# Vectorized Function:\n",
    "v_getSquare(array_01)"
   ]
  },
  {
   "cell_type": "code",
   "execution_count": 8,
   "metadata": {},
   "outputs": [
    {
     "name": "stdout",
     "output_type": "stream",
     "text": [
      "[1521, 676, 4, 1444, 225, 841, 484, 1369, 225, 49, 196, 2401, 2025, 400, 4, 1600, 196, 1369, 1444, 2209] "
     ]
    }
   ],
   "source": [
    "# List Comprehension:\n",
    "print([getSquare(number) for number in array_01], end = ' ')"
   ]
  },
  {
   "cell_type": "code",
   "execution_count": 9,
   "metadata": {},
   "outputs": [
    {
     "name": "stdout",
     "output_type": "stream",
     "text": [
      "[1521, 676, 4, 1444, 225, 841, 484, 1369, 225, 49, 196, 2401, 2025, 400, 4, 1600, 196, 1369, 1444, 2209] "
     ]
    }
   ],
   "source": [
    "# Map Function:\n",
    "print(list(map(getSquare, array_01)), end = ' ')"
   ]
  },
  {
   "cell_type": "markdown",
   "metadata": {},
   "source": [
    "### Performance Evaluation"
   ]
  },
  {
   "cell_type": "code",
   "execution_count": 10,
   "metadata": {},
   "outputs": [
    {
     "name": "stdout",
     "output_type": "stream",
     "text": [
      "36.9 µs ± 9.53 µs per loop (mean ± std. dev. of 7 runs, 10000 loops each)\n",
      "15.8 µs ± 1.98 µs per loop (mean ± std. dev. of 7 runs, 100000 loops each)\n",
      "13.4 µs ± 104 ns per loop (mean ± std. dev. of 7 runs, 100000 loops each)\n"
     ]
    }
   ],
   "source": [
    "# Vectorized Function:\n",
    "%timeit v_getSquare(array_01)\n",
    "\n",
    "# List Comprehension:\n",
    "%timeit [getSquare(number) for number in array_01]\n",
    "\n",
    "# Map Function:\n",
    "%timeit list(map(getSquare, array_01))"
   ]
  },
  {
   "cell_type": "markdown",
   "metadata": {},
   "source": [
    "### The vectorized function was slower than the map function and the list comprehheension. But this scenario is reversed when we work with larger arrays:"
   ]
  },
  {
   "cell_type": "code",
   "execution_count": 11,
   "metadata": {},
   "outputs": [],
   "source": [
    "array_02 = np.random.randint(0, 50, 15000)"
   ]
  },
  {
   "cell_type": "code",
   "execution_count": 12,
   "metadata": {},
   "outputs": [
    {
     "name": "stdout",
     "output_type": "stream",
     "text": [
      "7.73 ms ± 73.3 µs per loop (mean ± std. dev. of 7 runs, 100 loops each)\n",
      "9.92 ms ± 53.3 µs per loop (mean ± std. dev. of 7 runs, 100 loops each)\n",
      "9.25 ms ± 91.9 µs per loop (mean ± std. dev. of 7 runs, 100 loops each)\n"
     ]
    }
   ],
   "source": [
    "# Vectorized Function:\n",
    "%timeit v_getSquare(array_02)\n",
    "\n",
    "# List Comprehension:\n",
    "%timeit [getSquare(number) for number in array_02]\n",
    "\n",
    "# Map Function:\n",
    "%timeit list(map(getSquare, array_02))"
   ]
  }
 ],
 "metadata": {
  "kernelspec": {
   "display_name": "Python 3",
   "language": "python",
   "name": "python3"
  },
  "language_info": {
   "codemirror_mode": {
    "name": "ipython",
    "version": 3
   },
   "file_extension": ".py",
   "mimetype": "text/x-python",
   "name": "python",
   "nbconvert_exporter": "python",
   "pygments_lexer": "ipython3",
   "version": "3.7.6"
  }
 },
 "nbformat": 4,
 "nbformat_minor": 4
}
