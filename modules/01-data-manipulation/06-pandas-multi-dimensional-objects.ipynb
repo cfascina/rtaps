{
 "cells": [
  {
   "cell_type": "code",
   "execution_count": 1,
   "metadata": {},
   "outputs": [],
   "source": [
    "import pandas as pd\n",
    "import numpy as np"
   ]
  },
  {
   "cell_type": "code",
   "execution_count": 2,
   "metadata": {},
   "outputs": [],
   "source": [
    "data_us = pd.DataFrame(\n",
    "    np.array( [\n",
    "        [249.62,  8900.00],\n",
    "        [282.16, 12680.00],\n",
    "        [309.35, 14940.00]\n",
    "    ]),\n",
    "    columns = ['População (M)', 'PIB ($B)'],\n",
    "    index = [1995, 2005, 2015]\n",
    ")"
   ]
  },
  {
   "cell_type": "code",
   "execution_count": 3,
   "metadata": {},
   "outputs": [
    {
     "data": {
      "text/html": [
       "<div>\n",
       "<style scoped>\n",
       "    .dataframe tbody tr th:only-of-type {\n",
       "        vertical-align: middle;\n",
       "    }\n",
       "\n",
       "    .dataframe tbody tr th {\n",
       "        vertical-align: top;\n",
       "    }\n",
       "\n",
       "    .dataframe thead th {\n",
       "        text-align: right;\n",
       "    }\n",
       "</style>\n",
       "<table border=\"1\" class=\"dataframe\">\n",
       "  <thead>\n",
       "    <tr style=\"text-align: right;\">\n",
       "      <th></th>\n",
       "      <th>População (M)</th>\n",
       "      <th>PIB ($B)</th>\n",
       "    </tr>\n",
       "  </thead>\n",
       "  <tbody>\n",
       "    <tr>\n",
       "      <th>1995</th>\n",
       "      <td>249.62</td>\n",
       "      <td>8900.0</td>\n",
       "    </tr>\n",
       "    <tr>\n",
       "      <th>2005</th>\n",
       "      <td>282.16</td>\n",
       "      <td>12680.0</td>\n",
       "    </tr>\n",
       "    <tr>\n",
       "      <th>2015</th>\n",
       "      <td>309.35</td>\n",
       "      <td>14940.0</td>\n",
       "    </tr>\n",
       "  </tbody>\n",
       "</table>\n",
       "</div>"
      ],
      "text/plain": [
       "      População (M)  PIB ($B)\n",
       "1995         249.62    8900.0\n",
       "2005         282.16   12680.0\n",
       "2015         309.35   14940.0"
      ]
     },
     "execution_count": 3,
     "metadata": {},
     "output_type": "execute_result"
    }
   ],
   "source": [
    "data_us"
   ]
  },
  {
   "cell_type": "code",
   "execution_count": 4,
   "metadata": {},
   "outputs": [],
   "source": [
    "data_ch = pd.DataFrame(\n",
    "    np.array([\n",
    "        [1133.68,  390.28],\n",
    "        [1266.83, 1198.48],\n",
    "        [1339.72, 9923.47]\n",
    "    ]),\n",
    "    columns = ['População (M)', 'PIB ($B)'],\n",
    "    index = [1995, 2005, 2015])"
   ]
  },
  {
   "cell_type": "code",
   "execution_count": 5,
   "metadata": {},
   "outputs": [
    {
     "data": {
      "text/html": [
       "<div>\n",
       "<style scoped>\n",
       "    .dataframe tbody tr th:only-of-type {\n",
       "        vertical-align: middle;\n",
       "    }\n",
       "\n",
       "    .dataframe tbody tr th {\n",
       "        vertical-align: top;\n",
       "    }\n",
       "\n",
       "    .dataframe thead th {\n",
       "        text-align: right;\n",
       "    }\n",
       "</style>\n",
       "<table border=\"1\" class=\"dataframe\">\n",
       "  <thead>\n",
       "    <tr style=\"text-align: right;\">\n",
       "      <th></th>\n",
       "      <th>População (M)</th>\n",
       "      <th>PIB ($B)</th>\n",
       "    </tr>\n",
       "  </thead>\n",
       "  <tbody>\n",
       "    <tr>\n",
       "      <th>1995</th>\n",
       "      <td>1133.68</td>\n",
       "      <td>390.28</td>\n",
       "    </tr>\n",
       "    <tr>\n",
       "      <th>2005</th>\n",
       "      <td>1266.83</td>\n",
       "      <td>1198.48</td>\n",
       "    </tr>\n",
       "    <tr>\n",
       "      <th>2015</th>\n",
       "      <td>1339.72</td>\n",
       "      <td>9923.47</td>\n",
       "    </tr>\n",
       "  </tbody>\n",
       "</table>\n",
       "</div>"
      ],
      "text/plain": [
       "      População (M)  PIB ($B)\n",
       "1995        1133.68    390.28\n",
       "2005        1266.83   1198.48\n",
       "2015        1339.72   9923.47"
      ]
     },
     "execution_count": 5,
     "metadata": {},
     "output_type": "execute_result"
    }
   ],
   "source": [
    "data_ch"
   ]
  },
  {
   "cell_type": "code",
   "execution_count": 6,
   "metadata": {},
   "outputs": [],
   "source": [
    "data_compiled = {'US': data_us, 'CH': data_ch}"
   ]
  },
  {
   "cell_type": "code",
   "execution_count": 7,
   "metadata": {
    "scrolled": true
   },
   "outputs": [
    {
     "data": {
      "text/plain": [
       "{'US':       População (M)  PIB ($B)\n",
       " 1995         249.62    8900.0\n",
       " 2005         282.16   12680.0\n",
       " 2015         309.35   14940.0,\n",
       " 'CH':       População (M)  PIB ($B)\n",
       " 1995        1133.68    390.28\n",
       " 2005        1266.83   1198.48\n",
       " 2015        1339.72   9923.47}"
      ]
     },
     "execution_count": 7,
     "metadata": {},
     "output_type": "execute_result"
    }
   ],
   "source": [
    "data_compiled"
   ]
  },
  {
   "cell_type": "markdown",
   "metadata": {},
   "source": [
    "### Converting Dataframe to Panel"
   ]
  },
  {
   "cell_type": "code",
   "execution_count": 8,
   "metadata": {},
   "outputs": [],
   "source": [
    "multi_index = pd.MultiIndex(\n",
    "    levels = [['US', 'China'], [1995, 2005, 2015]],\n",
    "    codes = [[1, 1, 1, 0, 0, 0], [0, 1, 2, 0, 1, 2]]\n",
    ")"
   ]
  },
  {
   "cell_type": "code",
   "execution_count": 9,
   "metadata": {},
   "outputs": [
    {
     "data": {
      "text/plain": [
       "MultiIndex([('China', 1995),\n",
       "            ('China', 2005),\n",
       "            ('China', 2015),\n",
       "            (   'US', 1995),\n",
       "            (   'US', 2005),\n",
       "            (   'US', 2015)],\n",
       "           )"
      ]
     },
     "execution_count": 9,
     "metadata": {},
     "output_type": "execute_result"
    }
   ],
   "source": [
    "multi_index"
   ]
  },
  {
   "cell_type": "code",
   "execution_count": 10,
   "metadata": {},
   "outputs": [],
   "source": [
    "df = pd.DataFrame(\n",
    "    {\n",
    "        'População (M)': [1133.68, 1266.83, 1339.72,  249.62,   282.16,   309.35], \n",
    "        'PIB ($B)':      [ 390.28, 1198.48, 6988.47, 8900.00, 12680.00, 14940.00]\n",
    "    }, \n",
    "    index = multi_index\n",
    ")"
   ]
  },
  {
   "cell_type": "code",
   "execution_count": 11,
   "metadata": {},
   "outputs": [
    {
     "data": {
      "text/html": [
       "<div>\n",
       "<style scoped>\n",
       "    .dataframe tbody tr th:only-of-type {\n",
       "        vertical-align: middle;\n",
       "    }\n",
       "\n",
       "    .dataframe tbody tr th {\n",
       "        vertical-align: top;\n",
       "    }\n",
       "\n",
       "    .dataframe thead th {\n",
       "        text-align: right;\n",
       "    }\n",
       "</style>\n",
       "<table border=\"1\" class=\"dataframe\">\n",
       "  <thead>\n",
       "    <tr style=\"text-align: right;\">\n",
       "      <th></th>\n",
       "      <th></th>\n",
       "      <th>População (M)</th>\n",
       "      <th>PIB ($B)</th>\n",
       "    </tr>\n",
       "  </thead>\n",
       "  <tbody>\n",
       "    <tr>\n",
       "      <th rowspan=\"3\" valign=\"top\">China</th>\n",
       "      <th>1995</th>\n",
       "      <td>1133.68</td>\n",
       "      <td>390.28</td>\n",
       "    </tr>\n",
       "    <tr>\n",
       "      <th>2005</th>\n",
       "      <td>1266.83</td>\n",
       "      <td>1198.48</td>\n",
       "    </tr>\n",
       "    <tr>\n",
       "      <th>2015</th>\n",
       "      <td>1339.72</td>\n",
       "      <td>6988.47</td>\n",
       "    </tr>\n",
       "    <tr>\n",
       "      <th rowspan=\"3\" valign=\"top\">US</th>\n",
       "      <th>1995</th>\n",
       "      <td>249.62</td>\n",
       "      <td>8900.00</td>\n",
       "    </tr>\n",
       "    <tr>\n",
       "      <th>2005</th>\n",
       "      <td>282.16</td>\n",
       "      <td>12680.00</td>\n",
       "    </tr>\n",
       "    <tr>\n",
       "      <th>2015</th>\n",
       "      <td>309.35</td>\n",
       "      <td>14940.00</td>\n",
       "    </tr>\n",
       "  </tbody>\n",
       "</table>\n",
       "</div>"
      ],
      "text/plain": [
       "            População (M)  PIB ($B)\n",
       "China 1995        1133.68    390.28\n",
       "      2005        1266.83   1198.48\n",
       "      2015        1339.72   6988.47\n",
       "US    1995         249.62   8900.00\n",
       "      2005         282.16  12680.00\n",
       "      2015         309.35  14940.00"
      ]
     },
     "execution_count": 11,
     "metadata": {},
     "output_type": "execute_result"
    }
   ],
   "source": [
    "df"
   ]
  }
 ],
 "metadata": {
  "kernelspec": {
   "display_name": "Python 3",
   "language": "python",
   "name": "python3"
  },
  "language_info": {
   "codemirror_mode": {
    "name": "ipython",
    "version": 3
   },
   "file_extension": ".py",
   "mimetype": "text/x-python",
   "name": "python",
   "nbconvert_exporter": "python",
   "pygments_lexer": "ipython3",
   "version": "3.7.6"
  }
 },
 "nbformat": 4,
 "nbformat_minor": 4
}
