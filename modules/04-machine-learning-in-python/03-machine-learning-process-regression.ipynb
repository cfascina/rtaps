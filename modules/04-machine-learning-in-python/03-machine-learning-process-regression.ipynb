{
 "cells": [
  {
   "cell_type": "code",
   "execution_count": 1,
   "metadata": {},
   "outputs": [],
   "source": [
    "import sklearn as sl\n",
    "import warnings\n",
    "\n",
    "warnings.filterwarnings(\"ignore\")"
   ]
  },
  {
   "cell_type": "markdown",
   "metadata": {},
   "source": [
    "### Business Problem Definition"
   ]
  },
  {
   "cell_type": "markdown",
   "metadata": {},
   "source": [
    "We are going to create a predictive model that is able to predict house prices based on a series of characteristics about different houses in a neighborhood in Boston, USA. Dataset: https://www.cs.toronto.edu/~delve/data/boston/bostonDetail.html"
   ]
  },
  {
   "cell_type": "markdown",
   "metadata": {},
   "source": [
    "### Performance Evaluation"
   ]
  },
  {
   "cell_type": "markdown",
   "metadata": {},
   "source": [
    "https://scikit-learn.org/stable/modules/model_evaluation.html"
   ]
  },
  {
   "cell_type": "markdown",
   "metadata": {},
   "source": [
    "The metrics you choose to evaluate the model performance will influence at how the performance is measured and compared to models created with other algorithms."
   ]
  },
  {
   "cell_type": "markdown",
   "metadata": {},
   "source": [
    "### *Metrics for Regression Algorithms*"
   ]
  },
  {
   "cell_type": "markdown",
   "metadata": {},
   "source": [
    "- Mean Squared Error (MSE)\n",
    "- Root Mean Squared Error (RMSE)\n",
    "- Mean Absolute Error (MAE)\n",
    "- R Squared (R²)\n",
    "- Adjusted R Squared (R²)\n",
    "- Mean Square Percentage Error (MSPE)\n",
    "- Mean Absolute Percentage Error (MAPE)\n",
    "- Root Mean Squared Logarithmic Error (RMSLE)"
   ]
  },
  {
   "cell_type": "markdown",
   "metadata": {},
   "source": [
    "$$MSE = \\frac {1}{n} \\sum_{i=1}^n (y_{i} - \\hat{y}_{i})^2$$"
   ]
  },
  {
   "cell_type": "markdown",
   "metadata": {},
   "source": [
    "$$RMSE = \\sqrt {\\frac {1}{n} \\sum_{i=1}^n (y_{i} - \\hat{y}_{i})^2} = \\sqrt {MSE}$$"
   ]
  },
  {
   "cell_type": "markdown",
   "metadata": {},
   "source": [
    "$$MAE = \\frac {1}{n} \\sum_{i=1}^n |y_{i} - \\hat{y}_{i}|$$"
   ]
  },
  {
   "cell_type": "markdown",
   "metadata": {},
   "source": [
    "$$R^2 = 1 - \\frac {MSE (model)}{MSE (baseline)}$$"
   ]
  },
  {
   "cell_type": "markdown",
   "metadata": {},
   "source": [
    "**Mean Squared Error (MSE)**"
   ]
  },
  {
   "cell_type": "markdown",
   "metadata": {},
   "source": [
    "It is perhaps the simplest and most common metric for regression assessment, but also probably the least useful. The MSE basically measures the average square error of our predictions. For each point, it calculates the square difference between the prediction and the real value of the target variable, and then averages those values."
   ]
  },
  {
   "cell_type": "markdown",
   "metadata": {},
   "source": [
    "The higher the value, the worse the model. This value will never be negative, since we are squaring individual prediction errors, but it would be zero for a perfect model."
   ]
  },
  {
   "cell_type": "code",
   "execution_count": 2,
   "metadata": {},
   "outputs": [
    {
     "name": "stdout",
     "output_type": "stream",
     "text": [
      "MSE: 28.53\n"
     ]
    }
   ],
   "source": [
    "from pandas import read_csv\n",
    "from sklearn.model_selection import train_test_split\n",
    "from sklearn.metrics import mean_squared_error\n",
    "from sklearn.linear_model import LinearRegression\n",
    "\n",
    "file = 'aux/datasets/boston-houses.csv'\n",
    "columns = ['CRIM', 'ZN', 'INDUS', 'CHAS', 'NOX', 'RM', 'AGE', 'DIS', 'RAD', 'TAX', 'PTRATIO','B', 'LSTAT', 'MEDV']\n",
    "data = read_csv(file, delim_whitespace = True, names = columns)\n",
    "\n",
    "x = data.values[:, 0:13]\n",
    "y = data.values[:, 13]\n",
    "\n",
    "x_training, x_test, y_training, y_test = train_test_split(x, y, test_size = 0.33, random_state = 5)\n",
    "\n",
    "model = LinearRegression()\n",
    "model.fit(x_training, y_training)\n",
    "\n",
    "y_predictions = model.predict(x_test)\n",
    "\n",
    "mse = mean_squared_error(y_test, y_predictions)\n",
    "\n",
    "print(f\"MSE: {round(mse, 3)}\")"
   ]
  },
  {
   "cell_type": "markdown",
   "metadata": {},
   "source": [
    "**Mean Absolute Error (MAE)**"
   ]
  },
  {
   "cell_type": "markdown",
   "metadata": {},
   "source": [
    "It is the sum of the absolute difference between prediction and actual values, which provides an idea of how wrong our predictions are. A value of 0 indicates that there is no error, and the prediction is perfect."
   ]
  },
  {
   "cell_type": "code",
   "execution_count": 3,
   "metadata": {},
   "outputs": [
    {
     "name": "stdout",
     "output_type": "stream",
     "text": [
      "MAE: 3.455\n"
     ]
    }
   ],
   "source": [
    "from pandas import read_csv\n",
    "from sklearn.model_selection import train_test_split\n",
    "from sklearn.metrics import mean_absolute_error\n",
    "from sklearn.linear_model import LinearRegression\n",
    "\n",
    "file = 'aux/datasets/boston-houses.csv'\n",
    "columns = ['CRIM', 'ZN', 'INDUS', 'CHAS', 'NOX', 'RM', 'AGE', 'DIS', 'RAD', 'TAX', 'PTRATIO','B', 'LSTAT', 'MEDV']\n",
    "data = read_csv(file, delim_whitespace = True, names = columns)\n",
    "\n",
    "x = data.values[:, 0:13]\n",
    "y = data.values[:, 13]\n",
    "\n",
    "x_training, x_test, y_training, y_test = train_test_split(x, y, test_size = 0.33, random_state = 5)\n",
    "\n",
    "model = LinearRegression()\n",
    "model.fit(x_training, y_training)\n",
    "\n",
    "y_predictions = model.predict(x_test)\n",
    "\n",
    "mae = mean_absolute_error(y_test, y_predictions)\n",
    "\n",
    "print(f\"MAE: {round(mae, 3)}\")"
   ]
  },
  {
   "cell_type": "markdown",
   "metadata": {},
   "source": [
    "**R Squared (R²)**"
   ]
  },
  {
   "cell_type": "markdown",
   "metadata": {},
   "source": [
    "This metric provides an indication of how accurate the predictions are in relation to the observed values. Also called as coefficient of determination, it results in values between 0 and 1, with 0 being the ideal."
   ]
  },
  {
   "cell_type": "code",
   "execution_count": 4,
   "metadata": {},
   "outputs": [
    {
     "name": "stdout",
     "output_type": "stream",
     "text": [
      "R2: 0.696\n"
     ]
    }
   ],
   "source": [
    "from pandas import read_csv\n",
    "from sklearn.model_selection import train_test_split\n",
    "from sklearn.metrics import r2_score\n",
    "from sklearn.linear_model import LinearRegression\n",
    "\n",
    "file = 'aux/datasets/boston-houses.csv'\n",
    "columns = ['CRIM', 'ZN', 'INDUS', 'CHAS', 'NOX', 'RM', 'AGE', 'DIS', 'RAD', 'TAX', 'PTRATIO','B', 'LSTAT', 'MEDV']\n",
    "data = read_csv(file, delim_whitespace = True, names = columns)\n",
    "\n",
    "x = data.values[:, 0:13]\n",
    "y = data.values[:, 13]\n",
    "\n",
    "x_training, x_test, y_training, y_test = train_test_split(x, y, test_size = 0.33, random_state = 5)\n",
    "\n",
    "model = LinearRegression()\n",
    "model.fit(x_training, y_training)\n",
    "\n",
    "y_predictions = model.predict(x_test)\n",
    "\n",
    "r2 = r2_score(y_test, y_predictions)\n",
    "\n",
    "print(f\"R2: {round(r2, 3)}\")"
   ]
  }
 ],
 "metadata": {
  "kernelspec": {
   "display_name": "Python 3",
   "language": "python",
   "name": "python3"
  },
  "language_info": {
   "codemirror_mode": {
    "name": "ipython",
    "version": 3
   },
   "file_extension": ".py",
   "mimetype": "text/x-python",
   "name": "python",
   "nbconvert_exporter": "python",
   "pygments_lexer": "ipython3",
   "version": "3.8.3"
  }
 },
 "nbformat": 4,
 "nbformat_minor": 4
}
