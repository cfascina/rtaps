{
 "cells": [
  {
   "cell_type": "code",
   "execution_count": 1,
   "metadata": {},
   "outputs": [],
   "source": [
    "import sklearn as sl\n",
    "import warnings\n",
    "\n",
    "warnings.filterwarnings(\"ignore\")"
   ]
  },
  {
   "cell_type": "markdown",
   "metadata": {},
   "source": [
    "### Business Problem Definition"
   ]
  },
  {
   "cell_type": "markdown",
   "metadata": {},
   "source": [
    "We are going to create a predictive model that is able to predict house prices based on a series of characteristics about different houses in a neighborhood in Boston, USA. Dataset: https://www.cs.toronto.edu/~delve/data/boston/bostonDetail.html"
   ]
  },
  {
   "cell_type": "markdown",
   "metadata": {},
   "source": [
    "### Performance Evaluation"
   ]
  },
  {
   "cell_type": "markdown",
   "metadata": {},
   "source": [
    "https://scikit-learn.org/stable/modules/model_evaluation.html"
   ]
  },
  {
   "cell_type": "markdown",
   "metadata": {},
   "source": [
    "The metrics you choose to evaluate the model performance will influence at how the performance is measured and compared to models created with other algorithms."
   ]
  },
  {
   "cell_type": "markdown",
   "metadata": {},
   "source": [
    "### *Metrics for Regression Algorithms*"
   ]
  },
  {
   "cell_type": "markdown",
   "metadata": {},
   "source": [
    "- Mean Squared Error (MSE)\n",
    "- Root Mean Squared Error (RMSE)\n",
    "- Mean Absolute Error (MAE)\n",
    "- R Squared (R²)\n",
    "- Adjusted R Squared (R²)\n",
    "- Mean Square Percentage Error (MSPE)\n",
    "- Mean Absolute Percentage Error (MAPE)\n",
    "- Root Mean Squared Logarithmic Error (RMSLE)"
   ]
  },
  {
   "cell_type": "markdown",
   "metadata": {},
   "source": [
    "$$MSE = \\frac {1}{n} \\sum_{i=1}^n (y_{i} - \\hat{y}_{i})^2$$"
   ]
  },
  {
   "cell_type": "markdown",
   "metadata": {},
   "source": [
    "$$RMSE = \\sqrt {\\frac {1}{n} \\sum_{i=1}^n (y_{i} - \\hat{y}_{i})^2} = \\sqrt {MSE}$$"
   ]
  },
  {
   "cell_type": "markdown",
   "metadata": {},
   "source": [
    "$$MAE = \\frac {1}{n} \\sum_{i=1}^n |y_{i} - \\hat{y}_{i}|$$"
   ]
  },
  {
   "cell_type": "markdown",
   "metadata": {},
   "source": [
    "$$R^2 = 1 - \\frac {MSE (model)}{MSE (baseline)}$$"
   ]
  },
  {
   "cell_type": "markdown",
   "metadata": {},
   "source": [
    "**Mean Squared Error (MSE)**"
   ]
  },
  {
   "cell_type": "markdown",
   "metadata": {},
   "source": [
    "It is perhaps the simplest and most common metric for regression assessment, but also probably the least useful. The MSE basically measures the average square error of our predictions. For each point, it calculates the square difference between the prediction and the real value of the target variable, and then averages those values."
   ]
  },
  {
   "cell_type": "markdown",
   "metadata": {},
   "source": [
    "The higher the value, the worse the model. This value will never be negative, since we are squaring individual prediction errors, but it would be zero for a perfect model."
   ]
  },
  {
   "cell_type": "code",
   "execution_count": 2,
   "metadata": {},
   "outputs": [
    {
     "name": "stdout",
     "output_type": "stream",
     "text": [
      "MSE: 28.53\n"
     ]
    }
   ],
   "source": [
    "from pandas import read_csv\n",
    "from sklearn.model_selection import train_test_split\n",
    "from sklearn.metrics import mean_squared_error\n",
    "from sklearn.linear_model import LinearRegression\n",
    "\n",
    "file = 'aux/datasets/boston-houses.csv'\n",
    "columns = ['CRIM', 'ZN', 'INDUS', 'CHAS', 'NOX', 'RM', 'AGE', 'DIS', 'RAD', 'TAX', 'PTRATIO','B', 'LSTAT', 'MEDV']\n",
    "data = read_csv(file, delim_whitespace = True, names = columns)\n",
    "\n",
    "x = data.values[:, 0:13]\n",
    "y = data.values[:, 13]\n",
    "\n",
    "x_training, x_test, y_training, y_test = train_test_split(x, y, test_size = 0.33, random_state = 5)\n",
    "\n",
    "model = LinearRegression()\n",
    "model.fit(x_training, y_training)\n",
    "\n",
    "y_predictions = model.predict(x_test)\n",
    "\n",
    "mse = mean_squared_error(y_test, y_predictions)\n",
    "\n",
    "print(f\"MSE: {round(mse, 3)}\")"
   ]
  },
  {
   "cell_type": "markdown",
   "metadata": {},
   "source": [
    "**Mean Absolute Error (MAE)**"
   ]
  },
  {
   "cell_type": "markdown",
   "metadata": {},
   "source": [
    "It is the sum of the absolute difference between prediction and actual values, which provides an idea of how wrong our predictions are. A value of 0 indicates that there is no error, and the prediction is perfect."
   ]
  },
  {
   "cell_type": "code",
   "execution_count": 3,
   "metadata": {},
   "outputs": [
    {
     "name": "stdout",
     "output_type": "stream",
     "text": [
      "MAE: 3.455\n"
     ]
    }
   ],
   "source": [
    "from pandas import read_csv\n",
    "from sklearn.model_selection import train_test_split\n",
    "from sklearn.metrics import mean_absolute_error\n",
    "from sklearn.linear_model import LinearRegression\n",
    "\n",
    "file = 'aux/datasets/boston-houses.csv'\n",
    "columns = ['CRIM', 'ZN', 'INDUS', 'CHAS', 'NOX', 'RM', 'AGE', 'DIS', 'RAD', 'TAX', 'PTRATIO','B', 'LSTAT', 'MEDV']\n",
    "data = read_csv(file, delim_whitespace = True, names = columns)\n",
    "\n",
    "x = data.values[:, 0:13]\n",
    "y = data.values[:, 13]\n",
    "\n",
    "x_training, x_test, y_training, y_test = train_test_split(x, y, test_size = 0.33, random_state = 5)\n",
    "\n",
    "model = LinearRegression()\n",
    "model.fit(x_training, y_training)\n",
    "\n",
    "y_predictions = model.predict(x_test)\n",
    "\n",
    "mae = mean_absolute_error(y_test, y_predictions)\n",
    "\n",
    "print(f\"MAE: {round(mae, 3)}\")"
   ]
  },
  {
   "cell_type": "markdown",
   "metadata": {},
   "source": [
    "**R Squared (R²)**"
   ]
  },
  {
   "cell_type": "markdown",
   "metadata": {},
   "source": [
    "This metric provides an indication of how accurate the predictions are in relation to the observed values. Also called as coefficient of determination, it results in values between 0 and 1, with 0 being the ideal."
   ]
  },
  {
   "cell_type": "code",
   "execution_count": 4,
   "metadata": {},
   "outputs": [
    {
     "name": "stdout",
     "output_type": "stream",
     "text": [
      "R2: 0.696\n"
     ]
    }
   ],
   "source": [
    "from pandas import read_csv\n",
    "from sklearn.model_selection import train_test_split\n",
    "from sklearn.metrics import r2_score\n",
    "from sklearn.linear_model import LinearRegression\n",
    "\n",
    "file = 'aux/datasets/boston-houses.csv'\n",
    "columns = ['CRIM', 'ZN', 'INDUS', 'CHAS', 'NOX', 'RM', 'AGE', 'DIS', 'RAD', 'TAX', 'PTRATIO','B', 'LSTAT', 'MEDV']\n",
    "data = read_csv(file, delim_whitespace = True, names = columns)\n",
    "\n",
    "x = data.values[:, 0:13]\n",
    "y = data.values[:, 13]\n",
    "\n",
    "x_training, x_test, y_training, y_test = train_test_split(x, y, test_size = 0.33, random_state = 5)\n",
    "\n",
    "model = LinearRegression()\n",
    "model.fit(x_training, y_training)\n",
    "\n",
    "y_predictions = model.predict(x_test)\n",
    "\n",
    "r2 = r2_score(y_test, y_predictions)\n",
    "\n",
    "print(f\"R2: {round(r2, 3)}\")"
   ]
  },
  {
   "cell_type": "markdown",
   "metadata": {},
   "source": [
    "### Regression Algorithms"
   ]
  },
  {
   "cell_type": "markdown",
   "metadata": {},
   "source": [
    "### *Linear Regression*"
   ]
  },
  {
   "cell_type": "markdown",
   "metadata": {},
   "source": [
    "It assumes that the data are in a normal distribution, that the variables are relevant to the model construction and that they are not collinear, that is, variables with high correlation."
   ]
  },
  {
   "cell_type": "code",
   "execution_count": 5,
   "metadata": {},
   "outputs": [
    {
     "name": "stdout",
     "output_type": "stream",
     "text": [
      "MSE with LinearRegression: 28.53\n"
     ]
    }
   ],
   "source": [
    "from pandas import read_csv\n",
    "from sklearn.model_selection import train_test_split\n",
    "from sklearn.metrics import mean_squared_error\n",
    "from sklearn.linear_model import LinearRegression\n",
    "\n",
    "file = 'aux/datasets/boston-houses.csv'\n",
    "columns = ['CRIM', 'ZN', 'INDUS', 'CHAS', 'NOX', 'RM', 'AGE', 'DIS', 'RAD', 'TAX', 'PTRATIO','B', 'LSTAT', 'MEDV']\n",
    "data = read_csv(file, delim_whitespace = True, names = columns)\n",
    "\n",
    "x = data.values[:, 0:13]\n",
    "y = data.values[:, 13]\n",
    "\n",
    "x_training, x_test, y_training, y_test = train_test_split(x, y, test_size = 0.33, random_state = 5)\n",
    "\n",
    "model = LinearRegression()\n",
    "model.fit(x_training, y_training)\n",
    "\n",
    "y_predictions = model.predict(x_test)\n",
    "\n",
    "mse = mean_squared_error(y_test, y_predictions)\n",
    "\n",
    "print(f\"MSE with LinearRegression: {round(mse, 3)}\")"
   ]
  },
  {
   "cell_type": "markdown",
   "metadata": {},
   "source": [
    "### *Ridge Regression*"
   ]
  },
  {
   "cell_type": "markdown",
   "metadata": {},
   "source": [
    "It's an extension to the linear regression where the loss function is modified to minimize the model complexity."
   ]
  },
  {
   "cell_type": "code",
   "execution_count": 6,
   "metadata": {},
   "outputs": [
    {
     "name": "stdout",
     "output_type": "stream",
     "text": [
      "MSE with Ridge: 29.294\n"
     ]
    }
   ],
   "source": [
    "from pandas import read_csv\n",
    "from sklearn.model_selection import train_test_split\n",
    "from sklearn.metrics import mean_squared_error\n",
    "from sklearn.linear_model import Ridge\n",
    "\n",
    "file = 'aux/datasets/boston-houses.csv'\n",
    "columns = ['CRIM', 'ZN', 'INDUS', 'CHAS', 'NOX', 'RM', 'AGE', 'DIS', 'RAD', 'TAX', 'PTRATIO','B', 'LSTAT', 'MEDV']\n",
    "data = read_csv(file, delim_whitespace = True, names = columns)\n",
    "\n",
    "x = data.values[:, 0:13]\n",
    "y = data.values[:, 13]\n",
    "\n",
    "x_training, x_test, y_training, y_test = train_test_split(x, y, test_size = 0.33, random_state = 5)\n",
    "\n",
    "model = Ridge()\n",
    "model.fit(x_training, y_training)\n",
    "\n",
    "y_predictions = model.predict(x_test)\n",
    "\n",
    "mse = mean_squared_error(y_test, y_predictions)\n",
    "\n",
    "print(f\"MSE with Ridge: {round(mse, 3)}\")"
   ]
  },
  {
   "cell_type": "markdown",
   "metadata": {},
   "source": [
    "### *Lasso Regression*"
   ]
  },
  {
   "cell_type": "markdown",
   "metadata": {},
   "source": [
    "Lasso (Least Absolute Shrinkage and Selection Operator) Regression is a modification of linear regression, and like the Ridge Regression, the loss function is modified to minimize the model complexity."
   ]
  },
  {
   "cell_type": "code",
   "execution_count": 7,
   "metadata": {},
   "outputs": [
    {
     "name": "stdout",
     "output_type": "stream",
     "text": [
      "MSE with Lasso: 33.395\n"
     ]
    }
   ],
   "source": [
    "from pandas import read_csv\n",
    "from sklearn.model_selection import train_test_split\n",
    "from sklearn.metrics import mean_squared_error\n",
    "from sklearn.linear_model import Lasso\n",
    "\n",
    "file = 'aux/datasets/boston-houses.csv'\n",
    "columns = ['CRIM', 'ZN', 'INDUS', 'CHAS', 'NOX', 'RM', 'AGE', 'DIS', 'RAD', 'TAX', 'PTRATIO','B', 'LSTAT', 'MEDV']\n",
    "data = read_csv(file, delim_whitespace = True, names = columns)\n",
    "\n",
    "x = data.values[:, 0:13]\n",
    "y = data.values[:, 13]\n",
    "\n",
    "x_training, x_test, y_training, y_test = train_test_split(x, y, test_size = 0.33, random_state = 5)\n",
    "\n",
    "model = Lasso()\n",
    "model.fit(x_training, y_training)\n",
    "\n",
    "y_predictions = model.predict(x_test)\n",
    "\n",
    "mse = mean_squared_error(y_test, y_predictions)\n",
    "\n",
    "print(f\"MSE with Lasso: {round(mse, 3)}\")"
   ]
  },
  {
   "cell_type": "markdown",
   "metadata": {},
   "source": [
    "### *ElasticNet Regression*"
   ]
  },
  {
   "cell_type": "markdown",
   "metadata": {},
   "source": [
    "It is a form of regression regularization that combines the properties of Ridge and LASSO regression. The objective is to minimize the model complexity, penalizing it using the sum of the coefficients squares."
   ]
  },
  {
   "cell_type": "code",
   "execution_count": 8,
   "metadata": {},
   "outputs": [
    {
     "name": "stdout",
     "output_type": "stream",
     "text": [
      "MSE with ElasticNet: 33.273\n"
     ]
    }
   ],
   "source": [
    "from pandas import read_csv\n",
    "from sklearn.model_selection import train_test_split\n",
    "from sklearn.metrics import mean_squared_error\n",
    "from sklearn.linear_model import ElasticNet\n",
    "\n",
    "file = 'aux/datasets/boston-houses.csv'\n",
    "columns = ['CRIM', 'ZN', 'INDUS', 'CHAS', 'NOX', 'RM', 'AGE', 'DIS', 'RAD', 'TAX', 'PTRATIO','B', 'LSTAT', 'MEDV']\n",
    "data = read_csv(file, delim_whitespace = True, names = columns)\n",
    "\n",
    "x = data.values[:, 0:13]\n",
    "y = data.values[:, 13]\n",
    "\n",
    "x_training, x_test, y_training, y_test = train_test_split(x, y, test_size = 0.33, random_state = 5)\n",
    "\n",
    "model = ElasticNet()\n",
    "model.fit(x_training, y_training)\n",
    "\n",
    "y_predictions = model.predict(x_test)\n",
    "\n",
    "mse = mean_squared_error(y_test, y_predictions)\n",
    "\n",
    "print(f\"MSE with ElasticNet: {round(mse, 3)}\")"
   ]
  },
  {
   "cell_type": "markdown",
   "metadata": {},
   "source": [
    "### *KNN*"
   ]
  },
  {
   "cell_type": "code",
   "execution_count": 9,
   "metadata": {},
   "outputs": [
    {
     "name": "stdout",
     "output_type": "stream",
     "text": [
      "MSE with KNeighborsRegressor: 47.706\n"
     ]
    }
   ],
   "source": [
    "from pandas import read_csv\n",
    "from sklearn.model_selection import train_test_split\n",
    "from sklearn.metrics import mean_squared_error\n",
    "from sklearn.neighbors import KNeighborsRegressor\n",
    "\n",
    "file = 'aux/datasets/boston-houses.csv'\n",
    "columns = ['CRIM', 'ZN', 'INDUS', 'CHAS', 'NOX', 'RM', 'AGE', 'DIS', 'RAD', 'TAX', 'PTRATIO','B', 'LSTAT', 'MEDV']\n",
    "data = read_csv(file, delim_whitespace = True, names = columns)\n",
    "\n",
    "x = data.values[:, 0:13]\n",
    "y = data.values[:, 13]\n",
    "\n",
    "x_training, x_test, y_training, y_test = train_test_split(x, y, test_size = 0.33, random_state = 5)\n",
    "\n",
    "model = KNeighborsRegressor()\n",
    "model.fit(x_training, y_training)\n",
    "\n",
    "y_predictions = model.predict(x_test)\n",
    "\n",
    "mse = mean_squared_error(y_test, y_predictions)\n",
    "\n",
    "print(f\"MSE with KNeighborsRegressor: {round(mse, 3)}\")"
   ]
  },
  {
   "cell_type": "markdown",
   "metadata": {},
   "source": [
    "### *CART*"
   ]
  },
  {
   "cell_type": "code",
   "execution_count": 10,
   "metadata": {
    "scrolled": true
   },
   "outputs": [
    {
     "name": "stdout",
     "output_type": "stream",
     "text": [
      "MSE with DecisionTreeRegressor: 30.957\n"
     ]
    }
   ],
   "source": [
    "from pandas import read_csv\n",
    "from sklearn.model_selection import train_test_split\n",
    "from sklearn.metrics import mean_squared_error\n",
    "from sklearn.tree import DecisionTreeRegressor\n",
    "\n",
    "file = 'aux/datasets/boston-houses.csv'\n",
    "columns = ['CRIM', 'ZN', 'INDUS', 'CHAS', 'NOX', 'RM', 'AGE', 'DIS', 'RAD', 'TAX', 'PTRATIO','B', 'LSTAT', 'MEDV']\n",
    "data = read_csv(file, delim_whitespace = True, names = columns)\n",
    "\n",
    "x = data.values[:, 0:13]\n",
    "y = data.values[:, 13]\n",
    "\n",
    "x_training, x_test, y_training, y_test = train_test_split(x, y, test_size = 0.33, random_state = 5)\n",
    "\n",
    "model = DecisionTreeRegressor()\n",
    "model.fit(x_training, y_training)\n",
    "\n",
    "y_predictions = model.predict(x_test)\n",
    "\n",
    "mse = mean_squared_error(y_test, y_predictions)\n",
    "\n",
    "print(f\"MSE with DecisionTreeRegressor: {round(mse, 3)}\")"
   ]
  },
  {
   "cell_type": "markdown",
   "metadata": {},
   "source": [
    "### *SVM*"
   ]
  },
  {
   "cell_type": "code",
   "execution_count": 11,
   "metadata": {},
   "outputs": [
    {
     "name": "stdout",
     "output_type": "stream",
     "text": [
      "MSE with SVR: 79.235\n"
     ]
    }
   ],
   "source": [
    "from pandas import read_csv\n",
    "from sklearn.model_selection import train_test_split\n",
    "from sklearn.metrics import mean_squared_error\n",
    "from sklearn.svm import SVR\n",
    "\n",
    "file = 'aux/datasets/boston-houses.csv'\n",
    "columns = ['CRIM', 'ZN', 'INDUS', 'CHAS', 'NOX', 'RM', 'AGE', 'DIS', 'RAD', 'TAX', 'PTRATIO','B', 'LSTAT', 'MEDV']\n",
    "data = read_csv(file, delim_whitespace = True, names = columns)\n",
    "\n",
    "x = data.values[:, 0:13]\n",
    "y = data.values[:, 13]\n",
    "\n",
    "x_training, x_test, y_training, y_test = train_test_split(x, y, test_size = 0.33, random_state = 5)\n",
    "\n",
    "model = SVR()\n",
    "model.fit(x_training, y_training)\n",
    "\n",
    "y_predictions = model.predict(x_test)\n",
    "\n",
    "mse = mean_squared_error(y_test, y_predictions)\n",
    "\n",
    "print(f\"MSE with SVR: {round(mse, 3)}\")"
   ]
  }
 ],
 "metadata": {
  "kernelspec": {
   "display_name": "Python 3",
   "language": "python",
   "name": "python3"
  },
  "language_info": {
   "codemirror_mode": {
    "name": "ipython",
    "version": 3
   },
   "file_extension": ".py",
   "mimetype": "text/x-python",
   "name": "python",
   "nbconvert_exporter": "python",
   "pygments_lexer": "ipython3",
   "version": "3.8.3"
  }
 },
 "nbformat": 4,
 "nbformat_minor": 4
}
