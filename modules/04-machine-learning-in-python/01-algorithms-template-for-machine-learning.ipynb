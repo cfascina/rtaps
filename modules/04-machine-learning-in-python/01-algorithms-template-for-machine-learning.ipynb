{
 "cells": [
  {
   "cell_type": "markdown",
   "metadata": {},
   "source": [
    "**This notebook contains a code template to create the main Machine Learning algorithms.**"
   ]
  },
  {
   "cell_type": "code",
   "execution_count": 1,
   "metadata": {},
   "outputs": [
    {
     "data": {
      "text/html": [
       "<img src=\"aux/images/machine-learnin-process.png\"/>"
      ],
      "text/plain": [
       "<IPython.core.display.Image object>"
      ]
     },
     "execution_count": 1,
     "metadata": {},
     "output_type": "execute_result"
    }
   ],
   "source": [
    "from IPython.display import Image\n",
    "Image(url = 'aux/images/machine-learnin-process.png')"
   ]
  },
  {
   "cell_type": "markdown",
   "metadata": {},
   "source": [
    "### Linear Regression"
   ]
  },
  {
   "cell_type": "code",
   "execution_count": null,
   "metadata": {},
   "outputs": [],
   "source": [
    "from sklearn import linear_model\n",
    "\n",
    "# Training and Test Datasets\n",
    "ds_training_x = ds_training_predictors_variables\n",
    "ds_training_y = ds_training_predicted_variable\n",
    "ds_test = ds_test_predictors_variables   \n",
    "\n",
    "# LinearRegression Object\n",
    "model = linear_model.LinearRegression()\n",
    "\n",
    "# Training the model with the training datasets and checking the score\n",
    "model.fit(ds_training_x, ds_training_y)\n",
    "model.score(ds_training_x, ds_training_y)\n",
    "\n",
    "# Collecting the Coefficients\n",
    "print('Coefficient: \\n', model.coef_)\n",
    "print('Intercept: \\n', model.intercept_)\n",
    "\n",
    "# Predictions\n",
    "expected_values = model.predict(ds_test)"
   ]
  },
  {
   "cell_type": "markdown",
   "metadata": {},
   "source": [
    "### Logistic Regression"
   ]
  },
  {
   "cell_type": "code",
   "execution_count": null,
   "metadata": {},
   "outputs": [],
   "source": [
    "from sklearn.linear_model import LogisticRegression\n",
    "\n",
    "# Training and Test Datasets\n",
    "ds_training_x = ds_training_predictors_variables\n",
    "ds_training_y = ds_training_predicted_variable\n",
    "ds_test = ds_test_predictors_variables   \n",
    "\n",
    "# LogisticRegression Object  \n",
    "model = LogisticRegression()\n",
    "\n",
    "# Training the model with the training datasets and checking the score\n",
    "model.fit(ds_training_x, ds_training_y)\n",
    "model.score(ds_training_x, ds_training_y)\n",
    "\n",
    "# Collecting the Coefficients\n",
    "print('Coefficient: \\n', model.coef_)\n",
    "print('Intercept: \\n', model.intercept_)\n",
    "\n",
    "# Predictions\n",
    "expected_values = model.predict(ds_test)"
   ]
  },
  {
   "cell_type": "markdown",
   "metadata": {},
   "source": [
    "### Decision Trees"
   ]
  },
  {
   "cell_type": "code",
   "execution_count": null,
   "metadata": {},
   "outputs": [],
   "source": [
    "from sklearn import tree\n",
    "\n",
    "# Training and Test Datasets\n",
    "ds_training_x = ds_training_predictors_variables\n",
    "ds_training_y = ds_training_predicted_variable\n",
    "ds_test = ds_test_predictors_variables   \n",
    "\n",
    "# DecisionTreeRegressor Object for Regression\n",
    "model = tree.DecisionTreeRegressor() \n",
    "\n",
    "# DecisionTreeClassifier for Classification\n",
    "model = tree.DecisionTreeClassifier() \n",
    "\n",
    "# Training the model with the training datasets and checking the score\n",
    "model.fit(ds_training_x, ds_training_y)\n",
    "model.score(ds_training_x, ds_training_y)\n",
    "\n",
    "# Predictions\n",
    "expected_values = model.predict(ds_test)"
   ]
  },
  {
   "cell_type": "markdown",
   "metadata": {},
   "source": [
    "### Naive Bayes"
   ]
  },
  {
   "cell_type": "code",
   "execution_count": null,
   "metadata": {},
   "outputs": [],
   "source": [
    "from sklearn.naive_bayes import GaussianNB\n",
    "\n",
    "# Training and Test Datasets\n",
    "ds_training_x = ds_training_predictors_variables\n",
    "ds_training_y = ds_training_predicted_variable\n",
    "ds_test = ds_test_predictors_variables \n",
    "\n",
    "# GaussianNB Object\n",
    "model = GaussianNB() \n",
    "\n",
    "# Training the model with the training datasets\n",
    "model.fit(ds_training_x, ds_training_y)\n",
    "\n",
    "# Predictions\n",
    "expected_values = model.predict(ds_test)"
   ]
  },
  {
   "cell_type": "markdown",
   "metadata": {},
   "source": [
    "### Support Vector Machines"
   ]
  },
  {
   "cell_type": "code",
   "execution_count": null,
   "metadata": {},
   "outputs": [],
   "source": [
    "from sklearn import svm\n",
    "\n",
    "# Training and Test Datasets\n",
    "ds_training_x = ds_training_predictors_variables\n",
    "ds_training_y = ds_training_predicted_variable\n",
    "ds_test = ds_test_predictors_variables  \n",
    "\n",
    "# SVC Class from SVM Object  \n",
    "model = svm.svc() \n",
    "\n",
    "# Training the model with the training datasets and checking the score\n",
    "model.fit(ds_training_x, ds_training_y)\n",
    "model.score(ds_training_x, ds_training_y)\n",
    "\n",
    "# Predictions\n",
    "expected_values = model.predict(ds_test)"
   ]
  },
  {
   "cell_type": "markdown",
   "metadata": {},
   "source": [
    "### K-Nearest Neighbors"
   ]
  },
  {
   "cell_type": "code",
   "execution_count": null,
   "metadata": {},
   "outputs": [],
   "source": [
    "from sklearn.neighbors import KNeighborsClassifier\n",
    "\n",
    "# Training and Test Datasets\n",
    "ds_training_x = ds_training_predictors_variables\n",
    "ds_training_y = ds_training_predicted_variable\n",
    "ds_test = ds_test_predictors_variables    \n",
    "\n",
    "# KNeighborsClassifier Object  \n",
    "KNeighborsClassifier(n_neighbors = 6) # Default Value = 5\n",
    "\n",
    "# Training the model with the training datasets\n",
    "model.fit(ds_training_x, ds_training_y)\n",
    "\n",
    "# Predictions\n",
    "expected_values = model.predict(ds_test)"
   ]
  },
  {
   "cell_type": "markdown",
   "metadata": {},
   "source": [
    "### K-Means"
   ]
  },
  {
   "cell_type": "code",
   "execution_count": null,
   "metadata": {},
   "outputs": [],
   "source": [
    "from sklearn.cluster import KMeans\n",
    "\n",
    "# Training and Test Datasets\n",
    "ds_training_x = ds_training_predictors_variables\n",
    "ds_training_y = ds_training_predicted_variable\n",
    "ds_test = ds_test_predictors_variables   \n",
    "\n",
    "# KNeighbors Object\n",
    "model = KMeans(n_clusters = 3, random_state = 0)\n",
    "\n",
    "# Training the model with the training datasets\n",
    "model.fit(ds_training_x, ds_training_y)\n",
    "\n",
    "# Predictions\n",
    "expected_values = model.predict(ds_test)"
   ]
  },
  {
   "cell_type": "markdown",
   "metadata": {},
   "source": [
    "### Random Forest"
   ]
  },
  {
   "cell_type": "code",
   "execution_count": null,
   "metadata": {},
   "outputs": [],
   "source": [
    "from sklearn.ensemble import RandomForestClassifier\n",
    "\n",
    "# Training and Test Datasets\n",
    "ds_training_x = ds_training_predictors_variables\n",
    "ds_training_y = ds_training_predicted_variable\n",
    "ds_test = ds_test_predictors_variables   \n",
    "\n",
    "# RandomForestClassifier Object \n",
    "model = RandomForestClassifier()\n",
    "\n",
    "# Training the model with the training datasets\n",
    "model.fit(ds_training_x, ds_training_y)\n",
    "\n",
    "# Predictions\n",
    "expected_values = model.predict(ds_test)"
   ]
  },
  {
   "cell_type": "markdown",
   "metadata": {},
   "source": [
    "### Dimensionality Reduction"
   ]
  },
  {
   "cell_type": "code",
   "execution_count": null,
   "metadata": {},
   "outputs": [],
   "source": [
    "from sklearn import decomposition\n",
    "\n",
    "# Training and Test Datasets\n",
    "ds_training_x = ds_training_predictors_variables\n",
    "ds_training_y = ds_training_predicted_variable\n",
    "ds_test = ds_test_predictors_variables  \n",
    "\n",
    "# PCA Object\n",
    "pca = decomposition.PCA(n_components = k) \n",
    "\n",
    "# FactorAnalysis Object\n",
    "fa = decomposition.FactorAnalysis()\n",
    "\n",
    "# Reducing the training dataset dimension using PCA\n",
    "reduced_training = pca.fit_transform(ds_training_x, ds_training_y)\n",
    "\n",
    "# Reducing the test dataset dimension\n",
    "reduced_test = pca.transform(ds_test)"
   ]
  },
  {
   "cell_type": "markdown",
   "metadata": {},
   "source": [
    "### Gradient Boosting & AdaBoost"
   ]
  },
  {
   "cell_type": "code",
   "execution_count": null,
   "metadata": {},
   "outputs": [],
   "source": [
    "from sklearn.ensemble import GradientBoostingClassifier\n",
    "\n",
    "# Training and Test Datasets\n",
    "ds_training_x = ds_training_predictors_variables\n",
    "ds_training_y = ds_training_predicted_variable\n",
    "ds_test = ds_test_predictors_variables \n",
    "\n",
    "# GradientBoostingClassifier Object\n",
    "model = GradientBoostingClassifier(n_estimators = 100, learning_rate = 1.0, max_depth = 1, random_state = 0)\n",
    "\n",
    "# Training the model with the training datasets\n",
    "model.fit(ds_training_x, ds_training_y)\n",
    "\n",
    "# Predictions\n",
    "expected_values = model.predict(ds_test)"
   ]
  }
 ],
 "metadata": {
  "kernelspec": {
   "display_name": "Python 3",
   "language": "python",
   "name": "python3"
  },
  "language_info": {
   "codemirror_mode": {
    "name": "ipython",
    "version": 3
   },
   "file_extension": ".py",
   "mimetype": "text/x-python",
   "name": "python",
   "nbconvert_exporter": "python",
   "pygments_lexer": "ipython3",
   "version": "3.7.6"
  }
 },
 "nbformat": 4,
 "nbformat_minor": 4
}
