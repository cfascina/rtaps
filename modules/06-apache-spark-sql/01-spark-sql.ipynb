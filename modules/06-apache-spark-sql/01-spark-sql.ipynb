{
 "cells": [
  {
   "cell_type": "markdown",
   "metadata": {},
   "source": [
    "### Spark SQL"
   ]
  },
  {
   "cell_type": "markdown",
   "metadata": {},
   "source": [
    "Spark SQL is used to access structured data with Spark."
   ]
  },
  {
   "cell_type": "markdown",
   "metadata": {},
   "source": [
    "Access http://localhost:4040 whenever you want to view the jobs execution monitor."
   ]
  },
  {
   "cell_type": "markdown",
   "metadata": {},
   "source": [
    "Additional packages can be found at https://spark-packages.org/ (we will use one of these packages to connect to MongoDB)."
   ]
  },
  {
   "cell_type": "markdown",
   "metadata": {},
   "source": [
    "### Spark Session and SQL Context"
   ]
  },
  {
   "cell_type": "code",
   "execution_count": 2,
   "metadata": {},
   "outputs": [],
   "source": [
    "from pyspark.sql import Row, SparkSession, SQLContext"
   ]
  },
  {
   "cell_type": "code",
   "execution_count": 5,
   "metadata": {},
   "outputs": [
    {
     "name": "stdout",
     "output_type": "stream",
     "text": [
      "<SparkContext master=local[*] appName=PySparkShell>\n"
     ]
    }
   ],
   "source": [
    "print(sc)"
   ]
  },
  {
   "cell_type": "markdown",
   "metadata": {},
   "source": [
    "**Creating the Spark Session (to work with Spark)**"
   ]
  },
  {
   "cell_type": "code",
   "execution_count": 6,
   "metadata": {},
   "outputs": [],
   "source": [
    "spSession = SparkSession.builder.master('local').appName('appSparkSql').getOrCreate()"
   ]
  },
  {
   "cell_type": "code",
   "execution_count": 8,
   "metadata": {},
   "outputs": [
    {
     "data": {
      "text/plain": [
       "pyspark.sql.session.SparkSession"
      ]
     },
     "execution_count": 8,
     "metadata": {},
     "output_type": "execute_result"
    }
   ],
   "source": [
    "type(spSession)"
   ]
  },
  {
   "cell_type": "markdown",
   "metadata": {},
   "source": [
    "**Creating the SQL Context (to work with Spark SQL)**"
   ]
  },
  {
   "cell_type": "code",
   "execution_count": 7,
   "metadata": {},
   "outputs": [],
   "source": [
    "sqlContext = SQLContext(sc)"
   ]
  },
  {
   "cell_type": "code",
   "execution_count": 9,
   "metadata": {},
   "outputs": [
    {
     "data": {
      "text/plain": [
       "pyspark.sql.context.SQLContext"
      ]
     },
     "execution_count": 9,
     "metadata": {},
     "output_type": "execute_result"
    }
   ],
   "source": [
    "type(sqlContext)"
   ]
  },
  {
   "cell_type": "markdown",
   "metadata": {},
   "source": [
    "**Importing and Manipulating the Dataset**"
   ]
  },
  {
   "cell_type": "code",
   "execution_count": 12,
   "metadata": {},
   "outputs": [],
   "source": [
    "rddCarsOriginal = sc.textFile('aux/datasets/cars.csv')"
   ]
  },
  {
   "cell_type": "code",
   "execution_count": 13,
   "metadata": {},
   "outputs": [
    {
     "data": {
      "text/plain": [
       "198"
      ]
     },
     "execution_count": 13,
     "metadata": {},
     "output_type": "execute_result"
    }
   ],
   "source": [
    "rddCarsOriginal.count()"
   ]
  },
  {
   "cell_type": "code",
   "execution_count": 14,
   "metadata": {},
   "outputs": [],
   "source": [
    "rddCarsNoHeader = rddCarsOriginal.filter(lambda line: \"FUELTYPE\" not in line)"
   ]
  },
  {
   "cell_type": "code",
   "execution_count": 15,
   "metadata": {},
   "outputs": [
    {
     "data": {
      "text/plain": [
       "197"
      ]
     },
     "execution_count": 15,
     "metadata": {},
     "output_type": "execute_result"
    }
   ],
   "source": [
    "rddCarsNoHeader.count()"
   ]
  },
  {
   "cell_type": "code",
   "execution_count": 18,
   "metadata": {},
   "outputs": [],
   "source": [
    "rddCarsSplit = rddCarsNoHeader.map(lambda line: line.split(','))"
   ]
  },
  {
   "cell_type": "code",
   "execution_count": 39,
   "metadata": {},
   "outputs": [],
   "source": [
    "rddCarsRows = rddCarsSplit.map(lambda column: Row( \\\n",
    "    manufacturer = column[0], \\\n",
    "    category = column[4], \\\n",
    "    hp = int(column[7]) \\\n",
    "))"
   ]
  },
  {
   "cell_type": "code",
   "execution_count": 40,
   "metadata": {},
   "outputs": [
    {
     "data": {
      "text/plain": [
       "[Row(manufacturer='subaru', category='hatchback', hp=69),\n",
       " Row(manufacturer='chevrolet', category='hatchback', hp=48),\n",
       " Row(manufacturer='mazda', category='hatchback', hp=68),\n",
       " Row(manufacturer='toyota', category='hatchback', hp=62),\n",
       " Row(manufacturer='mitsubishi', category='hatchback', hp=68),\n",
       " Row(manufacturer='honda', category='hatchback', hp=60),\n",
       " Row(manufacturer='nissan', category='sedan', hp=69),\n",
       " Row(manufacturer='dodge', category='hatchback', hp=68),\n",
       " Row(manufacturer='plymouth', category='hatchback', hp=68),\n",
       " Row(manufacturer='mazda', category='hatchback', hp=68),\n",
       " Row(manufacturer='mitsubishi', category='hatchback', hp=68),\n",
       " Row(manufacturer='dodge', category='hatchback', hp=68),\n",
       " Row(manufacturer='plymouth', category='hatchback', hp=68),\n",
       " Row(manufacturer='chevrolet', category='hatchback', hp=70),\n",
       " Row(manufacturer='toyota', category='hatchback', hp=62),\n",
       " Row(manufacturer='dodge', category='hatchback', hp=68),\n",
       " Row(manufacturer='honda', category='hatchback', hp=58),\n",
       " Row(manufacturer='toyota', category='hatchback', hp=62),\n",
       " Row(manufacturer='honda', category='hatchback', hp=76),\n",
       " Row(manufacturer='chevrolet', category='sedan', hp=70),\n",
       " Row(manufacturer='nissan', category='sedan', hp=69),\n",
       " Row(manufacturer='mitsubishi', category='hatchback', hp=68),\n",
       " Row(manufacturer='dodge', category='sedan', hp=68),\n",
       " Row(manufacturer='plymouth', category='sedan', hp=68),\n",
       " Row(manufacturer='mazda', category='sedan', hp=68),\n",
       " Row(manufacturer='isuzu', category='sedan', hp=78),\n",
       " Row(manufacturer='mazda', category='hatchback', hp=68),\n",
       " Row(manufacturer='nissan', category='sedan', hp=69),\n",
       " Row(manufacturer='honda', category='hatchback', hp=76),\n",
       " Row(manufacturer='toyota', category='wagon', hp=62),\n",
       " Row(manufacturer='toyota', category='sedan', hp=70),\n",
       " Row(manufacturer='mitsubishi', category='sedan', hp=88),\n",
       " Row(manufacturer='subaru', category='hatchback', hp=73),\n",
       " Row(manufacturer='nissan', category='sedan', hp=55),\n",
       " Row(manufacturer='subaru', category='sedan', hp=82),\n",
       " Row(manufacturer='honda', category='hatchback', hp=76),\n",
       " Row(manufacturer='toyota', category='hatchback', hp=70),\n",
       " Row(manufacturer='honda', category='sedan', hp=76),\n",
       " Row(manufacturer='honda', category='wagon', hp=76),\n",
       " Row(manufacturer='nissan', category='sedan', hp=69),\n",
       " Row(manufacturer='nissan', category='wagon', hp=69),\n",
       " Row(manufacturer='mazda', category='sedan', hp=68),\n",
       " Row(manufacturer='subaru', category='wagon', hp=82),\n",
       " Row(manufacturer='nissan', category='sedan', hp=69),\n",
       " Row(manufacturer='subaru', category='hatchback', hp=73),\n",
       " Row(manufacturer='dodge', category='sedan', hp=68),\n",
       " Row(manufacturer='plymouth', category='sedan', hp=68),\n",
       " Row(manufacturer='mitsubishi', category='hatchback', hp=102),\n",
       " Row(manufacturer='toyota', category='sedan', hp=70),\n",
       " Row(manufacturer='subaru', category='sedan', hp=82),\n",
       " Row(manufacturer='volkswagen', category='sedan', hp=52),\n",
       " Row(manufacturer='toyota', category='hatchback', hp=56),\n",
       " Row(manufacturer='nissan', category='hatchback', hp=69),\n",
       " Row(manufacturer='honda', category='hatchback', hp=86),\n",
       " Row(manufacturer='toyota', category='wagon', hp=62),\n",
       " Row(manufacturer='toyota', category='sedan', hp=56),\n",
       " Row(manufacturer='dodge', category='hatchback', hp=102),\n",
       " Row(manufacturer='plymouth', category='hatchback', hp=102),\n",
       " Row(manufacturer='volkswagen', category='sedan', hp=85),\n",
       " Row(manufacturer='volkswagen', category='sedan', hp=52),\n",
       " Row(manufacturer='nissan', category='wagon', hp=69),\n",
       " Row(manufacturer='subaru', category='wagon', hp=82),\n",
       " Row(manufacturer='toyota', category='sedan', hp=70),\n",
       " Row(manufacturer='mitsubishi', category='sedan', hp=88),\n",
       " Row(manufacturer='volkswagen', category='sedan', hp=85),\n",
       " Row(manufacturer='toyota', category='hatchback', hp=70),\n",
       " Row(manufacturer='nissan', category='hardtop', hp=69),\n",
       " Row(manufacturer='toyota', category='hatchback', hp=70),\n",
       " Row(manufacturer='toyota', category='hardtop', hp=116),\n",
       " Row(manufacturer='mazda', category='sedan', hp=84),\n",
       " Row(manufacturer='volkswagen', category='sedan', hp=85),\n",
       " Row(manufacturer='mitsubishi', category='hatchback', hp=88),\n",
       " Row(manufacturer='toyota', category='wagon', hp=62),\n",
       " Row(manufacturer='honda', category='sedan', hp=86),\n",
       " Row(manufacturer='mazda', category='hatchback', hp=84),\n",
       " Row(manufacturer='dodge', category='wagon', hp=88),\n",
       " Row(manufacturer='plymouth', category='wagon', hp=88),\n",
       " Row(manufacturer='toyota', category='sedan', hp=92),\n",
       " Row(manufacturer='nissan', category='hatchback', hp=97),\n",
       " Row(manufacturer='honda', category='hatchback', hp=86),\n",
       " Row(manufacturer='subaru', category='sedan', hp=82),\n",
       " Row(manufacturer='toyota', category='sedan', hp=70),\n",
       " Row(manufacturer='mitsubishi', category='sedan', hp=116),\n",
       " Row(manufacturer='mitsubishi', category='sedan', hp=116),\n",
       " Row(manufacturer='toyota', category='sedan', hp=112),\n",
       " Row(manufacturer='volkswagen', category='sedan', hp=68),\n",
       " Row(manufacturer='toyota', category='hatchback', hp=112),\n",
       " Row(manufacturer='nissan', category='sedan', hp=97),\n",
       " Row(manufacturer='toyota', category='hardtop', hp=116),\n",
       " Row(manufacturer='mitsubishi', category='hatchback', hp=116),\n",
       " Row(manufacturer='subaru', category='sedan', hp=94),\n",
       " Row(manufacturer='volkswagen', category='hatchback', hp=90),\n",
       " Row(manufacturer='toyota', category='hatchback', hp=92),\n",
       " Row(manufacturer='toyota', category='hatchback', hp=116),\n",
       " Row(manufacturer='volkswagen', category='sedan', hp=100),\n",
       " Row(manufacturer='subaru', category='wagon', hp=94),\n",
       " Row(manufacturer='mazda', category='sedan', hp=84),\n",
       " Row(manufacturer='honda', category='sedan', hp=86),\n",
       " Row(manufacturer='honda', category='sedan', hp=100),\n",
       " Row(manufacturer='mazda', category='hatchback', hp=84),\n",
       " Row(manufacturer='toyota', category='sedan', hp=73),\n",
       " Row(manufacturer='toyota', category='sedan', hp=92),\n",
       " Row(manufacturer='mazda', category='hatchback', hp=101),\n",
       " Row(manufacturer='isuzu', category='hatchback', hp=90),\n",
       " Row(manufacturer='toyota', category='hardtop', hp=116),\n",
       " Row(manufacturer='mazda', category='hatchback', hp=84),\n",
       " Row(manufacturer='toyota', category='hatchback', hp=92),\n",
       " Row(manufacturer='subaru', category='sedan', hp=111),\n",
       " Row(manufacturer='toyota', category='hatchback', hp=116),\n",
       " Row(manufacturer='volkswagen', category='convertible', hp=90),\n",
       " Row(manufacturer='subaru', category='wagon', hp=111),\n",
       " Row(manufacturer='mazda', category='hatchback', hp=101),\n",
       " Row(manufacturer='saab', category='hatchback', hp=110),\n",
       " Row(manufacturer='peugot', category='sedan', hp=97),\n",
       " Row(manufacturer='saab', category='sedan', hp=110),\n",
       " Row(manufacturer='volkswagen', category='wagon', hp=88),\n",
       " Row(manufacturer='peugot', category='wagon', hp=97),\n",
       " Row(manufacturer='mitsubishi', category='hatchback', hp=145),\n",
       " Row(manufacturer='plymouth', category='hatchback', hp=145),\n",
       " Row(manufacturer='volvo', category='sedan', hp=114),\n",
       " Row(manufacturer='honda', category='sedan', hp=101),\n",
       " Row(manufacturer='dodge', category='hatchback', hp=145),\n",
       " Row(manufacturer='peugot', category='sedan', hp=95),\n",
       " Row(manufacturer='volkswagen', category='sedan', hp=110),\n",
       " Row(manufacturer='volvo', category='wagon', hp=114),\n",
       " Row(manufacturer='alfa-romero', category='convertible', hp=111),\n",
       " Row(manufacturer='nissan', category='sedan', hp=152),\n",
       " Row(manufacturer='nissan', category='sedan', hp=152),\n",
       " Row(manufacturer='mazda', category='hatchback', hp=101),\n",
       " Row(manufacturer='volkswagen', category='sedan', hp=68),\n",
       " Row(manufacturer='peugot', category='wagon', hp=95),\n",
       " Row(manufacturer='audi', category='sedan', hp=102),\n",
       " Row(manufacturer='nissan', category='wagon', hp=152),\n",
       " Row(manufacturer='mitsubishi', category='hatchback', hp=145),\n",
       " Row(manufacturer='mitsubishi', category='hatchback', hp=145),\n",
       " Row(manufacturer='saab', category='hatchback', hp=110),\n",
       " Row(manufacturer='audi', category='sedan', hp=110),\n",
       " Row(manufacturer='saab', category='sedan', hp=110),\n",
       " Row(manufacturer='peugot', category='sedan', hp=95),\n",
       " Row(manufacturer='mazda', category='hatchback', hp=135),\n",
       " Row(manufacturer='toyota', category='sedan', hp=156),\n",
       " Row(manufacturer='toyota', category='wagon', hp=156),\n",
       " Row(manufacturer='volvo', category='sedan', hp=114),\n",
       " Row(manufacturer='toyota', category='hatchback', hp=161),\n",
       " Row(manufacturer='bmw', category='sedan', hp=101),\n",
       " Row(manufacturer='alfa-romero', category='convertible', hp=111),\n",
       " Row(manufacturer='alfa-romero', category='hatchback', hp=154),\n",
       " Row(manufacturer='mercury', category='hatchback', hp=175),\n",
       " Row(manufacturer='volvo', category='wagon', hp=114),\n",
       " Row(manufacturer='toyota', category='hatchback', hp=161),\n",
       " Row(manufacturer='peugot', category='sedan', hp=97),\n",
       " Row(manufacturer='peugot', category='wagon', hp=95),\n",
       " Row(manufacturer='volvo', category='sedan', hp=114),\n",
       " Row(manufacturer='peugot', category='sedan', hp=95),\n",
       " Row(manufacturer='bmw', category='sedan', hp=101),\n",
       " Row(manufacturer='peugot', category='wagon', hp=95),\n",
       " Row(manufacturer='nissan', category='hatchback', hp=160),\n",
       " Row(manufacturer='audi', category='sedan', hp=115),\n",
       " Row(manufacturer='toyota', category='convertible', hp=116),\n",
       " Row(manufacturer='audi', category='sedan', hp=110),\n",
       " Row(manufacturer='peugot', category='sedan', hp=95),\n",
       " Row(manufacturer='peugot', category='sedan', hp=142),\n",
       " Row(manufacturer='saab', category='hatchback', hp=160),\n",
       " Row(manufacturer='mazda', category='sedan', hp=120),\n",
       " Row(manufacturer='mazda', category='sedan', hp=72),\n",
       " Row(manufacturer='nissan', category='hatchback', hp=160),\n",
       " Row(manufacturer='volvo', category='sedan', hp=162),\n",
       " Row(manufacturer='saab', category='sedan', hp=160),\n",
       " Row(manufacturer='audi', category='wagon', hp=110),\n",
       " Row(manufacturer='volvo', category='wagon', hp=162),\n",
       " Row(manufacturer='volvo', category='sedan', hp=160),\n",
       " Row(manufacturer='nissan', category='hatchback', hp=200),\n",
       " Row(manufacturer='bmw', category='sedan', hp=121),\n",
       " Row(manufacturer='bmw', category='sedan', hp=121),\n",
       " Row(manufacturer='volvo', category='sedan', hp=134),\n",
       " Row(manufacturer='porsche', category='hatchback', hp=143),\n",
       " Row(manufacturer='volvo', category='sedan', hp=106),\n",
       " Row(manufacturer='volvo', category='sedan', hp=114),\n",
       " Row(manufacturer='audi', category='sedan', hp=140),\n",
       " Row(manufacturer='bmw', category='sedan', hp=121),\n",
       " Row(manufacturer='mercedes-benz', category='sedan', hp=123),\n",
       " Row(manufacturer='mercedes-benz', category='hardtop', hp=123),\n",
       " Row(manufacturer='mercedes-benz', category='wagon', hp=123),\n",
       " Row(manufacturer='bmw', category='sedan', hp=182),\n",
       " Row(manufacturer='mercedes-benz', category='sedan', hp=123),\n",
       " Row(manufacturer='jaguar', category='sedan', hp=176),\n",
       " Row(manufacturer='porsche', category='hardtop', hp=207),\n",
       " Row(manufacturer='porsche', category='hardtop', hp=207),\n",
       " Row(manufacturer='mercedes-benz', category='sedan', hp=155),\n",
       " Row(manufacturer='mercedes-benz', category='convertible', hp=155),\n",
       " Row(manufacturer='jaguar', category='sedan', hp=176),\n",
       " Row(manufacturer='jaguar', category='sedan', hp=262),\n",
       " Row(manufacturer='bmw', category='sedan', hp=182),\n",
       " Row(manufacturer='porsche', category='convertible', hp=207),\n",
       " Row(manufacturer='mercedes-benz', category='sedan', hp=184),\n",
       " Row(manufacturer='bmw', category='sedan', hp=182),\n",
       " Row(manufacturer='mercedes-benz', category='hardtop', hp=184)]"
      ]
     },
     "execution_count": 40,
     "metadata": {},
     "output_type": "execute_result"
    }
   ],
   "source": [
    "rddCarsRows.collect()"
   ]
  },
  {
   "cell_type": "markdown",
   "metadata": {},
   "source": [
    "**Creating a DataFrame from the RDD**"
   ]
  },
  {
   "cell_type": "code",
   "execution_count": 41,
   "metadata": {},
   "outputs": [],
   "source": [
    "dfCars = spSession.createDataFrame(rddCarsRows)"
   ]
  },
  {
   "cell_type": "code",
   "execution_count": 42,
   "metadata": {},
   "outputs": [
    {
     "name": "stdout",
     "output_type": "stream",
     "text": [
      "+------------+---------+---+\n",
      "|manufacturer| category| hp|\n",
      "+------------+---------+---+\n",
      "|      subaru|hatchback| 69|\n",
      "|   chevrolet|hatchback| 48|\n",
      "|       mazda|hatchback| 68|\n",
      "|      toyota|hatchback| 62|\n",
      "|  mitsubishi|hatchback| 68|\n",
      "|       honda|hatchback| 60|\n",
      "|      nissan|    sedan| 69|\n",
      "|       dodge|hatchback| 68|\n",
      "|    plymouth|hatchback| 68|\n",
      "|       mazda|hatchback| 68|\n",
      "|  mitsubishi|hatchback| 68|\n",
      "|       dodge|hatchback| 68|\n",
      "|    plymouth|hatchback| 68|\n",
      "|   chevrolet|hatchback| 70|\n",
      "|      toyota|hatchback| 62|\n",
      "|       dodge|hatchback| 68|\n",
      "|       honda|hatchback| 58|\n",
      "|      toyota|hatchback| 62|\n",
      "|       honda|hatchback| 76|\n",
      "|   chevrolet|    sedan| 70|\n",
      "+------------+---------+---+\n",
      "only showing top 20 rows\n",
      "\n"
     ]
    }
   ],
   "source": [
    "dfCars.show()"
   ]
  },
  {
   "cell_type": "markdown",
   "metadata": {},
   "source": [
    "**Performing Queries on the DataFrame**"
   ]
  },
  {
   "cell_type": "code",
   "execution_count": 43,
   "metadata": {},
   "outputs": [
    {
     "name": "stdout",
     "output_type": "stream",
     "text": [
      "+------------+---------+---+\n",
      "|manufacturer| category| hp|\n",
      "+------------+---------+---+\n",
      "|      subaru|hatchback| 69|\n",
      "|   chevrolet|hatchback| 48|\n",
      "|       mazda|hatchback| 68|\n",
      "|      toyota|hatchback| 62|\n",
      "|  mitsubishi|hatchback| 68|\n",
      "|       honda|hatchback| 60|\n",
      "|      nissan|    sedan| 69|\n",
      "|       dodge|hatchback| 68|\n",
      "|    plymouth|hatchback| 68|\n",
      "|       mazda|hatchback| 68|\n",
      "|  mitsubishi|hatchback| 68|\n",
      "|       dodge|hatchback| 68|\n",
      "|    plymouth|hatchback| 68|\n",
      "|   chevrolet|hatchback| 70|\n",
      "|      toyota|hatchback| 62|\n",
      "|       dodge|hatchback| 68|\n",
      "|       honda|hatchback| 58|\n",
      "|      toyota|hatchback| 62|\n",
      "|       honda|hatchback| 76|\n",
      "|   chevrolet|    sedan| 70|\n",
      "+------------+---------+---+\n",
      "only showing top 20 rows\n",
      "\n"
     ]
    }
   ],
   "source": [
    "dfCars.select('*').show()"
   ]
  },
  {
   "cell_type": "code",
   "execution_count": 45,
   "metadata": {},
   "outputs": [
    {
     "name": "stdout",
     "output_type": "stream",
     "text": [
      "+------------+-----------+---+\n",
      "|manufacturer|   category| hp|\n",
      "+------------+-----------+---+\n",
      "| alfa-romero|  hatchback|154|\n",
      "| alfa-romero|convertible|111|\n",
      "| alfa-romero|convertible|111|\n",
      "|        audi|      sedan|110|\n",
      "|        audi|      wagon|110|\n",
      "|        audi|      sedan|140|\n",
      "|        audi|      sedan|110|\n",
      "|        audi|      sedan|115|\n",
      "|        audi|      sedan|102|\n",
      "|         bmw|      sedan|121|\n",
      "|         bmw|      sedan|121|\n",
      "|         bmw|      sedan|182|\n",
      "|         bmw|      sedan|182|\n",
      "|         bmw|      sedan|101|\n",
      "|         bmw|      sedan|182|\n",
      "|         bmw|      sedan|121|\n",
      "|         bmw|      sedan|101|\n",
      "|   chevrolet|  hatchback| 70|\n",
      "|   chevrolet|      sedan| 70|\n",
      "|   chevrolet|  hatchback| 48|\n",
      "+------------+-----------+---+\n",
      "only showing top 20 rows\n",
      "\n"
     ]
    }
   ],
   "source": [
    "dfCars.orderBy('manufacturer').show()"
   ]
  },
  {
   "cell_type": "markdown",
   "metadata": {},
   "source": [
    "**Creating a Temporary Table from the Data Frame, and Performing Queries**"
   ]
  },
  {
   "cell_type": "code",
   "execution_count": 47,
   "metadata": {},
   "outputs": [],
   "source": [
    "dfCars.createOrReplaceTempView('tp_cars')"
   ]
  },
  {
   "cell_type": "code",
   "execution_count": 49,
   "metadata": {},
   "outputs": [
    {
     "name": "stdout",
     "output_type": "stream",
     "text": [
      "+------------+---------+---+\n",
      "|manufacturer| category| hp|\n",
      "+------------+---------+---+\n",
      "|      nissan|    sedan| 69|\n",
      "|      nissan|    sedan| 69|\n",
      "|      nissan|    sedan| 69|\n",
      "|      nissan|    sedan| 55|\n",
      "|      nissan|    sedan| 69|\n",
      "|      nissan|    wagon| 69|\n",
      "|      nissan|    sedan| 69|\n",
      "|      nissan|hatchback| 69|\n",
      "|      nissan|    wagon| 69|\n",
      "|      nissan|  hardtop| 69|\n",
      "|      nissan|hatchback| 97|\n",
      "|      nissan|    sedan| 97|\n",
      "|      nissan|    sedan|152|\n",
      "|      nissan|    sedan|152|\n",
      "|      nissan|    wagon|152|\n",
      "|      nissan|hatchback|160|\n",
      "|      nissan|hatchback|160|\n",
      "|      nissan|hatchback|200|\n",
      "+------------+---------+---+\n",
      "\n"
     ]
    }
   ],
   "source": [
    "spSession.sql(\"SELECT * FROM tp_cars WHERE manufacturer = 'nissan'\").show()"
   ]
  },
  {
   "cell_type": "code",
   "execution_count": 57,
   "metadata": {},
   "outputs": [
    {
     "name": "stdout",
     "output_type": "stream",
     "text": [
      "+-------------+-----------+------+\n",
      "| manufacturer|   category|hp_avg|\n",
      "+-------------+-----------+------+\n",
      "|      porsche|    hardtop| 207.0|\n",
      "|      porsche|convertible| 207.0|\n",
      "|       jaguar|      sedan|204.67|\n",
      "|      mercury|  hatchback| 175.0|\n",
      "|mercedes-benz|convertible| 155.0|\n",
      "|  alfa-romero|  hatchback| 154.0|\n",
      "|mercedes-benz|    hardtop| 153.5|\n",
      "|mercedes-benz|      sedan|146.25|\n",
      "|      porsche|  hatchback| 143.0|\n",
      "|          bmw|      sedan|138.88|\n",
      "|       nissan|  hatchback| 137.2|\n",
      "|        volvo|      wagon| 130.0|\n",
      "|        volvo|      sedan|127.25|\n",
      "|         saab|      sedan|126.67|\n",
      "|         saab|  hatchback|126.67|\n",
      "|mercedes-benz|      wagon| 123.0|\n",
      "|       toyota|    hardtop| 116.0|\n",
      "|       toyota|convertible| 116.0|\n",
      "|         audi|      sedan| 115.4|\n",
      "|  alfa-romero|convertible| 111.0|\n",
      "+-------------+-----------+------+\n",
      "only showing top 20 rows\n",
      "\n"
     ]
    }
   ],
   "source": [
    "spSession.sql(\"SELECT \\\n",
    "    manufacturer, category, ROUND(AVG(hp), 2) AS hp_avg \\\n",
    "    FROM tp_cars GROUP BY manufacturer, category \\\n",
    "    ORDER BY hp_avg DESC\").show()"
   ]
  },
  {
   "cell_type": "code",
   "execution_count": null,
   "metadata": {},
   "outputs": [],
   "source": []
  }
 ],
 "metadata": {
  "kernelspec": {
   "display_name": "Python 3",
   "language": "python",
   "name": "python3"
  },
  "language_info": {
   "codemirror_mode": {
    "name": "ipython",
    "version": 3
   },
   "file_extension": ".py",
   "mimetype": "text/x-python",
   "name": "python",
   "nbconvert_exporter": "python",
   "pygments_lexer": "ipython3",
   "version": "3.8.3"
  }
 },
 "nbformat": 4,
 "nbformat_minor": 4
}
