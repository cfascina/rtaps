{
 "cells": [
  {
   "cell_type": "markdown",
   "metadata": {},
   "source": [
    "### Pair RDD"
   ]
  },
  {
   "cell_type": "markdown",
   "metadata": {},
   "source": [
    "Pair RDD is a special type of RDD that stores key-value pairs. It is useful when it is necessary to store data that has a key and several values (for example, all customer transactions, generated in real time)."
   ]
  },
  {
   "cell_type": "markdown",
   "metadata": {},
   "source": [
    "- **mapValues()**\n",
    "- **countByKey()**\n",
    "- **groupByKey()**\n",
    "- **reduceByKey()**\n",
    "- **aggregateByKey()**"
   ]
  },
  {
   "cell_type": "markdown",
   "metadata": {},
   "source": [
    "**Creating a RDD**"
   ]
  },
  {
   "cell_type": "code",
   "execution_count": 1,
   "metadata": {},
   "outputs": [],
   "source": [
    "cars = sc.textFile('aux/datasets/cars.csv')"
   ]
  },
  {
   "cell_type": "code",
   "execution_count": 2,
   "metadata": {},
   "outputs": [
    {
     "data": {
      "text/plain": [
       "['MAKE,FUELTYPE,ASPIRE,DOORS,BODY,DRIVE,CYLINDERS,HP,RPM,MPG-CITY,MPG-HWY,PRICE',\n",
       " 'subaru,gas,std,two,hatchback,fwd,four,69,4900,31,36,5118',\n",
       " 'chevrolet,gas,std,two,hatchback,fwd,three,48,5100,47,53,5151',\n",
       " 'mazda,gas,std,two,hatchback,fwd,four,68,5000,30,31,5195',\n",
       " 'toyota,gas,std,two,hatchback,fwd,four,62,4800,35,39,5348']"
      ]
     },
     "execution_count": 2,
     "metadata": {},
     "output_type": "execute_result"
    }
   ],
   "source": [
    "cars.take(5)"
   ]
  },
  {
   "cell_type": "markdown",
   "metadata": {},
   "source": [
    "**Creating a Pair RDD**"
   ]
  },
  {
   "cell_type": "code",
   "execution_count": 3,
   "metadata": {},
   "outputs": [],
   "source": [
    "rddCars = cars.map(lambda line: (line.split(',')[0], line.split(',')[7]))"
   ]
  },
  {
   "cell_type": "code",
   "execution_count": 4,
   "metadata": {},
   "outputs": [
    {
     "data": {
      "text/plain": [
       "[('MAKE', 'HP'),\n",
       " ('subaru', '69'),\n",
       " ('chevrolet', '48'),\n",
       " ('mazda', '68'),\n",
       " ('toyota', '62')]"
      ]
     },
     "execution_count": 4,
     "metadata": {},
     "output_type": "execute_result"
    }
   ],
   "source": [
    "rddCars.take(5)"
   ]
  },
  {
   "cell_type": "markdown",
   "metadata": {},
   "source": [
    "**Removing the header**"
   ]
  },
  {
   "cell_type": "code",
   "execution_count": 5,
   "metadata": {},
   "outputs": [],
   "source": [
    "header = rddCars.first()"
   ]
  },
  {
   "cell_type": "code",
   "execution_count": 11,
   "metadata": {},
   "outputs": [],
   "source": [
    "rddCars_02 = rddCars.filter(lambda line: line != header)"
   ]
  },
  {
   "cell_type": "code",
   "execution_count": 12,
   "metadata": {},
   "outputs": [
    {
     "data": {
      "text/plain": [
       "[('subaru', '69'),\n",
       " ('chevrolet', '48'),\n",
       " ('mazda', '68'),\n",
       " ('toyota', '62'),\n",
       " ('mitsubishi', '68')]"
      ]
     },
     "execution_count": 12,
     "metadata": {},
     "output_type": "execute_result"
    }
   ],
   "source": [
    "rddCars_02.take(5)"
   ]
  },
  {
   "cell_type": "markdown",
   "metadata": {},
   "source": [
    "**Finding HP values by manufacturers, and adding 1 to each \"manufacturer/hp\" record**"
   ]
  },
  {
   "cell_type": "code",
   "execution_count": 15,
   "metadata": {},
   "outputs": [],
   "source": [
    "rddCars_03 = rddCars_02.mapValues(lambda hp: (hp, 1))"
   ]
  },
  {
   "cell_type": "code",
   "execution_count": 16,
   "metadata": {},
   "outputs": [
    {
     "data": {
      "text/plain": [
       "[('subaru', ('69', 1)),\n",
       " ('chevrolet', ('48', 1)),\n",
       " ('mazda', ('68', 1)),\n",
       " ('toyota', ('62', 1)),\n",
       " ('mitsubishi', ('68', 1)),\n",
       " ('honda', ('60', 1)),\n",
       " ('nissan', ('69', 1)),\n",
       " ('dodge', ('68', 1)),\n",
       " ('plymouth', ('68', 1)),\n",
       " ('mazda', ('68', 1)),\n",
       " ('mitsubishi', ('68', 1)),\n",
       " ('dodge', ('68', 1)),\n",
       " ('plymouth', ('68', 1)),\n",
       " ('chevrolet', ('70', 1)),\n",
       " ('toyota', ('62', 1)),\n",
       " ('dodge', ('68', 1)),\n",
       " ('honda', ('58', 1)),\n",
       " ('toyota', ('62', 1)),\n",
       " ('honda', ('76', 1)),\n",
       " ('chevrolet', ('70', 1)),\n",
       " ('nissan', ('69', 1)),\n",
       " ('mitsubishi', ('68', 1)),\n",
       " ('dodge', ('68', 1)),\n",
       " ('plymouth', ('68', 1)),\n",
       " ('mazda', ('68', 1)),\n",
       " ('isuzu', ('78', 1)),\n",
       " ('mazda', ('68', 1)),\n",
       " ('nissan', ('69', 1)),\n",
       " ('honda', ('76', 1)),\n",
       " ('toyota', ('62', 1)),\n",
       " ('toyota', ('70', 1)),\n",
       " ('mitsubishi', ('88', 1)),\n",
       " ('subaru', ('73', 1)),\n",
       " ('nissan', ('55', 1)),\n",
       " ('subaru', ('82', 1)),\n",
       " ('honda', ('76', 1)),\n",
       " ('toyota', ('70', 1)),\n",
       " ('honda', ('76', 1)),\n",
       " ('honda', ('76', 1)),\n",
       " ('nissan', ('69', 1)),\n",
       " ('nissan', ('69', 1)),\n",
       " ('mazda', ('68', 1)),\n",
       " ('subaru', ('82', 1)),\n",
       " ('nissan', ('69', 1)),\n",
       " ('subaru', ('73', 1)),\n",
       " ('dodge', ('68', 1)),\n",
       " ('plymouth', ('68', 1)),\n",
       " ('mitsubishi', ('102', 1)),\n",
       " ('toyota', ('70', 1)),\n",
       " ('subaru', ('82', 1)),\n",
       " ('volkswagen', ('52', 1)),\n",
       " ('toyota', ('56', 1)),\n",
       " ('nissan', ('69', 1)),\n",
       " ('honda', ('86', 1)),\n",
       " ('toyota', ('62', 1)),\n",
       " ('toyota', ('56', 1)),\n",
       " ('dodge', ('102', 1)),\n",
       " ('plymouth', ('102', 1)),\n",
       " ('volkswagen', ('85', 1)),\n",
       " ('volkswagen', ('52', 1)),\n",
       " ('nissan', ('69', 1)),\n",
       " ('subaru', ('82', 1)),\n",
       " ('toyota', ('70', 1)),\n",
       " ('mitsubishi', ('88', 1)),\n",
       " ('volkswagen', ('85', 1)),\n",
       " ('toyota', ('70', 1)),\n",
       " ('nissan', ('69', 1)),\n",
       " ('toyota', ('70', 1)),\n",
       " ('toyota', ('116', 1)),\n",
       " ('mazda', ('84', 1)),\n",
       " ('volkswagen', ('85', 1)),\n",
       " ('mitsubishi', ('88', 1)),\n",
       " ('toyota', ('62', 1)),\n",
       " ('honda', ('86', 1)),\n",
       " ('mazda', ('84', 1)),\n",
       " ('dodge', ('88', 1)),\n",
       " ('plymouth', ('88', 1)),\n",
       " ('toyota', ('92', 1)),\n",
       " ('nissan', ('97', 1)),\n",
       " ('honda', ('86', 1)),\n",
       " ('subaru', ('82', 1)),\n",
       " ('toyota', ('70', 1)),\n",
       " ('mitsubishi', ('116', 1)),\n",
       " ('mitsubishi', ('116', 1)),\n",
       " ('toyota', ('112', 1)),\n",
       " ('volkswagen', ('68', 1)),\n",
       " ('toyota', ('112', 1)),\n",
       " ('nissan', ('97', 1)),\n",
       " ('toyota', ('116', 1)),\n",
       " ('mitsubishi', ('116', 1)),\n",
       " ('subaru', ('94', 1)),\n",
       " ('volkswagen', ('90', 1)),\n",
       " ('toyota', ('92', 1)),\n",
       " ('toyota', ('116', 1)),\n",
       " ('volkswagen', ('100', 1)),\n",
       " ('subaru', ('94', 1)),\n",
       " ('mazda', ('84', 1)),\n",
       " ('honda', ('86', 1)),\n",
       " ('honda', ('100', 1)),\n",
       " ('mazda', ('84', 1)),\n",
       " ('toyota', ('73', 1)),\n",
       " ('toyota', ('92', 1)),\n",
       " ('mazda', ('101', 1)),\n",
       " ('isuzu', ('90', 1)),\n",
       " ('toyota', ('116', 1)),\n",
       " ('mazda', ('84', 1)),\n",
       " ('toyota', ('92', 1)),\n",
       " ('subaru', ('111', 1)),\n",
       " ('toyota', ('116', 1)),\n",
       " ('volkswagen', ('90', 1)),\n",
       " ('subaru', ('111', 1)),\n",
       " ('mazda', ('101', 1)),\n",
       " ('saab', ('110', 1)),\n",
       " ('peugot', ('97', 1)),\n",
       " ('saab', ('110', 1)),\n",
       " ('volkswagen', ('88', 1)),\n",
       " ('peugot', ('97', 1)),\n",
       " ('mitsubishi', ('145', 1)),\n",
       " ('plymouth', ('145', 1)),\n",
       " ('volvo', ('114', 1)),\n",
       " ('honda', ('101', 1)),\n",
       " ('dodge', ('145', 1)),\n",
       " ('peugot', ('95', 1)),\n",
       " ('volkswagen', ('110', 1)),\n",
       " ('volvo', ('114', 1)),\n",
       " ('alfa-romero', ('111', 1)),\n",
       " ('nissan', ('152', 1)),\n",
       " ('nissan', ('152', 1)),\n",
       " ('mazda', ('101', 1)),\n",
       " ('volkswagen', ('68', 1)),\n",
       " ('peugot', ('95', 1)),\n",
       " ('audi', ('102', 1)),\n",
       " ('nissan', ('152', 1)),\n",
       " ('mitsubishi', ('145', 1)),\n",
       " ('mitsubishi', ('145', 1)),\n",
       " ('saab', ('110', 1)),\n",
       " ('audi', ('110', 1)),\n",
       " ('saab', ('110', 1)),\n",
       " ('peugot', ('95', 1)),\n",
       " ('mazda', ('135', 1)),\n",
       " ('toyota', ('156', 1)),\n",
       " ('toyota', ('156', 1)),\n",
       " ('volvo', ('114', 1)),\n",
       " ('toyota', ('161', 1)),\n",
       " ('bmw', ('101', 1)),\n",
       " ('alfa-romero', ('111', 1)),\n",
       " ('alfa-romero', ('154', 1)),\n",
       " ('mercury', ('175', 1)),\n",
       " ('volvo', ('114', 1)),\n",
       " ('toyota', ('161', 1)),\n",
       " ('peugot', ('97', 1)),\n",
       " ('peugot', ('95', 1)),\n",
       " ('volvo', ('114', 1)),\n",
       " ('peugot', ('95', 1)),\n",
       " ('bmw', ('101', 1)),\n",
       " ('peugot', ('95', 1)),\n",
       " ('nissan', ('160', 1)),\n",
       " ('audi', ('115', 1)),\n",
       " ('toyota', ('116', 1)),\n",
       " ('audi', ('110', 1)),\n",
       " ('peugot', ('95', 1)),\n",
       " ('peugot', ('142', 1)),\n",
       " ('saab', ('160', 1)),\n",
       " ('mazda', ('120', 1)),\n",
       " ('mazda', ('72', 1)),\n",
       " ('nissan', ('160', 1)),\n",
       " ('volvo', ('162', 1)),\n",
       " ('saab', ('160', 1)),\n",
       " ('audi', ('110', 1)),\n",
       " ('volvo', ('162', 1)),\n",
       " ('volvo', ('160', 1)),\n",
       " ('nissan', ('200', 1)),\n",
       " ('bmw', ('121', 1)),\n",
       " ('bmw', ('121', 1)),\n",
       " ('volvo', ('134', 1)),\n",
       " ('porsche', ('143', 1)),\n",
       " ('volvo', ('106', 1)),\n",
       " ('volvo', ('114', 1)),\n",
       " ('audi', ('140', 1)),\n",
       " ('bmw', ('121', 1)),\n",
       " ('mercedes-benz', ('123', 1)),\n",
       " ('mercedes-benz', ('123', 1)),\n",
       " ('mercedes-benz', ('123', 1)),\n",
       " ('bmw', ('182', 1)),\n",
       " ('mercedes-benz', ('123', 1)),\n",
       " ('jaguar', ('176', 1)),\n",
       " ('porsche', ('207', 1)),\n",
       " ('porsche', ('207', 1)),\n",
       " ('mercedes-benz', ('155', 1)),\n",
       " ('mercedes-benz', ('155', 1)),\n",
       " ('jaguar', ('176', 1)),\n",
       " ('jaguar', ('262', 1)),\n",
       " ('bmw', ('182', 1)),\n",
       " ('porsche', ('207', 1)),\n",
       " ('mercedes-benz', ('184', 1)),\n",
       " ('bmw', ('182', 1)),\n",
       " ('mercedes-benz', ('184', 1))]"
      ]
     },
     "execution_count": 16,
     "metadata": {},
     "output_type": "execute_result"
    }
   ],
   "source": [
    "rddCars_03.collect()"
   ]
  },
  {
   "cell_type": "markdown",
   "metadata": {},
   "source": [
    "**Calculating total HP and cars by manufacturer**"
   ]
  },
  {
   "cell_type": "code",
   "execution_count": 21,
   "metadata": {},
   "outputs": [],
   "source": [
    "manufacturers = rddCars_03.reduceByKey(lambda hp, qty: (int(hp[0]) + int(qty[0]), hp[1] + qty[1]))"
   ]
  },
  {
   "cell_type": "code",
   "execution_count": 22,
   "metadata": {},
   "outputs": [
    {
     "data": {
      "text/plain": [
       "[('chevrolet', (188, 3)),\n",
       " ('mazda', (1390, 16)),\n",
       " ('mitsubishi', (1353, 13)),\n",
       " ('nissan', (1846, 18)),\n",
       " ('dodge', (675, 8)),\n",
       " ('plymouth', (607, 7)),\n",
       " ('saab', (760, 6)),\n",
       " ('volvo', (1408, 11)),\n",
       " ('alfa-romero', (376, 3)),\n",
       " ('mercedes-benz', (1170, 8)),\n",
       " ('jaguar', (614, 3)),\n",
       " ('subaru', (1035, 12)),\n",
       " ('toyota', (2969, 32)),\n",
       " ('honda', (1043, 13)),\n",
       " ('isuzu', (168, 2)),\n",
       " ('volkswagen', (973, 12)),\n",
       " ('peugot', (1098, 11)),\n",
       " ('audi', (687, 6)),\n",
       " ('bmw', (1111, 8)),\n",
       " ('mercury', ('175', 1)),\n",
       " ('porsche', (764, 4))]"
      ]
     },
     "execution_count": 22,
     "metadata": {},
     "output_type": "execute_result"
    }
   ],
   "source": [
    "manufacturers.collect()"
   ]
  },
  {
   "cell_type": "markdown",
   "metadata": {},
   "source": [
    "**Calculation HP average by manufacturer**"
   ]
  },
  {
   "cell_type": "code",
   "execution_count": 24,
   "metadata": {},
   "outputs": [
    {
     "data": {
      "text/plain": [
       "[('chevrolet', 62.67),\n",
       " ('mazda', 86.88),\n",
       " ('mitsubishi', 104.08),\n",
       " ('nissan', 102.56),\n",
       " ('dodge', 84.38),\n",
       " ('plymouth', 86.71),\n",
       " ('saab', 126.67),\n",
       " ('volvo', 128.0),\n",
       " ('alfa-romero', 125.33),\n",
       " ('mercedes-benz', 146.25),\n",
       " ('jaguar', 204.67),\n",
       " ('subaru', 86.25),\n",
       " ('toyota', 92.78),\n",
       " ('honda', 80.23),\n",
       " ('isuzu', 84.0),\n",
       " ('volkswagen', 81.08),\n",
       " ('peugot', 99.82),\n",
       " ('audi', 114.5),\n",
       " ('bmw', 138.88),\n",
       " ('mercury', 175.0),\n",
       " ('porsche', 191.0)]"
      ]
     },
     "execution_count": 24,
     "metadata": {},
     "output_type": "execute_result"
    }
   ],
   "source": [
    "manufacturers.mapValues(lambda value: round(int(value[0]) / int(value[1]), 2)).collect()"
   ]
  },
  {
   "cell_type": "code",
   "execution_count": null,
   "metadata": {},
   "outputs": [],
   "source": []
  },
  {
   "cell_type": "code",
   "execution_count": null,
   "metadata": {},
   "outputs": [],
   "source": []
  },
  {
   "cell_type": "code",
   "execution_count": null,
   "metadata": {},
   "outputs": [],
   "source": []
  },
  {
   "cell_type": "code",
   "execution_count": null,
   "metadata": {},
   "outputs": [],
   "source": []
  },
  {
   "cell_type": "code",
   "execution_count": null,
   "metadata": {},
   "outputs": [],
   "source": []
  },
  {
   "cell_type": "code",
   "execution_count": null,
   "metadata": {},
   "outputs": [],
   "source": []
  },
  {
   "cell_type": "code",
   "execution_count": null,
   "metadata": {},
   "outputs": [],
   "source": []
  },
  {
   "cell_type": "code",
   "execution_count": null,
   "metadata": {},
   "outputs": [],
   "source": []
  }
 ],
 "metadata": {
  "kernelspec": {
   "display_name": "Python 3",
   "language": "python",
   "name": "python3"
  },
  "language_info": {
   "codemirror_mode": {
    "name": "ipython",
    "version": 3
   },
   "file_extension": ".py",
   "mimetype": "text/x-python",
   "name": "python",
   "nbconvert_exporter": "python",
   "pygments_lexer": "ipython3",
   "version": "3.8.3"
  }
 },
 "nbformat": 4,
 "nbformat_minor": 4
}
