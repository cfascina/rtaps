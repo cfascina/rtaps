{
 "cells": [
  {
   "cell_type": "markdown",
   "metadata": {},
   "source": [
    "On this website you can validate the structure of a JSON file: http://jsonlint.com/"
   ]
  },
  {
   "cell_type": "code",
   "execution_count": 1,
   "metadata": {},
   "outputs": [],
   "source": [
    "from pyspark.sql import SparkSession"
   ]
  },
  {
   "cell_type": "code",
   "execution_count": 2,
   "metadata": {},
   "outputs": [],
   "source": [
    "spSession = SparkSession.builder.master('local').appName('appSparkSql').getOrCreate()"
   ]
  },
  {
   "cell_type": "code",
   "execution_count": 3,
   "metadata": {},
   "outputs": [],
   "source": [
    "dfEmployees = spSession.read.json('aux/datasets/employees.json')"
   ]
  },
  {
   "cell_type": "code",
   "execution_count": 4,
   "metadata": {},
   "outputs": [
    {
     "name": "stdout",
     "output_type": "stream",
     "text": [
      "+---+------+------+----------------+------+\n",
      "|age|gender|id_dep|            name|salary|\n",
      "+---+------+------+----------------+------+\n",
      "| 42|     M|     1|  Gilmar Rezende|  5100|\n",
      "| 50|     M|     2|  Matias Tavares|  8500|\n",
      "| 36|     M|     1|   Paulo Miranda|  9700|\n",
      "| 41|     F|     1|Ana Paula Soares|  9500|\n",
      "| 34|     F|     2|   Carolina Maia|  6500|\n",
      "+---+------+------+----------------+------+\n",
      "\n"
     ]
    }
   ],
   "source": [
    "dfEmployees.show()"
   ]
  },
  {
   "cell_type": "code",
   "execution_count": 5,
   "metadata": {},
   "outputs": [
    {
     "name": "stdout",
     "output_type": "stream",
     "text": [
      "root\n",
      " |-- age: string (nullable = true)\n",
      " |-- gender: string (nullable = true)\n",
      " |-- id_dep: string (nullable = true)\n",
      " |-- name: string (nullable = true)\n",
      " |-- salary: string (nullable = true)\n",
      "\n"
     ]
    }
   ],
   "source": [
    "dfEmployees.printSchema()"
   ]
  },
  {
   "cell_type": "code",
   "execution_count": 6,
   "metadata": {},
   "outputs": [
    {
     "name": "stdout",
     "output_type": "stream",
     "text": [
      "+----------------+\n",
      "|            name|\n",
      "+----------------+\n",
      "|  Gilmar Rezende|\n",
      "|  Matias Tavares|\n",
      "|   Paulo Miranda|\n",
      "|Ana Paula Soares|\n",
      "|   Carolina Maia|\n",
      "+----------------+\n",
      "\n"
     ]
    }
   ],
   "source": [
    "dfEmployees.select('name').show()"
   ]
  },
  {
   "cell_type": "code",
   "execution_count": 7,
   "metadata": {},
   "outputs": [
    {
     "name": "stdout",
     "output_type": "stream",
     "text": [
      "+---+------+------+----------------+------+\n",
      "|age|gender|id_dep|            name|salary|\n",
      "+---+------+------+----------------+------+\n",
      "| 50|     M|     2|  Matias Tavares|  8500|\n",
      "| 42|     M|     1|  Gilmar Rezende|  5100|\n",
      "| 41|     F|     1|Ana Paula Soares|  9500|\n",
      "+---+------+------+----------------+------+\n",
      "\n"
     ]
    }
   ],
   "source": [
    "dfEmployees.filter(dfEmployees['age'] > 40).orderBy(dfEmployees['age']).sort(dfEmployees['age'].desc()).show()"
   ]
  },
  {
   "cell_type": "code",
   "execution_count": 8,
   "metadata": {},
   "outputs": [
    {
     "name": "stdout",
     "output_type": "stream",
     "text": [
      "+------+-----+\n",
      "|gender|count|\n",
      "+------+-----+\n",
      "|     F|    2|\n",
      "|     M|    3|\n",
      "+------+-----+\n",
      "\n"
     ]
    }
   ],
   "source": [
    "dfEmployees.groupBy('gender').count().show()"
   ]
  },
  {
   "cell_type": "code",
   "execution_count": 9,
   "metadata": {},
   "outputs": [
    {
     "name": "stdout",
     "output_type": "stream",
     "text": [
      "+------+-----------+--------+\n",
      "|id_dep|avg(salary)|max(age)|\n",
      "+------+-----------+--------+\n",
      "|     1|     8100.0|      42|\n",
      "|     2|     7500.0|      50|\n",
      "+------+-----------+--------+\n",
      "\n"
     ]
    }
   ],
   "source": [
    "dfEmployees.groupBy('id_dep').agg({'salary': 'avg', 'age': 'max'}).show()"
   ]
  },
  {
   "cell_type": "code",
   "execution_count": 10,
   "metadata": {},
   "outputs": [],
   "source": [
    "dfEmployees.registerTempTable('tt_employees')"
   ]
  },
  {
   "cell_type": "code",
   "execution_count": 11,
   "metadata": {},
   "outputs": [
    {
     "name": "stdout",
     "output_type": "stream",
     "text": [
      "+------+-------+----------+\n",
      "|id_dep|MAX_AGE|SALARY_AVG|\n",
      "+------+-------+----------+\n",
      "|     1|     42|    8100.0|\n",
      "|     2|     50|    7500.0|\n",
      "+------+-------+----------+\n",
      "\n"
     ]
    }
   ],
   "source": [
    "spSession.sql(\" \\\n",
    "    SELECT \\\n",
    "        id_dep, \\\n",
    "        MAX(age) AS MAX_AGE, \\\n",
    "        AVG(salary) AS SALARY_AVG \\\n",
    "    FROM tt_employees \\\n",
    "    GROUP BY id_dep\").show()"
   ]
  }
 ],
 "metadata": {
  "kernelspec": {
   "display_name": "Python 3",
   "language": "python",
   "name": "python3"
  },
  "language_info": {
   "codemirror_mode": {
    "name": "ipython",
    "version": 3
   },
   "file_extension": ".py",
   "mimetype": "text/x-python",
   "name": "python",
   "nbconvert_exporter": "python",
   "pygments_lexer": "ipython3",
   "version": "3.8.3"
  }
 },
 "nbformat": 4,
 "nbformat_minor": 4
}
