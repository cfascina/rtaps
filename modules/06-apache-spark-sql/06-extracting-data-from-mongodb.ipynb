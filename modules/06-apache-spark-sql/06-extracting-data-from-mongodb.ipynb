{
 "cells": [
  {
   "cell_type": "markdown",
   "metadata": {},
   "source": [
    "## Extracting Data from MongoDB"
   ]
  },
  {
   "cell_type": "markdown",
   "metadata": {},
   "source": [
    "1. Spark Connector: https://docs.mongodb.com/spark-connector/current/\n",
    "2. Mongo Spark: https://spark-packages.org/package/mongodb/mongo-spark\n",
    "3. Launch Jupyter Notebook with PySpark and MongoDB: **$SPARK_HOME/bin/pyspark --packages org.mongodb.spark:mongo-spark-connector_2.12:3.0.0**"
   ]
  },
  {
   "cell_type": "code",
   "execution_count": 1,
   "metadata": {},
   "outputs": [],
   "source": [
    "from pyspark.sql import SparkSession"
   ]
  },
  {
   "cell_type": "markdown",
   "metadata": {},
   "source": [
    "**Creating the Spark Session**"
   ]
  },
  {
   "cell_type": "code",
   "execution_count": 2,
   "metadata": {},
   "outputs": [],
   "source": [
    "# my_spark = SparkSession \\\n",
    "#     .builder \\\n",
    "#     .appName(\"myApp\") \\\n",
    "#     .config(\"spark.mongodb.input.uri\", \"mongodb://localhost/store.clothes\") \\\n",
    "#     .config(\"spark.mongodb.output.uri\", \"mongodb://localhost/store.clothes\") \\\n",
    "#     .getOrCreate()"
   ]
  },
  {
   "cell_type": "code",
   "execution_count": 3,
   "metadata": {},
   "outputs": [],
   "source": [
    "# df = spark.read.format('com.mongodb.spark.sql.DefaultSource').load()"
   ]
  },
  {
   "cell_type": "markdown",
   "metadata": {},
   "source": [
    "**Reading Data**"
   ]
  },
  {
   "cell_type": "code",
   "execution_count": 4,
   "metadata": {},
   "outputs": [],
   "source": [
    "data = spark.read.format(\"mongo\").option(\"uri\", \"mongodb://localhost/store.clothes\").load()"
   ]
  },
  {
   "cell_type": "code",
   "execution_count": 5,
   "metadata": {},
   "outputs": [
    {
     "name": "stdout",
     "output_type": "stream",
     "text": [
      "root\n",
      " |-- _id: struct (nullable = true)\n",
      " |    |-- oid: string (nullable = true)\n",
      " |-- item: string (nullable = true)\n",
      " |-- qty: double (nullable = true)\n",
      " |-- size: struct (nullable = true)\n",
      " |    |-- h: double (nullable = true)\n",
      " |    |-- w: double (nullable = true)\n",
      " |    |-- uom: string (nullable = true)\n",
      " |-- tags: array (nullable = true)\n",
      " |    |-- element: string (containsNull = true)\n",
      "\n"
     ]
    }
   ],
   "source": [
    "data.printSchema()"
   ]
  },
  {
   "cell_type": "code",
   "execution_count": 6,
   "metadata": {},
   "outputs": [
    {
     "data": {
      "text/plain": [
       "4"
      ]
     },
     "execution_count": 6,
     "metadata": {},
     "output_type": "execute_result"
    }
   ],
   "source": [
    "data.count()"
   ]
  },
  {
   "cell_type": "code",
   "execution_count": 7,
   "metadata": {},
   "outputs": [
    {
     "data": {
      "text/plain": [
       "Row(_id=Row(oid='5f50f2a029127016b1ffe361'), item='Shirt', qty=25.0, size=Row(h=14.0, w=21.0, uom='cm'), tags=['white', 'red'])"
      ]
     },
     "execution_count": 7,
     "metadata": {},
     "output_type": "execute_result"
    }
   ],
   "source": [
    "data.head()"
   ]
  },
  {
   "cell_type": "code",
   "execution_count": 8,
   "metadata": {},
   "outputs": [
    {
     "name": "stdout",
     "output_type": "stream",
     "text": [
      "+--------------------+-----+----+-----------------+-------------+\n",
      "|                 _id| item| qty|             size|         tags|\n",
      "+--------------------+-----+----+-----------------+-------------+\n",
      "|[5f50f2a029127016...|Shirt|25.0| [14.0, 21.0, cm]| [white, red]|\n",
      "|[5f50f2a029127016...|Dress|85.0| [27.9, 35.5, cm]|       [gray]|\n",
      "|[5f50f2a029127016...|Pants|45.0|[19.0, 22.85, cm]|[green, blue]|\n",
      "|[5f5172a1d7877900...|Shoes|30.0|             null|         null|\n",
      "+--------------------+-----+----+-----------------+-------------+\n",
      "\n"
     ]
    }
   ],
   "source": [
    "data.show()"
   ]
  },
  {
   "cell_type": "markdown",
   "metadata": {},
   "source": [
    "**Inserting Data**"
   ]
  },
  {
   "cell_type": "code",
   "execution_count": 9,
   "metadata": {},
   "outputs": [],
   "source": [
    "newItem = spark.createDataFrame([(\"Purse\", 40)], [\"item\", \"qty\"])"
   ]
  },
  {
   "cell_type": "code",
   "execution_count": 10,
   "metadata": {},
   "outputs": [],
   "source": [
    "newItem.write.format(\"mongo\").option(\"uri\", \"mongodb://localhost/store.clothes\").mode(\"append\").save()"
   ]
  },
  {
   "cell_type": "code",
   "execution_count": 11,
   "metadata": {},
   "outputs": [
    {
     "name": "stdout",
     "output_type": "stream",
     "text": [
      "+--------------------+-----+----+-----------------+-------------+\n",
      "|                 _id| item| qty|             size|         tags|\n",
      "+--------------------+-----+----+-----------------+-------------+\n",
      "|[5f50f2a029127016...|Shirt|25.0| [14.0, 21.0, cm]| [white, red]|\n",
      "|[5f50f2a029127016...|Dress|85.0| [27.9, 35.5, cm]|       [gray]|\n",
      "|[5f50f2a029127016...|Pants|45.0|[19.0, 22.85, cm]|[green, blue]|\n",
      "|[5f5172a1d7877900...|Shoes|30.0|             null|         null|\n",
      "|[5f51738fddd1653e...|Purse|40.0|             null|         null|\n",
      "+--------------------+-----+----+-----------------+-------------+\n",
      "\n"
     ]
    }
   ],
   "source": [
    "data.show()"
   ]
  }
 ],
 "metadata": {
  "kernelspec": {
   "display_name": "Python 3",
   "language": "python",
   "name": "python3"
  },
  "language_info": {
   "codemirror_mode": {
    "name": "ipython",
    "version": 3
   },
   "file_extension": ".py",
   "mimetype": "text/x-python",
   "name": "python",
   "nbconvert_exporter": "python",
   "pygments_lexer": "ipython3",
   "version": "3.8.3"
  }
 },
 "nbformat": 4,
 "nbformat_minor": 4
}
