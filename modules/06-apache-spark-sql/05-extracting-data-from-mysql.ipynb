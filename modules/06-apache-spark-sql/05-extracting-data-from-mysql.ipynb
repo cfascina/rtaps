{
 "cells": [
  {
   "cell_type": "markdown",
   "metadata": {},
   "source": [
    "## Extracting Data from MySQL "
   ]
  },
  {
   "cell_type": "markdown",
   "metadata": {},
   "source": [
    "First you need to download the JDBC driver. There are different JDBC drivers for each database (Oracle, SQL Server, etc.)"
   ]
  },
  {
   "cell_type": "markdown",
   "metadata": {},
   "source": [
    "1. MySQL JDBC driver download link: http://dev.mysql.com/downloads/connector/j/\n",
    "2. Download de **.zip** file.\n",
    "3. Unzip and copy the **mysql-connector-java-8.0.16.jar** file to the **/opt/spark/jars** folder (Linux and MacOS) or to the **C:\\Spark\\jars** folder (Windows)."
   ]
  },
  {
   "cell_type": "code",
   "execution_count": 1,
   "metadata": {},
   "outputs": [],
   "source": [
    "from pyspark.sql import SparkSession\n",
    "from pyspark.sql import SQLContext"
   ]
  },
  {
   "cell_type": "code",
   "execution_count": 2,
   "metadata": {},
   "outputs": [],
   "source": [
    "spSession = SparkSession.builder.master('local').appName('appSparkSql').getOrCreate()"
   ]
  },
  {
   "cell_type": "code",
   "execution_count": 3,
   "metadata": {},
   "outputs": [],
   "source": [
    "sqlContext = SQLContext(sc)"
   ]
  },
  {
   "cell_type": "code",
   "execution_count": 4,
   "metadata": {},
   "outputs": [],
   "source": [
    "dfMySql = spSession.read.format('jdbc').options(\n",
    "    url = 'jdbc:mysql://localhost/db_cars',\n",
    "    serverTimexone = 'UTC',\n",
    "    driver = 'com.mysql.jdbc.Driver',\n",
    "    dbtable = 'cars',\n",
    "    user = 'root',\n",
    "    password = 'root@123'\n",
    ").load()"
   ]
  },
  {
   "cell_type": "code",
   "execution_count": 5,
   "metadata": {},
   "outputs": [
    {
     "name": "stdout",
     "output_type": "stream",
     "text": [
      "+------------+---------+------+-----+---------+--------+---------+---+----+--------+-----------+-----+\n",
      "|manufacturer|fuel_type|aspire|doors| category|traction|cylinders| hp| rpm|mpg_city|mpg_highway|price|\n",
      "+------------+---------+------+-----+---------+--------+---------+---+----+--------+-----------+-----+\n",
      "|      subaru|      gas|   std|  two|hatchback|     fwd|     four| 69|4900|      31|         36| 5118|\n",
      "|   chevrolet|      gas|   std|  two|hatchback|     fwd|    three| 48|5100|      47|         53| 5151|\n",
      "|       mazda|      gas|   std|  two|hatchback|     fwd|     four| 68|5000|      30|         31| 5195|\n",
      "|      toyota|      gas|   std|  two|hatchback|     fwd|     four| 62|4800|      35|         39| 5348|\n",
      "|  mitsubishi|      gas|   std|  two|hatchback|     fwd|     four| 68|5500|      37|         41| 5389|\n",
      "|       honda|      gas|   std|  two|hatchback|     fwd|     four| 60|5500|      38|         42| 5399|\n",
      "|      nissan|      gas|   std|  two|    sedan|     fwd|     four| 69|5200|      31|         37| 5499|\n",
      "|       dodge|      gas|   std|  two|hatchback|     fwd|     four| 68|5500|      37|         41| 5572|\n",
      "|    plymouth|      gas|   std|  two|hatchback|     fwd|     four| 68|5500|      37|         41| 5572|\n",
      "|       mazda|      gas|   std|  two|hatchback|     fwd|     four| 68|5000|      31|         38| 6095|\n",
      "+------------+---------+------+-----+---------+--------+---------+---+----+--------+-----------+-----+\n",
      "only showing top 10 rows\n",
      "\n"
     ]
    }
   ],
   "source": [
    "dfMySql.show(10)"
   ]
  },
  {
   "cell_type": "code",
   "execution_count": 6,
   "metadata": {},
   "outputs": [],
   "source": [
    "dfMySql.registerTempTable('tt_cars')"
   ]
  },
  {
   "cell_type": "code",
   "execution_count": 7,
   "metadata": {},
   "outputs": [
    {
     "name": "stdout",
     "output_type": "stream",
     "text": [
      "+-------------+---------+------+-----+-----------+--------+---------+---+----+--------+-----------+-----+\n",
      "| manufacturer|fuel_type|aspire|doors|   category|traction|cylinders| hp| rpm|mpg_city|mpg_highway|price|\n",
      "+-------------+---------+------+-----+-----------+--------+---------+---+----+--------+-----------+-----+\n",
      "|       nissan|      gas| turbo|  two|  hatchback|     rwd|      six|200|5200|      17|         23|19699|\n",
      "|          bmw|      gas|   std| four|      sedan|     rwd|      six|182|5400|      16|         22|30760|\n",
      "|      porsche|      gas|   std|  two|    hardtop|     rwd|      six|207|5900|      17|         25|32528|\n",
      "|      porsche|      gas|   std|  two|    hardtop|     rwd|      six|207|5900|      17|         25|34028|\n",
      "|       jaguar|      gas|   std|  two|      sedan|     rwd|   twelve|262|5000|      13|         17|36000|\n",
      "|          bmw|      gas|   std| four|      sedan|     rwd|      six|182|5400|      15|         20|36880|\n",
      "|      porsche|      gas|   std|  two|convertible|     rwd|      six|207|5900|      17|         25|37028|\n",
      "|mercedes-benz|      gas|   std| four|      sedan|     rwd|    eight|184|4500|      14|         16|40960|\n",
      "|          bmw|      gas|   std|  two|      sedan|     rwd|      six|182|5400|      16|         22|41315|\n",
      "|mercedes-benz|      gas|   std|  two|    hardtop|     rwd|    eight|184|4500|      14|         16|45400|\n",
      "+-------------+---------+------+-----+-----------+--------+---------+---+----+--------+-----------+-----+\n",
      "\n"
     ]
    }
   ],
   "source": [
    "sqlContext.sql(\"SELECT * FROM tt_cars WHERE hp > 180\").show()"
   ]
  }
 ],
 "metadata": {
  "kernelspec": {
   "display_name": "Python 3",
   "language": "python",
   "name": "python3"
  },
  "language_info": {
   "codemirror_mode": {
    "name": "ipython",
    "version": 3
   },
   "file_extension": ".py",
   "mimetype": "text/x-python",
   "name": "python",
   "nbconvert_exporter": "python",
   "pygments_lexer": "ipython3",
   "version": "3.8.3"
  }
 },
 "nbformat": 4,
 "nbformat_minor": 4
}
