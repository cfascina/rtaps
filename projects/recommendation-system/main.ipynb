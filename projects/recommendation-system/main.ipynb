{
 "cells": [
  {
   "cell_type": "markdown",
   "metadata": {},
   "source": [
    "### Recommendation System"
   ]
  },
  {
   "cell_type": "markdown",
   "metadata": {},
   "source": [
    "**Description**"
   ]
  },
  {
   "cell_type": "markdown",
   "metadata": {},
   "source": [
    "- Also called collaborative filters.\n",
    "- Analyzes past data to understand behaviors of people/entities.\n",
    "- The recommendation is made by similar behavior.\n",
    "- The recommendation is based on users or items.\n",
    "- Recommendation algorithms expect to receive data in a specific format: [user_id, item_id, score].\n",
    "- The score (rating) indicates a user's preference for an item. They can be boolean values, ratings or even sales volume."
   ]
  },
  {
   "cell_type": "code",
   "execution_count": 1,
   "metadata": {},
   "outputs": [],
   "source": [
    "from pyspark.ml.recommendation import ALS"
   ]
  },
  {
   "cell_type": "code",
   "execution_count": 2,
   "metadata": {},
   "outputs": [],
   "source": [
    "spSession = SparkSession.builder.master('local').appName('RecommendationSystem').getOrCreate()"
   ]
  },
  {
   "cell_type": "code",
   "execution_count": 3,
   "metadata": {},
   "outputs": [],
   "source": [
    "rddRatings = sc.textFile('aux/datasets/ratings.txt')"
   ]
  },
  {
   "cell_type": "code",
   "execution_count": 4,
   "metadata": {},
   "outputs": [
    {
     "data": {
      "text/plain": [
       "aux/datasets/ratings.txt MapPartitionsRDD[1] at textFile at NativeMethodAccessorImpl.java:0"
      ]
     },
     "execution_count": 4,
     "metadata": {},
     "output_type": "execute_result"
    }
   ],
   "source": [
    "rddRatings.cache()"
   ]
  },
  {
   "cell_type": "code",
   "execution_count": 5,
   "metadata": {},
   "outputs": [
    {
     "data": {
      "text/plain": [
       "38"
      ]
     },
     "execution_count": 5,
     "metadata": {},
     "output_type": "execute_result"
    }
   ],
   "source": [
    "rddRatings.count()"
   ]
  },
  {
   "cell_type": "code",
   "execution_count": 6,
   "metadata": {},
   "outputs": [
    {
     "data": {
      "text/plain": [
       "['1001,9001,10', '1001,9002,1', '1001,9003,9', '1002,9001,3', '1002,9002,5']"
      ]
     },
     "execution_count": 6,
     "metadata": {},
     "output_type": "execute_result"
    }
   ],
   "source": [
    "rddRatings.take(5)"
   ]
  },
  {
   "cell_type": "code",
   "execution_count": 7,
   "metadata": {},
   "outputs": [],
   "source": [
    "rddRatings02 = \\\n",
    "    rddRatings.map(\n",
    "        lambda line: line.split(',')\n",
    "    ).map(\n",
    "        lambda line: (\n",
    "            int(line[0]), \n",
    "            int(line[1]), \n",
    "            float(line[2])\n",
    "        )\n",
    "    )"
   ]
  },
  {
   "cell_type": "code",
   "execution_count": 8,
   "metadata": {},
   "outputs": [],
   "source": [
    "dfRatings = spSession.createDataFrame(rddRatings02, ['user', 'item', 'rating'])"
   ]
  },
  {
   "cell_type": "code",
   "execution_count": 9,
   "metadata": {},
   "outputs": [
    {
     "name": "stdout",
     "output_type": "stream",
     "text": [
      "+----+----+------+\n",
      "|user|item|rating|\n",
      "+----+----+------+\n",
      "|1001|9001|  10.0|\n",
      "|1001|9002|   1.0|\n",
      "|1001|9003|   9.0|\n",
      "|1002|9001|   3.0|\n",
      "|1002|9002|   5.0|\n",
      "+----+----+------+\n",
      "only showing top 5 rows\n",
      "\n"
     ]
    }
   ],
   "source": [
    "dfRatings.show(5)"
   ]
  },
  {
   "cell_type": "markdown",
   "metadata": {},
   "source": [
    "**ALS (Alternating Least Squares)**<br />\n",
    "Algorithm for recommendation system, which optimizes the loss function and works very well in parallelized environments."
   ]
  },
  {
   "cell_type": "code",
   "execution_count": 10,
   "metadata": {},
   "outputs": [],
   "source": [
    "als = ALS(rank = 10, maxIter = 5)"
   ]
  },
  {
   "cell_type": "code",
   "execution_count": 11,
   "metadata": {},
   "outputs": [],
   "source": [
    "model = als.fit(dfRatings)"
   ]
  },
  {
   "cell_type": "markdown",
   "metadata": {},
   "source": [
    "**Affinity Score**"
   ]
  },
  {
   "cell_type": "code",
   "execution_count": 12,
   "metadata": {},
   "outputs": [
    {
     "data": {
      "text/plain": [
       "[Row(id=1001, features=[-1.020338773727417, 0.15884457528591156, 0.43435177206993103, 0.42108067870140076, -0.08316300064325333, -0.22315619885921478, 0.43449509143829346, -0.016361376270651817, -0.09652017056941986, 1.2523633241653442]),\n",
       " Row(id=1002, features=[-0.7278647422790527, -0.3039030432701111, -1.4372807741165161, 0.4101669490337372, -0.20219333469867706, 0.30689162015914917, 0.2394382208585739, -0.31496909260749817, -0.42265287041664124, -0.5618031024932861]),\n",
       " Row(id=1003, features=[-0.2754066288471222, -0.02016931213438511, -1.2622171640396118, 0.6222057938575745, -0.3387295603752136, 0.6792862415313721, -0.059917986392974854, 0.23600462079048157, -0.24518680572509766, -0.4790261387825012]),\n",
       " Row(id=1004, features=[-1.1808589696884155, -0.198384091258049, 0.1094837412238121, 0.714041531085968, -0.03430582955479622, -0.05891014635562897, 0.40418773889541626, -0.05229669436812401, -0.19879166781902313, 0.6823390126228333]),\n",
       " Row(id=1005, features=[-0.520517110824585, 0.5383255481719971, -0.4068520665168762, 0.03908100724220276, -0.347207635641098, -0.015325088985264301, 0.27017906308174133, 0.025252632796764374, -0.2160266637802124, 1.1690857410430908])]"
      ]
     },
     "execution_count": 12,
     "metadata": {},
     "output_type": "execute_result"
    }
   ],
   "source": [
    "model.userFactors.orderBy('id').take(5)"
   ]
  },
  {
   "cell_type": "code",
   "execution_count": 13,
   "metadata": {},
   "outputs": [],
   "source": [
    "dfTest = spSession.createDataFrame([(1001, 9003), (1001, 9004), (1001, 9005)], ['user', 'item'])"
   ]
  },
  {
   "cell_type": "code",
   "execution_count": 14,
   "metadata": {},
   "outputs": [
    {
     "name": "stdout",
     "output_type": "stream",
     "text": [
      "+----+----+\n",
      "|user|item|\n",
      "+----+----+\n",
      "|1001|9003|\n",
      "|1001|9004|\n",
      "|1001|9005|\n",
      "+----+----+\n",
      "\n"
     ]
    }
   ],
   "source": [
    "dfTest.show()"
   ]
  },
  {
   "cell_type": "code",
   "execution_count": 15,
   "metadata": {},
   "outputs": [],
   "source": [
    "predictions = model.transform(dfTest)"
   ]
  },
  {
   "cell_type": "code",
   "execution_count": 16,
   "metadata": {},
   "outputs": [
    {
     "data": {
      "text/plain": [
       "[Row(user=1001, item=9004, prediction=-0.6660881042480469),\n",
       " Row(user=1001, item=9005, prediction=-2.7070765495300293),\n",
       " Row(user=1001, item=9003, prediction=9.008316993713379)]"
      ]
     },
     "execution_count": 16,
     "metadata": {},
     "output_type": "execute_result"
    }
   ],
   "source": [
    "predictions.collect()"
   ]
  }
 ],
 "metadata": {
  "kernelspec": {
   "display_name": "Python 3",
   "language": "python",
   "name": "python3"
  },
  "language_info": {
   "codemirror_mode": {
    "name": "ipython",
    "version": 3
   },
   "file_extension": ".py",
   "mimetype": "text/x-python",
   "name": "python",
   "nbconvert_exporter": "python",
   "pygments_lexer": "ipython3",
   "version": "3.8.3"
  }
 },
 "nbformat": 4,
 "nbformat_minor": 4
}
